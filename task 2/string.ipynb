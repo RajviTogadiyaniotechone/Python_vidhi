{
 "cells": [
  {
   "cell_type": "code",
   "execution_count": 9,
   "metadata": {},
   "outputs": [
    {
     "name": "stdout",
     "output_type": "stream",
     "text": [
      "hello world\n",
      "l\n",
      "11\n"
     ]
    }
   ],
   "source": [
    "a = \"hello world\"\n",
    "print(a)\n",
    "print(a[2])\n",
    "print(len(a))"
   ]
  },
  {
   "cell_type": "code",
   "execution_count": 7,
   "metadata": {},
   "outputs": [
    {
     "name": "stdout",
     "output_type": "stream",
     "text": [
      "a\n",
      "p\n",
      "p\n",
      "l\n",
      "e\n"
     ]
    }
   ],
   "source": [
    "x = \"apple\"\n",
    "for x  in \"apple\" :\n",
    "    print(x)\n"
   ]
  },
  {
   "cell_type": "markdown",
   "metadata": {},
   "source": [
    "# check the string"
   ]
  },
  {
   "cell_type": "code",
   "execution_count": 45,
   "metadata": {},
   "outputs": [
    {
     "name": "stdout",
     "output_type": "stream",
     "text": [
      "True\n",
      "False\n",
      "yes , 'free' is present\n",
      "True\n",
      "no , 'of' is not present\n"
     ]
    }
   ],
   "source": [
    "txt = \"The best things in life are free!\"\n",
    "print(\"life\" in txt)\n",
    "print(\"of\" in txt)\n",
    "\n",
    "if  \"free\" in txt:\n",
    "    print(\"yes , 'free' is present\") \n",
    "\n",
    "print(\"expensive\" not in txt)\n",
    "\n",
    "if \"of\" not in txt :\n",
    "    print(\"no , 'of' is not present\")\n"
   ]
  },
  {
   "cell_type": "code",
   "execution_count": 46,
   "metadata": {},
   "outputs": [
    {
     "name": "stdout",
     "output_type": "stream",
     "text": [
      "good morning\n",
      "od m\n",
      "good mo\n",
      "od morning\n",
      " morning\n"
     ]
    }
   ],
   "source": [
    "b = \"good morning\"\n",
    "print(b)\n",
    "print(b[2:6])\n",
    "print(b[:7])\n",
    "print(b[2:])\n",
    "print(b[-8:])"
   ]
  },
  {
   "cell_type": "markdown",
   "metadata": {},
   "source": [
    "Mehtods of strings\n"
   ]
  },
  {
   "cell_type": "code",
   "execution_count": 47,
   "metadata": {},
   "outputs": [
    {
     "name": "stdout",
     "output_type": "stream",
     "text": [
      "   HELLO WORLD  \n",
      "False\n",
      "False\n",
      "True\n",
      "hello world\n",
      "   Jello world  \n",
      "['hello', 'world']\n",
      "                    hello world                   \n",
      "2\n",
      "1\n"
     ]
    }
   ],
   "source": [
    "a = \"   hello world  \"\n",
    "print(a.upper())\n",
    "print(a.isalpha())\n",
    "print(a.isupper())\n",
    "print(a.islower())\n",
    "print(a.strip()) #remove white space form  beginning or the end\n",
    "print(a.replace(\"h\", \"J\"))\n",
    "print(a.split())# split the world\n",
    "print(a.center(50))\n",
    "print(a.count(\"o\"))\n",
    "b = \"hello\"\n",
    "print(b.find(\"e\"))"
   ]
  },
  {
   "cell_type": "markdown",
   "metadata": {},
   "source": [
    "concate the string"
   ]
  },
  {
   "cell_type": "code",
   "execution_count": 48,
   "metadata": {},
   "outputs": [
    {
     "name": "stdout",
     "output_type": "stream",
     "text": [
      "good morning\n"
     ]
    }
   ],
   "source": [
    "a = \"good \"\n",
    "b = \"morning\"\n",
    "c = a + b \n",
    "print(c)"
   ]
  },
  {
   "cell_type": "markdown",
   "metadata": {},
   "source": [
    "formate the string"
   ]
  },
  {
   "cell_type": "code",
   "execution_count": 49,
   "metadata": {},
   "outputs": [
    {
     "name": "stdout",
     "output_type": "stream",
     "text": [
      "my name is riya, and i am 22 year old\n",
      "the price is 1180 dollars\n"
     ]
    }
   ],
   "source": [
    "age = 22\n",
    "txt = f\"my name is riya, and i am {age} year old\"\n",
    "print(txt)\n",
    "\n",
    "t = f\"the price is {20 * 59} dollars\"\n",
    "print(t)"
   ]
  },
  {
   "cell_type": "markdown",
   "metadata": {},
   "source": [
    "boolean"
   ]
  },
  {
   "cell_type": "code",
   "execution_count": 51,
   "metadata": {},
   "outputs": [
    {
     "name": "stdout",
     "output_type": "stream",
     "text": [
      "True\n",
      "False\n",
      "False\n",
      "True\n",
      "True\n"
     ]
    }
   ],
   "source": [
    "print(10 == 10)\n",
    "print(10 == 8)\n",
    "print(10 < 6)\n",
    "print(10 > 9 )\n",
    "print(bool(\"Hello\"))\n"
   ]
  },
  {
   "cell_type": "code",
   "execution_count": 52,
   "metadata": {},
   "outputs": [
    {
     "name": "stdout",
     "output_type": "stream",
     "text": [
      "a is less than b\n"
     ]
    }
   ],
   "source": [
    "a = 100\n",
    "b = 50\n",
    "\n",
    "if a<b:\n",
    "    print(\"a is greater than b\")\n",
    "else :\n",
    "    print(\"a is less than b\")"
   ]
  }
 ],
 "metadata": {
  "kernelspec": {
   "display_name": "Python 3",
   "language": "python",
   "name": "python3"
  },
  "language_info": {
   "codemirror_mode": {
    "name": "ipython",
    "version": 3
   },
   "file_extension": ".py",
   "mimetype": "text/x-python",
   "name": "python",
   "nbconvert_exporter": "python",
   "pygments_lexer": "ipython3",
   "version": "3.12.6"
  }
 },
 "nbformat": 4,
 "nbformat_minor": 2
}
