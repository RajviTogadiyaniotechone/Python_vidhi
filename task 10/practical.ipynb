{
 "cells": [
  {
   "cell_type": "markdown",
   "metadata": {},
   "source": [
    "1 . Create two sets and find the common elements between them"
   ]
  },
  {
   "cell_type": "code",
   "execution_count": 3,
   "metadata": {},
   "outputs": [
    {
     "name": "stdout",
     "output_type": "stream",
     "text": [
      "common element is :: {'orange'}\n"
     ]
    }
   ],
   "source": [
    "set1 = {\"banana\",\"apple\",\"orange\"}\n",
    "set2 = {\"red\",\"green\",\"yellow\",\"orange\"}\n",
    "\n",
    "my_set = set1 & set2\n",
    "\n",
    "print(\"common element is ::\",my_set)"
   ]
  },
  {
   "cell_type": "markdown",
   "metadata": {},
   "source": [
    "2 .Write a program that removes duplicates from a list using sets. "
   ]
  },
  {
   "cell_type": "code",
   "execution_count": 16,
   "metadata": {},
   "outputs": [
    {
     "name": "stdout",
     "output_type": "stream",
     "text": [
      "[2, 'ford', 'orange', 'red', 22]\n"
     ]
    }
   ],
   "source": [
    "my_list = [\"orange\",2,22,2,\"ford\",\"orange\",\"red\"]\n",
    "\n",
    "new = list(set(my_list))\n",
    "\n",
    "print(new)"
   ]
  },
  {
   "cell_type": "markdown",
   "metadata": {},
   "source": [
    "3 .Write a program to perform union and intersection operations on sets."
   ]
  },
  {
   "cell_type": "code",
   "execution_count": 17,
   "metadata": {},
   "outputs": [
    {
     "name": "stdout",
     "output_type": "stream",
     "text": [
      "union :: {'red', 'green', 'apple', 'banana', 'orange', 'yellow'}\n",
      "intersection :: {'orange'}\n"
     ]
    }
   ],
   "source": [
    "set1 = {\"banana\",\"apple\",\"orange\"}\n",
    "set2 = {\"red\",\"green\",\"yellow\",\"orange\"}\n",
    "\n",
    "set_n = set1.union(set2)\n",
    "\n",
    "print(\"union ::\",set_n)\n",
    "\n",
    "set_n = set1.intersection(set2)\n",
    "\n",
    "print(\"intersection ::\",set_n)\n"
   ]
  }
 ],
 "metadata": {
  "kernelspec": {
   "display_name": "Python 3",
   "language": "python",
   "name": "python3"
  },
  "language_info": {
   "codemirror_mode": {
    "name": "ipython",
    "version": 3
   },
   "file_extension": ".py",
   "mimetype": "text/x-python",
   "name": "python",
   "nbconvert_exporter": "python",
   "pygments_lexer": "ipython3",
   "version": "3.12.6"
  }
 },
 "nbformat": 4,
 "nbformat_minor": 2
}
