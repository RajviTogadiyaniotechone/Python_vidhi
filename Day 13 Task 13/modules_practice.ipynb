{
 "cells": [
  {
   "cell_type": "markdown",
   "metadata": {},
   "source": [
    "Built-in modules"
   ]
  },
  {
   "cell_type": "markdown",
   "metadata": {},
   "source": [
    "platform module"
   ]
  },
  {
   "cell_type": "code",
   "execution_count": 3,
   "metadata": {},
   "outputs": [
    {
     "name": "stdout",
     "output_type": "stream",
     "text": [
      "Windows\n",
      "['_Processor', '_WIN32_CLIENT_RELEASES', '_WIN32_SERVER_RELEASES', '__builtins__', '__cached__', '__copyright__', '__doc__', '__file__', '__loader__', '__name__', '__package__', '__spec__', '__version__', '_comparable_version', '_default_architecture', '_follow_symlinks', '_get_machine_win32', '_java_getprop', '_mac_ver_xml', '_node', '_norm_version', '_os_release_cache', '_os_release_candidates', '_parse_os_release', '_platform', '_platform_cache', '_sys_version', '_sys_version_cache', '_syscmd_file', '_syscmd_ver', '_uname_cache', '_unknown_as_blank', '_ver_stages', '_win32_ver', '_wmi', '_wmi_query', 'architecture', 'collections', 'freedesktop_os_release', 'functools', 'itertools', 'java_ver', 'libc_ver', 'mac_ver', 'machine', 'node', 'os', 'platform', 'processor', 'python_branch', 'python_build', 'python_compiler', 'python_implementation', 'python_revision', 'python_version', 'python_version_tuple', 're', 'release', 'sys', 'system', 'system_alias', 'uname', 'uname_result', 'version', 'win32_edition', 'win32_is_iot', 'win32_ver']\n"
     ]
    }
   ],
   "source": [
    "import platform\n",
    "\n",
    "x = platform.system()\n",
    "print(x)\n",
    "\n",
    "#dir() function show a list of function name(variable name) in module\n",
    "y = dir(platform)\n",
    "print(y)"
   ]
  },
  {
   "cell_type": "markdown",
   "metadata": {},
   "source": [
    "math moule"
   ]
  },
  {
   "cell_type": "code",
   "execution_count": 25,
   "metadata": {},
   "outputs": [
    {
     "name": "stdout",
     "output_type": "stream",
     "text": [
      "ceiling value is :: 3\n",
      "Floor value is :: 5\n",
      "Pi values is :: 3.141592653589793\n",
      "The value of euler's number is : 2.718281828459045\n"
     ]
    }
   ],
   "source": [
    "import math\n",
    "\n",
    "x = math.ceil(2.2)\n",
    "y = math.floor(5.56)\n",
    "z = math.pi\n",
    "\n",
    "print(\"ceiling value is ::\",x)\n",
    "print(\"Floor value is ::\",y)\n",
    "print(\"Pi values is ::\",z)\n",
    "\n",
    "print(\"The value of euler's number is :\",math.e)"
   ]
  },
  {
   "cell_type": "markdown",
   "metadata": {},
   "source": [
    "Date module"
   ]
  },
  {
   "cell_type": "code",
   "execution_count": 18,
   "metadata": {},
   "outputs": [
    {
     "name": "stdout",
     "output_type": "stream",
     "text": [
      "2025-01-17 12:37:05.885710\n",
      "2025\n",
      "Friday\n",
      "2025-01-17 00:00:00\n"
     ]
    }
   ],
   "source": [
    "import datetime\n",
    "\n",
    "x = datetime.datetime.now()\n",
    "\n",
    "y = datetime.datetime(2025,1,17)\n",
    "print(x)\n",
    "\n",
    "print(x.year)\n",
    "print(x.strftime(\"%A\"))\n",
    "\n",
    "print(y)"
   ]
  },
  {
   "cell_type": "markdown",
   "metadata": {},
   "source": [
    "strftime() method"
   ]
  },
  {
   "cell_type": "code",
   "execution_count": 26,
   "metadata": {},
   "outputs": [
    {
     "name": "stdout",
     "output_type": "stream",
     "text": [
      "Fri\n",
      "Friday\n",
      "5\n",
      "01/17/25\n",
      "12:57:59\n",
      "Fri Jan 17 12:57:59 2025\n",
      "20\n",
      "02\n"
     ]
    }
   ],
   "source": [
    "import datetime\n",
    "\n",
    "x = datetime.datetime.now()\n",
    "\n",
    "print(x.strftime(\"%a\"))\n",
    "print(x.strftime(\"%A\"))\n",
    "print(x.strftime(\"%u\"))#day in digit\n",
    "print(x.strftime(\"%x\"))#m-d-y\n",
    "print(x.strftime(\"%X\"))\n",
    "print(x.strftime(\"%c\"))#local version of datetime\n",
    "print(x.strftime(\"%C\"))#century\n",
    "print(x.strftime(\"%W\"))#week"
   ]
  },
  {
   "cell_type": "markdown",
   "metadata": {},
   "source": [
    "os module"
   ]
  },
  {
   "cell_type": "code",
   "execution_count": 45,
   "metadata": {},
   "outputs": [
    {
     "name": "stdout",
     "output_type": "stream",
     "text": [
      "new directory is created\n",
      "current working directory : d:\\vidhi\\Day 13 Task 13\n",
      "os name : nt\n"
     ]
    }
   ],
   "source": [
    "import os\n",
    "\n",
    "\"\"\"os.mkdir(\"d:\\\\newdir1\")\n",
    "print(\"new directory is created\")\"\"\"\n",
    "#cwd current working directory\n",
    "cwd = os.getcwd()\n",
    "print(\"current working directory :\",cwd)\n",
    "#os name() method\n",
    "print(\"os name :\",os.name)"
   ]
  },
  {
   "cell_type": "code",
   "execution_count": 51,
   "metadata": {},
   "outputs": [
    {
     "name": "stdout",
     "output_type": "stream",
     "text": [
      "What is Python?\n",
      "Python is a popular programming language. It was created by Guido van Rossum, and released in 1991.\n",
      "\n",
      "It is used for:\n",
      "\n",
      "web development (server-side),\n",
      "software development,\n",
      "mathematics,\n",
      "system scripting.\n",
      "What can Python do?\n",
      "Python can be used on a server to create web applications.\n",
      "Python can be used alongside software to create workflows.\n",
      "Python can connect to database systems. It can also read and modify files.\n",
      "Python can be used to handle big data and perform complex mathematics.\n",
      "Python can be used for rapid prototyping, or for production-ready software development.\n"
     ]
    },
    {
     "data": {
      "text/plain": [
       "11"
      ]
     },
     "execution_count": 51,
     "metadata": {},
     "output_type": "execute_result"
    }
   ],
   "source": [
    "import os\n",
    "\n",
    "#write file, open the file\n",
    "file = open(\"python.txt\",\"w\")\n",
    "file.write(\"python 3.0 now avaible\")\n",
    "file.close()\n",
    "\n",
    "#read file\n",
    "file = open(\"pyhton.txt\",\"r\")\n",
    "text = file.read()\n",
    "print(text)\n",
    "\n",
    "#popen() method\n",
    "## popen() provides gateway and accesses the file directly\n",
    "file = os.popen(\"pyhton.txt\",\"w\")\n",
    "file.write(\"This is new\")"
   ]
  },
  {
   "cell_type": "code",
   "execution_count": 56,
   "metadata": {},
   "outputs": [
    {
     "name": "stdout",
     "output_type": "stream",
     "text": [
      "successfully rename\n"
     ]
    }
   ],
   "source": [
    "#rename the file\n",
    "import os \n",
    "\n",
    "fd = \"python.txt\"\n",
    "os.rename(fd,\"python1.txt\")\n",
    "print(\"successfully rename\")"
   ]
  },
  {
   "cell_type": "code",
   "execution_count": null,
   "metadata": {},
   "outputs": [
    {
     "data": {
      "text/plain": [
       "'device = os.stat(\"python.txt\").st_dev\\n\\nprint(\"major device number is::\", os.major(device))'"
      ]
     },
     "execution_count": 5,
     "metadata": {},
     "output_type": "execute_result"
    }
   ],
   "source": [
    "#majaor() method\n",
    "\n",
    "import os\n",
    "\n",
    "# Get the raw device number\n",
    "\"\"\"device = os.stat(\"python.txt\").st_dev\n",
    "\n",
    "print(\"major device number is::\", os.major(device))\"\"\""
   ]
  },
  {
   "cell_type": "code",
   "execution_count": 19,
   "metadata": {},
   "outputs": [
    {
     "name": "stdout",
     "output_type": "stream",
     "text": [
      "None\n"
     ]
    }
   ],
   "source": [
    "import os\n",
    "\n",
    "#print value of the environment variable key\n",
    "print (os.getenv(\"square\"))"
   ]
  },
  {
   "cell_type": "code",
   "execution_count": 21,
   "metadata": {},
   "outputs": [
    {
     "name": "stdout",
     "output_type": "stream",
     "text": [
      "os.stat_result(st_mode=33206, st_ino=562949954050184, st_dev=8546872986229500799, st_nlink=1, st_uid=0, st_gid=0, st_size=22, st_atime=1737110855, st_mtime=1737109667, st_ctime=1737109308)\n"
     ]
    }
   ],
   "source": [
    "#return a status of file\n",
    "import os\n",
    "print(os.lstat(\"python1.txt\"))"
   ]
  },
  {
   "cell_type": "code",
   "execution_count": 29,
   "metadata": {},
   "outputs": [
    {
     "name": "stdout",
     "output_type": "stream",
     "text": [
      "Encoded path : b'D:\\\\vidhi\\\\Day 13 Task 13'\n",
      "decoded path D:\\vidhi\\Day 13 Task 13\n"
     ]
    }
   ],
   "source": [
    "#encode the file path\n",
    "\n",
    "import os\n",
    "\n",
    "encode = os.fsencode(\"D:\\\\vidhi\\\\Day 13 Task 13\")\n",
    "decode = os.fsdecode(\"D:\\\\vidhi\\\\Day 13 Task 13\")\n",
    "print(\"Encoded path :\",encode)\n",
    "print(\"decoded path\",decode)"
   ]
  },
  {
   "cell_type": "markdown",
   "metadata": {},
   "source": [
    "Numpy library"
   ]
  },
  {
   "cell_type": "code",
   "execution_count": 31,
   "metadata": {},
   "outputs": [
    {
     "name": "stdout",
     "output_type": "stream",
     "text": [
      "[1 2 3 4 5]\n",
      "<class 'numpy.ndarray'>\n"
     ]
    }
   ],
   "source": [
    "import numpy as np\n",
    "\n",
    "arr = np.array([1,2,3,4,5])\n",
    "\n",
    "print(arr)\n",
    "\n",
    "print(type(arr))"
   ]
  },
  {
   "cell_type": "code",
   "execution_count": 46,
   "metadata": {},
   "outputs": [
    {
     "name": "stdout",
     "output_type": "stream",
     "text": [
      "42\n",
      "[[4 5 9]\n",
      " [7 5 4]]\n",
      "[[[7 2 7]\n",
      "  [5 4 1]]\n",
      "\n",
      " [[3 5 4]\n",
      "  [4 8 2]]]\n",
      "0\n",
      "48\n",
      "2\n",
      "-------------------------------\n",
      "[7 5 4]\n",
      "-------------------------------\n",
      "[5 4 1]\n",
      "-------------------------------\n",
      "5\n",
      "-------------------------------\n",
      "int64\n",
      "-------------------------------\n",
      "int64\n"
     ]
    }
   ],
   "source": [
    "import numpy as np\n",
    "\n",
    "arr = np.array(42)\n",
    "\n",
    "arr2 = np.array([[4,5,9],[7,5,4]])\n",
    "\n",
    "arr3 = np.array([[[7,2,7],[5,4,1]],[[3,5,4],[4,8,2]]])\n",
    "\n",
    "print(arr)\n",
    "print(arr2)\n",
    "print(arr3)\n",
    "\n",
    "print(arr.ndim)\n",
    "print(arr2.nbytes)\n",
    "print(arr2.ndim)\n",
    "\n",
    "#access the value\n",
    "print(\"-------------------------------\")\n",
    "print(arr2[1])\n",
    "print(\"-------------------------------\")\n",
    "print(arr3[0,1])\n",
    "print(\"-------------------------------\")\n",
    "print(arr3[0,1,0])\n",
    "\n",
    "print(\"-------------------------------\")\n",
    "print(arr3.dtype)"
   ]
  },
  {
   "cell_type": "code",
   "execution_count": null,
   "metadata": {},
   "outputs": [],
   "source": []
  }
 ],
 "metadata": {
  "kernelspec": {
   "display_name": "Python 3",
   "language": "python",
   "name": "python3"
  },
  "language_info": {
   "codemirror_mode": {
    "name": "ipython",
    "version": 3
   },
   "file_extension": ".py",
   "mimetype": "text/x-python",
   "name": "python",
   "nbconvert_exporter": "python",
   "pygments_lexer": "ipython3",
   "version": "3.12.6"
  }
 },
 "nbformat": 4,
 "nbformat_minor": 2
}
