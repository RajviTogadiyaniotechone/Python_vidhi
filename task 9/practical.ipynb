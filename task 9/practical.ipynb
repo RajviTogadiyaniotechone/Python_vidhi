{
 "cells": [
  {
   "cell_type": "markdown",
   "metadata": {},
   "source": [
    "1.Create a dictionary with student names as keys and grades as values, then print the grade of a specific student. "
   ]
  },
  {
   "cell_type": "code",
   "execution_count": 12,
   "metadata": {},
   "outputs": [
    {
     "name": "stdout",
     "output_type": "stream",
     "text": [
      "A\n",
      "{'alice': 'A', 'kevin': 'B', 'ayushi': 'C', 'form': 'A+'}\n",
      "Average grade: 4.38\n"
     ]
    }
   ],
   "source": [
    "student = {\n",
    "    \"alice\" : \"A\",\n",
    "    \"kevin\" : \"B\",\n",
    "    \"ayushi\" : \"C\"\n",
    "}\n",
    "\n",
    "print(student[\"alice\"])\n",
    "\n",
    "#add the new student\n",
    "student[\"form\"] = \"A+\"\n",
    "\n",
    "print(student)\n",
    "\n",
    "#grade value\n",
    "grade_values = {\n",
    "    \"A+\":5.5,\n",
    "    \"A\":5,\n",
    "    \"B+\": 4.3,\n",
    "    \"B\": 4,\n",
    "    \"C+\": 3.3,\n",
    "    \"C\": 3\n",
    "}\n",
    "\n",
    "total_g = 0\n",
    "\n",
    "num_stu = len(student)\n",
    "\n",
    "for grade in student.values():\n",
    "    total_g += grade_values.get(grade, 0)  \n",
    "\n",
    "average = total_g / num_stu\n",
    "print(f\"Average grade: {average:.2f}\")"
   ]
  }
 ],
 "metadata": {
  "kernelspec": {
   "display_name": "Python 3",
   "language": "python",
   "name": "python3"
  },
  "language_info": {
   "codemirror_mode": {
    "name": "ipython",
    "version": 3
   },
   "file_extension": ".py",
   "mimetype": "text/x-python",
   "name": "python",
   "nbconvert_exporter": "python",
   "pygments_lexer": "ipython3",
   "version": "3.12.6"
  }
 },
 "nbformat": 4,
 "nbformat_minor": 2
}
