{
 "cells": [
  {
   "cell_type": "markdown",
   "metadata": {},
   "source": [
    "Operators \n",
    "\n",
    "opeartor are used to perform operations on variable and vale."
   ]
  },
  {
   "cell_type": "code",
   "execution_count": 1,
   "metadata": {},
   "outputs": [
    {
     "name": "stdout",
     "output_type": "stream",
     "text": [
      "15\n"
     ]
    }
   ],
   "source": [
    "print(10+5)"
   ]
  },
  {
   "cell_type": "markdown",
   "metadata": {},
   "source": [
    "Arithmetic operators"
   ]
  },
  {
   "cell_type": "code",
   "execution_count": 8,
   "metadata": {},
   "outputs": [
    {
     "name": "stdout",
     "output_type": "stream",
     "text": [
      "15\n",
      "-5\n",
      "50\n",
      "0.5\n",
      "5\n"
     ]
    }
   ],
   "source": [
    "# Addition\n",
    "x = 5\n",
    "y = 10\n",
    "\n",
    "\n",
    "print(x+y)\n",
    "\n",
    "## subtraction\n",
    "print(x - y)\n",
    "\n",
    "#multiplication\n",
    "print(x*y)\n",
    "\n",
    "#division\n",
    "print(x/y)\n",
    "\n",
    "#modulus \n",
    "print(x%y)\n",
    "\n"
   ]
  },
  {
   "cell_type": "code",
   "execution_count": 7,
   "metadata": {},
   "outputs": [
    {
     "name": "stdout",
     "output_type": "stream",
     "text": [
      "7\n"
     ]
    }
   ],
   "source": [
    "#Floor division\n",
    "x = 15\n",
    "y = 2\n",
    "print(x//y)"
   ]
  },
  {
   "cell_type": "code",
   "execution_count": 9,
   "metadata": {},
   "outputs": [
    {
     "name": "stdout",
     "output_type": "stream",
     "text": [
      "32\n"
     ]
    }
   ],
   "source": [
    "#Exponentiation\n",
    "#** is the exponentiation operator.It is used to raise the first operand to the power of the second. \n",
    "a = 2\n",
    "b = 5\n",
    "res = a**b\n",
    "\n",
    "print(res)\n"
   ]
  },
  {
   "cell_type": "markdown",
   "metadata": {},
   "source": [
    "Comparison Operators"
   ]
  },
  {
   "cell_type": "code",
   "execution_count": 27,
   "metadata": {},
   "outputs": [
    {
     "name": "stdout",
     "output_type": "stream",
     "text": [
      "False\n",
      "True\n",
      "True\n",
      "False\n"
     ]
    }
   ],
   "source": [
    "# equal \n",
    "x = 5\n",
    "y = 3\n",
    "z = 5\n",
    "\n",
    "print(x==y)\n",
    "print(x==z)\n",
    "\n",
    "# returns false  because 5 is not equal to 3\n",
    "\n",
    "#not equal\n",
    "\n",
    "print(x!=y)\n",
    "print(x!=z)"
   ]
  },
  {
   "cell_type": "code",
   "execution_count": 16,
   "metadata": {},
   "outputs": [
    {
     "name": "stdout",
     "output_type": "stream",
     "text": [
      "True\n",
      "False\n"
     ]
    }
   ],
   "source": [
    "# greater than\n",
    "x = 15\n",
    "y = 3\n",
    "print(x>y)\n",
    "\n",
    "#less than\n",
    "print(x<y)"
   ]
  },
  {
   "cell_type": "code",
   "execution_count": 28,
   "metadata": {},
   "outputs": [
    {
     "name": "stdout",
     "output_type": "stream",
     "text": [
      "False\n",
      "True\n",
      "True\n"
     ]
    }
   ],
   "source": [
    "#greater than equal to\n",
    "\n",
    "x = 20\n",
    "y = 45\n",
    "z = 20\n",
    "\n",
    "print(x>=y)\n",
    "\n",
    "#less than equal to\n",
    "\n",
    "print(x<=y)\n",
    "\n",
    "print(x>=z)"
   ]
  },
  {
   "cell_type": "markdown",
   "metadata": {},
   "source": [
    "logical operator\n"
   ]
  },
  {
   "cell_type": "code",
   "execution_count": 19,
   "metadata": {},
   "outputs": [
    {
     "name": "stdout",
     "output_type": "stream",
     "text": [
      "True\n"
     ]
    }
   ],
   "source": [
    "# and -- Returns True if both statements are true\n",
    "\n",
    "x = 10\n",
    "print (x > 5 and x < 15)"
   ]
  },
  {
   "cell_type": "code",
   "execution_count": 22,
   "metadata": {},
   "outputs": [
    {
     "name": "stdout",
     "output_type": "stream",
     "text": [
      "True\n"
     ]
    }
   ],
   "source": [
    "#or -  return true if  one statement is true\n",
    "\n",
    "x = 15\n",
    "print (x > 10 or x < 4)"
   ]
  },
  {
   "cell_type": "code",
   "execution_count": 38,
   "metadata": {},
   "outputs": [
    {
     "name": "stdout",
     "output_type": "stream",
     "text": [
      "True\n",
      "0\n"
     ]
    }
   ],
   "source": [
    "# not - reverse the result if statement is false than return true\n",
    "\n",
    "x = 25\n",
    "print(not(x>3 and x<13))\n"
   ]
  },
  {
   "cell_type": "code",
   "execution_count": 40,
   "metadata": {},
   "outputs": [
    {
     "name": "stdout",
     "output_type": "stream",
     "text": [
      "number are greater than 15 and 25\n",
      "number are less than 20 and 50\n",
      "20 and 30 is not divisible by 10\n"
     ]
    }
   ],
   "source": [
    "a = 20\n",
    "b = 30\n",
    "c = 50\n",
    "\n",
    "if a > 15 and b > 25:\n",
    "    print(\"number are greater than 15 and 25\")\n",
    "\n",
    "if a < 40 or c < 30:\n",
    "    print(\"number are less than 20 and 50\")\n",
    "    \n",
    "if not (a % 10 == 0 or b % 10 == 0):\n",
    "    print(\"20 and 30 is divisible by 10\")\n",
    "    \n",
    "else:\n",
    "    print(\"20 and 30 is not divisible by 10\")"
   ]
  },
  {
   "cell_type": "code",
   "execution_count": null,
   "metadata": {},
   "outputs": [],
   "source": []
  },
  {
   "cell_type": "markdown",
   "metadata": {},
   "source": [
    "Chaining comparison Operator \n",
    "\n",
    "\n",
    "\n"
   ]
  },
  {
   "cell_type": "code",
   "execution_count": 36,
   "metadata": {},
   "outputs": [
    {
     "name": "stdout",
     "output_type": "stream",
     "text": [
      "True\n",
      "True\n",
      "False\n",
      "True\n"
     ]
    }
   ],
   "source": [
    "#we can use the chaining comparison operators to check multiple conditions in a single expression. One simple way of solving multiple conditions is by using Logical Operators. But in chaining comparison operators method, we can achieve this without any other operator.\n",
    "\n",
    "a = 5\n",
    "\n",
    "print(3 < a < 25)\n",
    "print(10 > a <= 5 )\n",
    "print(5 != a > 3)\n",
    "print(a < 10 < a*10 == 50)\n",
    "\n",
    "\n"
   ]
  },
  {
   "cell_type": "code",
   "execution_count": 41,
   "metadata": {},
   "outputs": [
    {
     "name": "stdout",
     "output_type": "stream",
     "text": [
      "True\n",
      "False\n"
     ]
    }
   ],
   "source": [
    "a, b, c, d, e, f = 0, 5, 12, 0, 15, 15\n",
    "exp1 = a <= b < c > d is not e is f\n",
    "exp2 = a is d > f is not c\n",
    "print(exp1)\n",
    "print(exp2)"
   ]
  },
  {
   "cell_type": "markdown",
   "metadata": {},
   "source": []
  }
 ],
 "metadata": {
  "kernelspec": {
   "display_name": "Python 3",
   "language": "python",
   "name": "python3"
  },
  "language_info": {
   "codemirror_mode": {
    "name": "ipython",
    "version": 3
   },
   "file_extension": ".py",
   "mimetype": "text/x-python",
   "name": "python",
   "nbconvert_exporter": "python",
   "pygments_lexer": "ipython3",
   "version": "3.12.6"
  }
 },
 "nbformat": 4,
 "nbformat_minor": 2
}
