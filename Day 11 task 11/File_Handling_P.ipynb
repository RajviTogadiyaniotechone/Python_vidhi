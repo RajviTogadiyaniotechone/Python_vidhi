{
 "cells": [
  {
   "cell_type": "markdown",
   "metadata": {},
   "source": [
    "File Handling"
   ]
  },
  {
   "cell_type": "markdown",
   "metadata": {},
   "source": [
    "File Operations"
   ]
  },
  {
   "cell_type": "markdown",
   "metadata": {},
   "source": [
    "Read the file from another location"
   ]
  },
  {
   "cell_type": "code",
   "execution_count": 2,
   "metadata": {},
   "outputs": [
    {
     "name": "stdout",
     "output_type": "stream",
     "text": [
      "Penelope's Pearls\n",
      "$16.99\n",
      "by Annie Reiner\n",
      "\n",
      "Hardback\n",
      "\n",
      "Penelope's Pearls is a seemingly simple story about the transformative power of love and understanding to make us feel whole. \n",
      "Penelope is a very little penguin who can't get used to the cold. One day, \n",
      "she drifts away from home on an ice floe, where she meets another little penguin named Pablo. \n",
      "The magic and beauty she finds through her new friend, opens her imagination and warms her heart. \n",
      "The story is accompanied by unique paper cut-out illustrations, whose clean modern lines reflect the spare snowy landscape, to please the innocent eyes of children, as well as their parents.\n",
      "\n",
      "Read the rave review in The Huffington Post.now add some content in a new file\n",
      "now add some content in a new file::now add some content in a new file::now add some content in a new file::\n"
     ]
    }
   ],
   "source": [
    "f = open(\"D:\\\\new 1.txt\",\"r\")\n",
    "print(f.read())"
   ]
  },
  {
   "cell_type": "code",
   "execution_count": 11,
   "metadata": {},
   "outputs": [
    {
     "name": "stdout",
     "output_type": "stream",
     "text": [
      "Penelope's Pearls\n",
      "$16.99\n",
      "by Annie Reiner\n",
      "\n",
      "Hardback\n",
      "\n",
      "Penelope's Pearls is a seemingly simple story about the transformative power of love and understanding to make us feel whole. \n",
      "Penelope is a very little penguin who can't get used to the cold. One day, \n",
      "she drifts away from home on an ice floe, where she meets another little penguin named Pablo. \n",
      "The magic and beauty she finds through her new friend, opens her imagination and warms her heart. \n",
      "The story is accompanied by unique paper cut-out illustrations, whose clean modern lines reflect the spare snowy landscape, to please the innocent eyes of children, as well as their parents.\n",
      "\n",
      "Read the rave review in The Huffington Post.\n"
     ]
    }
   ],
   "source": [
    "f = open(\"E:\\\\story.txt\",\"r\")\n",
    "print(f.read())"
   ]
  },
  {
   "cell_type": "markdown",
   "metadata": {},
   "source": [
    "Read only part of file"
   ]
  },
  {
   "cell_type": "code",
   "execution_count": 57,
   "metadata": {},
   "outputs": [
    {
     "name": "stdout",
     "output_type": "stream",
     "text": [
      "Hello this\n",
      "<class 'str'>\n"
     ]
    }
   ],
   "source": [
    "f = open(\"demo_f.txt\",\"r\")\n",
    "print(f.read(10))\n",
    "\n",
    "#check the type of content\n",
    "content = f.read(5)\n",
    "print(type(content))"
   ]
  },
  {
   "cell_type": "markdown",
   "metadata": {},
   "source": [
    "Read the Line"
   ]
  },
  {
   "cell_type": "code",
   "execution_count": 18,
   "metadata": {},
   "outputs": [
    {
     "name": "stdout",
     "output_type": "stream",
     "text": [
      "Hello this is a python file.\n",
      "\n",
      "\n",
      "read the lines from the files\n",
      "['What I Forgot To Remember.\\n', 'Itï¿½s finally here ï¿½ the last installment of the Carl  ï¿½I Rememberï¿½ Trilogy (which is not to say he wonï¿½t continue to remember and write). In 2012, Carl wrote his hilarious and heartwarming memoir, \\n', 'ï¿½I Remember Me,ï¿½ chronicling ninety years of living and laughing, with twelve  and a Grammy to attest to his esteemed career in show business.\\n', 'Over the next two years, so many more stories continued to flood Carlï¿½s memory that he felt compelled to follow up with the equally rich and funny, ï¿½I Just Remembered.\\n', 'ï¿½ In this latest work,\\n', 'ï¿½What I Forgot To Remember,ï¿½ Carl has written a book that goes beyond the scope of mere life and showbiz memories.']\n"
     ]
    }
   ],
   "source": [
    "f = open(\"demo_f.txt\",\"r\")\n",
    "print(f.readline())\n",
    "\n",
    "#read the lines\n",
    "\n",
    "print(\"\\nread the lines from the files\")\n",
    "\n",
    "print(f.readlines())"
   ]
  },
  {
   "cell_type": "markdown",
   "metadata": {},
   "source": [
    "Read the file by using loop"
   ]
  },
  {
   "cell_type": "code",
   "execution_count": 20,
   "metadata": {},
   "outputs": [
    {
     "name": "stdout",
     "output_type": "stream",
     "text": [
      "Penelope's Pearls\n",
      "\n",
      "$16.99\n",
      "\n",
      "by Annie Reiner\n",
      "\n",
      "\n",
      "\n",
      "Hardback\n",
      "\n",
      "\n",
      "\n",
      "Penelope's Pearls is a seemingly simple story about the transformative power of love and understanding to make us feel whole. \n",
      "\n",
      "Penelope is a very little penguin who can't get used to the cold. One day, \n",
      "\n",
      "she drifts away from home on an ice floe, where she meets another little penguin named Pablo. \n",
      "\n",
      "The magic and beauty she finds through her new friend, opens her imagination and warms her heart. \n",
      "\n",
      "The story is accompanied by unique paper cut-out illustrations, whose clean modern lines reflect the spare snowy landscape, to please the innocent eyes of children, as well as their parents.\n",
      "\n",
      "\n",
      "\n",
      "Read the rave review in The Huffington Post.\n"
     ]
    }
   ],
   "source": [
    "f = open(\"E:\\\\story.txt\",\"r\")\n",
    "for x in f:\n",
    "    print(x)"
   ]
  },
  {
   "cell_type": "code",
   "execution_count": 23,
   "metadata": {},
   "outputs": [
    {
     "name": "stdout",
     "output_type": "stream",
     "text": [
      "Hello this is a python file.\n",
      "\n"
     ]
    }
   ],
   "source": [
    "f = open(\"demo_f.txt\",\"r\")\n",
    "print(f.readline())\n",
    "f.close()"
   ]
  },
  {
   "cell_type": "markdown",
   "metadata": {},
   "source": [
    "Write the existing file\n",
    "\n",
    "append() method"
   ]
  },
  {
   "cell_type": "code",
   "execution_count": 27,
   "metadata": {},
   "outputs": [
    {
     "name": "stdout",
     "output_type": "stream",
     "text": [
      "Penelope's Pearls\n",
      "$16.99\n",
      "by Annie Reiner\n",
      "\n",
      "Hardback\n",
      "\n",
      "Penelope's Pearls is a seemingly simple story about the transformative power of love and understanding to make us feel whole. \n",
      "Penelope is a very little penguin who can't get used to the cold. One day, \n",
      "she drifts away from home on an ice floe, where she meets another little penguin named Pablo. \n",
      "The magic and beauty she finds through her new friend, opens her imagination and warms her heart. \n",
      "The story is accompanied by unique paper cut-out illustrations, whose clean modern lines reflect the spare snowy landscape, to please the innocent eyes of children, as well as their parents.\n",
      "\n",
      "Read the rave review in The Huffington Post.now add some content in a new file\n",
      "now add some content in a new file::now add some content in a new file::now add some content in a new file::\n"
     ]
    }
   ],
   "source": [
    "f = open(\"D:\\\\new 1.txt\",\"a\")\n",
    "f.write(\"now add some content in a new file::\")\n",
    "f.close()\n",
    "\n",
    "f = open(\"D:\\\\new 1.txt\",\"r\")\n",
    "print(f.read())"
   ]
  },
  {
   "cell_type": "code",
   "execution_count": 32,
   "metadata": {},
   "outputs": [
    {
     "name": "stdout",
     "output_type": "stream",
     "text": [
      "woops! I have deleted some content.\n"
     ]
    }
   ],
   "source": [
    "f = open(\"D:\\\\story_lilly.txt\",\"w\")\n",
    "f.write(\"woops! I have deleted some content.\")\n",
    "f.close()\n",
    "\n",
    "f = open(\"D:\\\\story_lilly.txt\",\"r\")\n",
    "print(f.read())"
   ]
  },
  {
   "cell_type": "markdown",
   "metadata": {},
   "source": [
    "Create a new file"
   ]
  },
  {
   "cell_type": "code",
   "execution_count": 36,
   "metadata": {},
   "outputs": [],
   "source": [
    "f = open(\"newfile.txt\",\"x\")"
   ]
  },
  {
   "cell_type": "markdown",
   "metadata": {},
   "source": [
    "Delete file"
   ]
  },
  {
   "cell_type": "code",
   "execution_count": 43,
   "metadata": {},
   "outputs": [],
   "source": [
    "import os\n",
    "\n",
    "os.remove(\"de.txt\")"
   ]
  },
  {
   "cell_type": "markdown",
   "metadata": {},
   "source": [
    "Check if file exist"
   ]
  },
  {
   "cell_type": "code",
   "execution_count": 46,
   "metadata": {},
   "outputs": [
    {
     "name": "stdout",
     "output_type": "stream",
     "text": [
      "this file does not exist\n"
     ]
    }
   ],
   "source": [
    "import os\n",
    "\n",
    "if os.path.exists(\"n.txt\"):\n",
    "    os.remove(\"n.txt\")\n",
    "else:\n",
    "    print(\"this file does not exist\")"
   ]
  },
  {
   "cell_type": "markdown",
   "metadata": {},
   "source": [
    "Delete the folder"
   ]
  },
  {
   "cell_type": "code",
   "execution_count": 82,
   "metadata": {},
   "outputs": [],
   "source": [
    "#To delete an entire folder, use the os.rmdir() method\n",
    "#you can remove empty folder\n",
    "#Note: You can only remove empty folders\n",
    "\n",
    "import os\n",
    "os.rmdir(\"my_folder\")"
   ]
  },
  {
   "cell_type": "markdown",
   "metadata": {},
   "source": [
    "read the excel file \n"
   ]
  },
  {
   "cell_type": "code",
   "execution_count": 69,
   "metadata": {},
   "outputs": [],
   "source": [
    "#read the excel file from another location\n",
    "\n",
    "with open(r\"D:\\vidhi\\vaghela vidhi.xlsx\", \"r\") as f:\n",
    "\n",
    "    f.close()"
   ]
  },
  {
   "cell_type": "markdown",
   "metadata": {},
   "source": [
    "Read the csv file"
   ]
  },
  {
   "cell_type": "code",
   "execution_count": 1,
   "metadata": {},
   "outputs": [
    {
     "name": "stdout",
     "output_type": "stream",
     "text": [
      "['ï»¿\"Name', 'Day', 'Punch-in', 'Punch-out', 'Timer Hours', 'Manual Hours', 'Total Ex Idle Hours', 'Idle Hours', 'Total Inc Idle Hours\"']\n",
      "[['John Doe,Sun 01-Jan,--:--,--:--,00:00,00:00,00:00,00:00,00:00'], ['John Doe,Mon 02-Jan,09:05,17:30,08:25,00:00,08:25,00:00,08:25'], ['John Doe,Tue 03-Jan,08:15,16:50,08:35,00:00,08:35,00:00,08:35'], ['John Doe,Wed 04-Jan,09:10,17:45,08:35,00:00,08:35,00:00,08:35'], ['John Doe,Thu 05-Jan,09:05,18:00,08:55,00:00,08:55,00:00,08:55'], ['John Doe,Fri 06-Jan,09:12,17:55,08:43,00:00,08:43,00:00,08:43'], ['John Doe,Sat 07-Jan,--:--,--:--,00:00,00:00,00:00,00:00,00:00'], ['John Doe,Sun 08-Jan,--:--,--:--,00:00,00:00,00:00,00:00,00:00'], ['John Doe,Mon 09-Jan,09:30,17:45,08:15,00:00,08:15,00:00,08:15'], ['John Doe,Tue 10-Jan,08:50,17:40,08:50,00:00,08:50,00:00,08:50'], ['John Doe,Wed 11-Jan,09:00,17:20,08:20,00:00,08:20,00:00,08:20'], ['John Doe,Thu 12-Jan,09:10,17:40,08:30,00:00,08:30,00:00,08:30'], ['John Doe,Fri 13-Jan,09:30,18:00,08:30,00:00,08:30,00:00,08:30'], ['John Doe,Sat 14-Jan,--:--,--:--,00:00,00:00,00:00,00:00,00:00'], ['John Doe,Sun 15-Jan,--:--,--:--,00:00,00:00,00:00,00:00,00:00'], ['John Doe,Mon 16-Jan,09:10,17:50,08:40,00:00,08:40,00:00,08:40'], ['John Doe,Tue 17-Jan,08:55,17:35,08:40,00:00,08:40,00:00,08:40'], ['John Doe,Wed 18-Jan,09:05,17:45,08:40,00:00,08:40,00:00,08:40'], ['John Doe,Thu 19-Jan,09:10,17:50,08:40,00:00,08:40,00:00,08:40'], ['John Doe,Fri 20-Jan,09:00,17:30,08:30,00:00,08:30,00:00,08:30'], ['John Doe,Sat 21-Jan,--:--,--:--,00:00,00:00,00:00,00:00,00:00'], ['John Doe,Sun 22-Jan,--:--,--:--,00:00,00:00,00:00,00:00,00:00'], ['John Doe,Mon 23-Jan,09:20,17:50,08:30,00:00,08:30,00:00,08:30'], ['John Doe,Tue 24-Jan,09:05,17:25,08:20,00:00,08:20,00:00,08:20'], ['John Doe,Wed 25-Jan,09:10,17:30,08:20,00:00,08:20,00:00,08:20'], ['John Doe,Thu 26-Jan,09:00,17:45,08:45,00:00,08:45,00:00,08:45'], ['John Doe,Fri 27-Jan,09:30,17:55,08:25,00:00,08:25,00:00,08:25'], [',Period Total,,,184:40:00,00:00,184:40:00,00:00,184:40:00']]\n"
     ]
    }
   ],
   "source": [
    "import csv\n",
    "file = open(\"John Doe.csv\")\n",
    "csvreader = csv.reader(file)\n",
    "header = next(csvreader)\n",
    "print(header)\n",
    "rows = []\n",
    "for row in csvreader :\n",
    "    rows.append(row)\n",
    "print(rows)\n",
    "file.close()\n"
   ]
  },
  {
   "cell_type": "code",
   "execution_count": 1,
   "metadata": {},
   "outputs": [
    {
     "name": "stdout",
     "output_type": "stream",
     "text": [
      "['ï»¿\"Name', 'Day', 'Punch-in', 'Punch-out', 'Timer Hours', 'Manual Hours', 'Total Ex Idle Hours', 'Idle Hours', 'Total Inc Idle Hours\"']\n",
      "[['John Doe,Sun 01-Jan,--:--,--:--,00:00,00:00,00:00,00:00,00:00'], ['John Doe,Mon 02-Jan,09:05,17:30,08:25,00:00,08:25,00:00,08:25'], ['John Doe,Tue 03-Jan,08:15,16:50,08:35,00:00,08:35,00:00,08:35'], ['John Doe,Wed 04-Jan,09:10,17:45,08:35,00:00,08:35,00:00,08:35'], ['John Doe,Thu 05-Jan,09:05,18:00,08:55,00:00,08:55,00:00,08:55'], ['John Doe,Fri 06-Jan,09:12,17:55,08:43,00:00,08:43,00:00,08:43'], ['John Doe,Sat 07-Jan,--:--,--:--,00:00,00:00,00:00,00:00,00:00'], ['John Doe,Sun 08-Jan,--:--,--:--,00:00,00:00,00:00,00:00,00:00'], ['John Doe,Mon 09-Jan,09:30,17:45,08:15,00:00,08:15,00:00,08:15'], ['John Doe,Tue 10-Jan,08:50,17:40,08:50,00:00,08:50,00:00,08:50'], ['John Doe,Wed 11-Jan,09:00,17:20,08:20,00:00,08:20,00:00,08:20'], ['John Doe,Thu 12-Jan,09:10,17:40,08:30,00:00,08:30,00:00,08:30'], ['John Doe,Fri 13-Jan,09:30,18:00,08:30,00:00,08:30,00:00,08:30'], ['John Doe,Sat 14-Jan,--:--,--:--,00:00,00:00,00:00,00:00,00:00'], ['John Doe,Sun 15-Jan,--:--,--:--,00:00,00:00,00:00,00:00,00:00'], ['John Doe,Mon 16-Jan,09:10,17:50,08:40,00:00,08:40,00:00,08:40'], ['John Doe,Tue 17-Jan,08:55,17:35,08:40,00:00,08:40,00:00,08:40'], ['John Doe,Wed 18-Jan,09:05,17:45,08:40,00:00,08:40,00:00,08:40'], ['John Doe,Thu 19-Jan,09:10,17:50,08:40,00:00,08:40,00:00,08:40'], ['John Doe,Fri 20-Jan,09:00,17:30,08:30,00:00,08:30,00:00,08:30'], ['John Doe,Sat 21-Jan,--:--,--:--,00:00,00:00,00:00,00:00,00:00'], ['John Doe,Sun 22-Jan,--:--,--:--,00:00,00:00,00:00,00:00,00:00'], ['John Doe,Mon 23-Jan,09:20,17:50,08:30,00:00,08:30,00:00,08:30'], ['John Doe,Tue 24-Jan,09:05,17:25,08:20,00:00,08:20,00:00,08:20'], ['John Doe,Wed 25-Jan,09:10,17:30,08:20,00:00,08:20,00:00,08:20'], ['John Doe,Thu 26-Jan,09:00,17:45,08:45,00:00,08:45,00:00,08:45'], ['John Doe,Fri 27-Jan,09:30,17:55,08:25,00:00,08:25,00:00,08:25'], [',Period Total,,,184:40:00,00:00,184:40:00,00:00,184:40:00']]\n"
     ]
    }
   ],
   "source": [
    "import csv\n",
    "rows = []\n",
    "with open(\"John Doe.csv\", 'r') as file:\n",
    "    csv_reader = csv.reader(file)\n",
    "    header = next(csv_reader)\n",
    "    for row in csv_reader:\n",
    "        rows.append(row)\n",
    "print(header)\n",
    "print(rows)"
   ]
  },
  {
   "cell_type": "markdown",
   "metadata": {},
   "source": [
    "File Methods"
   ]
  },
  {
   "cell_type": "code",
   "execution_count": 3,
   "metadata": {},
   "outputs": [
    {
     "name": "stdout",
     "output_type": "stream",
     "text": [
      "4\n"
     ]
    }
   ],
   "source": [
    "#fileno() method\n",
    "\n",
    "f = open(\"demo_f.txt\")\n",
    "print(f.fileno())"
   ]
  },
  {
   "cell_type": "code",
   "execution_count": 5,
   "metadata": {},
   "outputs": [
    {
     "name": "stdout",
     "output_type": "stream",
     "text": [
      "True\n"
     ]
    }
   ],
   "source": [
    "#readable() method\n",
    "\n",
    "f = open(\"demo_f.txt\")\n",
    "print(f.readable())"
   ]
  },
  {
   "cell_type": "code",
   "execution_count": 8,
   "metadata": {},
   "outputs": [
    {
     "name": "stdout",
     "output_type": "stream",
     "text": [
      "0\n",
      "['Hello this is a python file.\\n', 'What I Forgot To Remember.\\n', 'Itï¿½s finally here ï¿½ the last installment of the Carl  ï¿½I Rememberï¿½ Trilogy (which is not to say he wonï¿½t continue to remember and write). In 2012, Carl wrote his hilarious and heartwarming memoir, \\n', 'ï¿½I Remember Me,ï¿½ chronicling ninety years of living and laughing, with twelve  and a Grammy to attest to his esteemed career in show business.\\n', 'Over the next two years, so many more stories continued to flood Carlï¿½s memory that he felt compelled to follow up with the equally rich and funny, ï¿½I Just Remembered.\\n', 'ï¿½ In this latest work,\\n', 'ï¿½What I Forgot To Remember,ï¿½ Carl has written a book that goes beyond the scope of mere life and showbiz memories.']\n",
      "732\n"
     ]
    }
   ],
   "source": [
    "#tell method\n",
    "\n",
    "f = open(\"demo_f.txt\")\n",
    "print(f.tell())\n",
    "\n",
    "print(f.readlines())\n",
    "print(f.tell())"
   ]
  },
  {
   "cell_type": "code",
   "execution_count": 12,
   "metadata": {},
   "outputs": [
    {
     "name": "stdout",
     "output_type": "stream",
     "text": [
      "70\n",
      "Hello this is a python file.\n",
      "What I Forgot To Remember.\n",
      "Itï¿½s final\n"
     ]
    }
   ],
   "source": [
    "#truncate() method\n",
    "\n",
    "f = open(\"demo_f.txt\",\"a\")\n",
    "print(f.truncate(70))\n",
    "f.close()\n",
    "\n",
    "f = open(\"demo_f.txt\",\"r\")\n",
    "print(f.read())"
   ]
  },
  {
   "cell_type": "code",
   "execution_count": 14,
   "metadata": {},
   "outputs": [
    {
     "name": "stdout",
     "output_type": "stream",
     "text": [
      "True\n"
     ]
    }
   ],
   "source": [
    "#writeable() method\n",
    "f = open(\"demo_f.txt\",\"a\")\n",
    "print(f.writable())"
   ]
  },
  {
   "cell_type": "code",
   "execution_count": 16,
   "metadata": {},
   "outputs": [
    {
     "name": "stdout",
     "output_type": "stream",
     "text": [
      "Hello this is a python file.\n",
      "What I Forgot To Remember.\n",
      "Itï¿½s finalhello next part is ready to read.hello next part is ready to read.\n"
     ]
    }
   ],
   "source": [
    "#writelines()\n",
    "\n",
    "f = open(\"demo_f.txt\",\"a\")\n",
    "f.writelines([\"hello next part is ready to read.\"])\n",
    "f.close()\n",
    "\n",
    "f = open(\"demo_f.txt\",\"r\")\n",
    "print(f.read())"
   ]
  },
  {
   "cell_type": "code",
   "execution_count": 18,
   "metadata": {},
   "outputs": [
    {
     "name": "stdout",
     "output_type": "stream",
     "text": [
      "True\n"
     ]
    }
   ],
   "source": [
    "#seekable()\n",
    "#Returns whether the file allows us to change the file position\n",
    "\n",
    "f = open(\"demo_f.txt\",\"r\")\n",
    "print(f.seekable())"
   ]
  },
  {
   "cell_type": "code",
   "execution_count": 20,
   "metadata": {},
   "outputs": [
    {
     "name": "stdout",
     "output_type": "stream",
     "text": [
      " is a python file.\n",
      "\n"
     ]
    }
   ],
   "source": [
    "#seek() method\n",
    "\n",
    "f = open(\"demo_f.txt\",\"r\")\n",
    "f.seek(10)\n",
    "\n",
    "print(f.readline())"
   ]
  }
 ],
 "metadata": {
  "kernelspec": {
   "display_name": "Python 3",
   "language": "python",
   "name": "python3"
  },
  "language_info": {
   "codemirror_mode": {
    "name": "ipython",
    "version": 3
   },
   "file_extension": ".py",
   "mimetype": "text/x-python",
   "name": "python",
   "nbconvert_exporter": "python",
   "pygments_lexer": "ipython3",
   "version": "3.12.6"
  }
 },
 "nbformat": 4,
 "nbformat_minor": 2
}
