{
 "cells": [
  {
   "cell_type": "code",
   "execution_count": 10,
   "metadata": {},
   "outputs": [],
   "source": [
    "import numpy as np # linear algebra\n",
    "import pandas as pd"
   ]
  },
  {
   "cell_type": "code",
   "execution_count": 11,
   "metadata": {},
   "outputs": [
    {
     "data": {
      "text/html": [
       "<div>\n",
       "<style scoped>\n",
       "    .dataframe tbody tr th:only-of-type {\n",
       "        vertical-align: middle;\n",
       "    }\n",
       "\n",
       "    .dataframe tbody tr th {\n",
       "        vertical-align: top;\n",
       "    }\n",
       "\n",
       "    .dataframe thead th {\n",
       "        text-align: right;\n",
       "    }\n",
       "</style>\n",
       "<table border=\"1\" class=\"dataframe\">\n",
       "  <thead>\n",
       "    <tr style=\"text-align: right;\">\n",
       "      <th></th>\n",
       "      <th>date</th>\n",
       "      <th>text</th>\n",
       "      <th>label</th>\n",
       "    </tr>\n",
       "  </thead>\n",
       "  <tbody>\n",
       "    <tr>\n",
       "      <th>0</th>\n",
       "      <td>2018-01-04T15:35:56</td>\n",
       "      <td>Farmers will get subsidies for turning fields ...</td>\n",
       "      <td>politic</td>\n",
       "    </tr>\n",
       "    <tr>\n",
       "      <th>1</th>\n",
       "      <td>2018-01-04T15:35:57</td>\n",
       "      <td>Vanuatu bans non-biodegradable plastic to prot...</td>\n",
       "      <td>politic</td>\n",
       "    </tr>\n",
       "    <tr>\n",
       "      <th>2</th>\n",
       "      <td>2018-01-04T17:00:49</td>\n",
       "      <td>Ex-British PM Tony Blair ups calls for Labour ...</td>\n",
       "      <td>politic</td>\n",
       "    </tr>\n",
       "    <tr>\n",
       "      <th>3</th>\n",
       "      <td>2018-01-04T17:00:50</td>\n",
       "      <td>UK's Tony Blair argues voters deserve another ...</td>\n",
       "      <td>politic</td>\n",
       "    </tr>\n",
       "    <tr>\n",
       "      <th>4</th>\n",
       "      <td>2018-01-04T18:01:34</td>\n",
       "      <td>Germany had so much renewable energy over Chri...</td>\n",
       "      <td>politic</td>\n",
       "    </tr>\n",
       "    <tr>\n",
       "      <th>...</th>\n",
       "      <td>...</td>\n",
       "      <td>...</td>\n",
       "      <td>...</td>\n",
       "    </tr>\n",
       "    <tr>\n",
       "      <th>127388</th>\n",
       "      <td>2024-03-30T21:54:34</td>\n",
       "      <td>Wind generates record annual percentage of UK ...</td>\n",
       "      <td>technology</td>\n",
       "    </tr>\n",
       "    <tr>\n",
       "      <th>127389</th>\n",
       "      <td>2024-03-30T22:54:55</td>\n",
       "      <td>HP ends ties with Russia, shutting down its Ru...</td>\n",
       "      <td>technology</td>\n",
       "    </tr>\n",
       "    <tr>\n",
       "      <th>127390</th>\n",
       "      <td>2024-03-30T23:24:43</td>\n",
       "      <td>AT&amp;T confirms data for 73 million customers le...</td>\n",
       "      <td>technology</td>\n",
       "    </tr>\n",
       "    <tr>\n",
       "      <th>127391</th>\n",
       "      <td>2024-03-31T00:59:36</td>\n",
       "      <td>Missouri AG sues Media Matters as Republicans ...</td>\n",
       "      <td>technology</td>\n",
       "    </tr>\n",
       "    <tr>\n",
       "      <th>127392</th>\n",
       "      <td>2024-03-31T01:59:20</td>\n",
       "      <td>Breakdown of Safety Is Not Unique to Boeing — ...</td>\n",
       "      <td>technology</td>\n",
       "    </tr>\n",
       "  </tbody>\n",
       "</table>\n",
       "<p>127393 rows × 3 columns</p>\n",
       "</div>"
      ],
      "text/plain": [
       "                       date  \\\n",
       "0       2018-01-04T15:35:56   \n",
       "1       2018-01-04T15:35:57   \n",
       "2       2018-01-04T17:00:49   \n",
       "3       2018-01-04T17:00:50   \n",
       "4       2018-01-04T18:01:34   \n",
       "...                     ...   \n",
       "127388  2024-03-30T21:54:34   \n",
       "127389  2024-03-30T22:54:55   \n",
       "127390  2024-03-30T23:24:43   \n",
       "127391  2024-03-31T00:59:36   \n",
       "127392  2024-03-31T01:59:20   \n",
       "\n",
       "                                                     text       label  \n",
       "0       Farmers will get subsidies for turning fields ...     politic  \n",
       "1       Vanuatu bans non-biodegradable plastic to prot...     politic  \n",
       "2       Ex-British PM Tony Blair ups calls for Labour ...     politic  \n",
       "3       UK's Tony Blair argues voters deserve another ...     politic  \n",
       "4       Germany had so much renewable energy over Chri...     politic  \n",
       "...                                                   ...         ...  \n",
       "127388  Wind generates record annual percentage of UK ...  technology  \n",
       "127389  HP ends ties with Russia, shutting down its Ru...  technology  \n",
       "127390  AT&T confirms data for 73 million customers le...  technology  \n",
       "127391  Missouri AG sues Media Matters as Republicans ...  technology  \n",
       "127392  Breakdown of Safety Is Not Unique to Boeing — ...  technology  \n",
       "\n",
       "[127393 rows x 3 columns]"
      ]
     },
     "execution_count": 11,
     "metadata": {},
     "output_type": "execute_result"
    }
   ],
   "source": [
    "df = pd.read_csv(\"news.csv\")\n",
    "df"
   ]
  },
  {
   "cell_type": "code",
   "execution_count": 12,
   "metadata": {},
   "outputs": [
    {
     "name": "stdout",
     "output_type": "stream",
     "text": [
      "<class 'pandas.core.frame.DataFrame'>\n",
      "RangeIndex: 127393 entries, 0 to 127392\n",
      "Data columns (total 3 columns):\n",
      " #   Column  Non-Null Count   Dtype \n",
      "---  ------  --------------   ----- \n",
      " 0   date    127393 non-null  object\n",
      " 1   text    127375 non-null  object\n",
      " 2   label   127393 non-null  object\n",
      "dtypes: object(3)\n",
      "memory usage: 2.9+ MB\n"
     ]
    }
   ],
   "source": [
    "df.info()"
   ]
  },
  {
   "cell_type": "markdown",
   "metadata": {},
   "source": [
    "checking missing Data"
   ]
  },
  {
   "cell_type": "code",
   "execution_count": 13,
   "metadata": {},
   "outputs": [
    {
     "data": {
      "text/plain": [
       "date      0\n",
       "text     18\n",
       "label     0\n",
       "dtype: int64"
      ]
     },
     "execution_count": 13,
     "metadata": {},
     "output_type": "execute_result"
    }
   ],
   "source": [
    "# Checking for missing values\n",
    "missing_data = df.isnull().sum()\n",
    "missing_data"
   ]
  },
  {
   "cell_type": "markdown",
   "metadata": {},
   "source": [
    "Data cleaning and spilting"
   ]
  },
  {
   "cell_type": "code",
   "execution_count": 14,
   "metadata": {},
   "outputs": [
    {
     "data": {
      "text/plain": [
       "((101900,), (25475,))"
      ]
     },
     "execution_count": 14,
     "metadata": {},
     "output_type": "execute_result"
    }
   ],
   "source": [
    "\n",
    "# Remove rows where 'text' is missing\n",
    "data_clean = df.dropna(subset=['text'])\n",
    "\n",
    "# Splitting the dataset into training and testing sets\n",
    "from sklearn.model_selection import train_test_split\n",
    "\n",
    "X_train, X_test, y_train, y_test = train_test_split(\n",
    "    data_clean['text'], data_clean['label'], test_size=0.2, random_state=42\n",
    ")\n",
    "\n",
    "# Check the shape of the training and testing sets\n",
    "X_train.shape, X_test.shape\n",
    "\n"
   ]
  },
  {
   "cell_type": "code",
   "execution_count": 15,
   "metadata": {},
   "outputs": [
    {
     "data": {
      "text/plain": [
       "(0.861000981354269,\n",
       " 0.8606439102300856,\n",
       " 0.861000981354269,\n",
       " array([[9696,  416,  717],\n",
       "        [ 386, 6838,  566],\n",
       "        [ 753,  703, 5400]]))"
      ]
     },
     "execution_count": 15,
     "metadata": {},
     "output_type": "execute_result"
    }
   ],
   "source": [
    "from sklearn.feature_extraction.text import TfidfVectorizer\n",
    "from sklearn.linear_model import LogisticRegression\n",
    "from sklearn.pipeline import Pipeline\n",
    "from sklearn.metrics import accuracy_score, precision_score, recall_score, confusion_matrix\n",
    "import seaborn as sns\n",
    "import matplotlib.pyplot as plt\n",
    "\n",
    "# Creating a pipeline for TF-IDF Vectorization and Logistic Regression\n",
    "pipeline = Pipeline([\n",
    "    ('tfidf', TfidfVectorizer(stop_words='english')),\n",
    "    ('classifier', LogisticRegression(random_state=42))\n",
    "])\n",
    "\n",
    "# Training the model\n",
    "pipeline.fit(X_train, y_train)\n",
    "\n",
    "# Predicting the test set\n",
    "y_pred = pipeline.predict(X_test)\n",
    "\n",
    "# Calculating metrics\n",
    "accuracy = accuracy_score(y_test, y_pred)\n",
    "precision = precision_score(y_test, y_pred, average='weighted')\n",
    "recall = recall_score(y_test, y_pred, average='weighted')\n",
    "\n",
    "# Generating the confusion matrix\n",
    "conf_matrix = confusion_matrix(y_test, y_pred)\n",
    "\n",
    "# Display metrics\n",
    "accuracy, precision, recall, conf_matrix"
   ]
  },
  {
   "cell_type": "code",
   "execution_count": 16,
   "metadata": {},
   "outputs": [
    {
     "data": {
      "image/png": "[encoded data removed]",
      "text/plain": [
       "<Figure size 1000x700 with 2 Axes>"
      ]
     },
     "metadata": {},
     "output_type": "display_data"
    }
   ],
   "source": [
    "# Plotting the confusion matrix using Seaborn\n",
    "plt.figure(figsize=(10, 7))\n",
    "sns.heatmap(conf_matrix, annot=True, fmt=\"d\", cmap=\"Blues\", xticklabels=pipeline.classes_, yticklabels=pipeline.classes_)\n",
    "plt.title('Confusion Matrix')\n",
    "plt.xlabel('Predicted Label')\n",
    "plt.ylabel('True Label')\n",
    "plt.show()"
   ]
  },
  {
   "cell_type": "code",
   "execution_count": 17,
   "metadata": {},
   "outputs": [],
   "source": [
    "import pickle\n",
    "# save model\n",
    "with open('text_classification_model.pkl', 'wb') as f:\n",
    "    pickle.dump(pipeline, f)"
   ]
  },
  {
   "cell_type": "code",
   "execution_count": 18,
   "metadata": {},
   "outputs": [],
   "source": [
    "# import streamlit as st\n",
    "# from sklearn.feature_extraction.text import TfidfVectorizer\n",
    "# from sklearn.linear_model import LogisticRegression\n",
    "\n",
    "# # loading model\n",
    "# model = pickle.load(open(\"text_classification_model.pkl\", \"rb\"))\n",
    "\n",
    "# def classify_news(text):\n",
    "#     prediction = model.predict([text])\n",
    "#     return prediction[0]\n",
    "\n",
    "# def main():\n",
    "#     st.title(\"News Classify Model\")\n",
    "#     st.write(\"Classify news and predict its categories\")\n",
    "    \n",
    "#     news_text = st.text_area(\"Input news\", \"\")\n",
    "    \n",
    "#     if st.button(\"Classify\"):\n",
    "#         label = classify_news(news_text)\n",
    "#         st.write(f\"The category of this news is: {label}\")\n",
    "\n",
    "# if __name__ == \"__main__\":\n",
    "#     main()"
   ]
  },
  {
   "cell_type": "code",
   "execution_count": null,
   "metadata": {},
   "outputs": [],
   "source": []
  },
  {
   "cell_type": "code",
   "execution_count": null,
   "metadata": {},
   "outputs": [],
   "source": []
  }
 ],
 "metadata": {
  "kernelspec": {
   "display_name": ".venv",
   "language": "python",
   "name": "python3"
  },
  "language_info": {
   "codemirror_mode": {
    "name": "ipython",
    "version": 3
   },
   "file_extension": ".py",
   "mimetype": "text/x-python",
   "name": "python",
   "nbconvert_exporter": "python",
   "pygments_lexer": "ipython3",
   "version": "3.11.9"
  }
 },
 "nbformat": 4,
 "nbformat_minor": 2
}
