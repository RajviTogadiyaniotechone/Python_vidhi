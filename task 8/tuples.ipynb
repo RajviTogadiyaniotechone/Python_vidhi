{
 "cells": [
  {
   "cell_type": "markdown",
   "metadata": {},
   "source": [
    "Tuples"
   ]
  },
  {
   "cell_type": "code",
   "execution_count": 2,
   "metadata": {},
   "outputs": [
    {
     "name": "stdout",
     "output_type": "stream",
     "text": [
      "('banana', 'apple', 'orange')\n",
      "3\n"
     ]
    }
   ],
   "source": [
    "mytuple = (\"banana\",\"apple\",\"orange\")\n",
    "print(mytuple)\n",
    "\n",
    "#length of tuple\n",
    "print(len(mytuple))"
   ]
  },
  {
   "cell_type": "code",
   "execution_count": 4,
   "metadata": {},
   "outputs": [
    {
     "name": "stdout",
     "output_type": "stream",
     "text": [
      "('apple',)\n",
      "<class 'tuple'>\n"
     ]
    }
   ],
   "source": [
    "#create a tuple with one item\n",
    "my_tuple = (\"apple\",)\n",
    "print(my_tuple)\n",
    "\n",
    "#check a type of tuple\n",
    "print(type(my_tuple))"
   ]
  },
  {
   "cell_type": "code",
   "execution_count": 5,
   "metadata": {},
   "outputs": [
    {
     "name": "stdout",
     "output_type": "stream",
     "text": [
      "('34', 'orange', '78', 'pineapple', 'True')\n",
      "<class 'tuple'>\n"
     ]
    }
   ],
   "source": [
    "#A tuple can contain different data types\n",
    "\n",
    "m_tuple = (\"34\",\"orange\",\"78\",\"pineapple\",\"True\")\n",
    "print(m_tuple)\n",
    "print(type(m_tuple))"
   ]
  },
  {
   "cell_type": "markdown",
   "metadata": {},
   "source": [
    "Tuple constructor"
   ]
  },
  {
   "cell_type": "code",
   "execution_count": 6,
   "metadata": {},
   "outputs": [
    {
     "name": "stdout",
     "output_type": "stream",
     "text": [
      "('apple', 'banana', 'watermelon')\n"
     ]
    }
   ],
   "source": [
    "#tuple constructor use (())\n",
    "con_tuple = tuple((\"apple\",\"banana\",\"watermelon\"))\n",
    "print(con_tuple)"
   ]
  },
  {
   "cell_type": "markdown",
   "metadata": {},
   "source": [
    "Access the tuple item "
   ]
  },
  {
   "cell_type": "code",
   "execution_count": 9,
   "metadata": {},
   "outputs": [
    {
     "name": "stdout",
     "output_type": "stream",
     "text": [
      "78\n",
      "True\n",
      "True\n"
     ]
    }
   ],
   "source": [
    "m_tuple = (\"34\",\"orange\",\"78\",\"pineapple\",\"True\")\n",
    "print(m_tuple[2])\n",
    "print(m_tuple[4])\n",
    "\n",
    "#negative indexing\n",
    "print(m_tuple[-1])"
   ]
  },
  {
   "cell_type": "markdown",
   "metadata": {},
   "source": [
    "Range of index"
   ]
  },
  {
   "cell_type": "code",
   "execution_count": 16,
   "metadata": {},
   "outputs": [
    {
     "name": "stdout",
     "output_type": "stream",
     "text": [
      "('orange', 'mango', 'pineapple')\n",
      "('apple', 'banana', 'orange', 'mango', 'pineapple', 'watermelon')\n",
      "('banana', 'orange', 'mango', 'pineapple', 'watermelon')\n",
      "('mango', 'pineapple')\n"
     ]
    }
   ],
   "source": [
    "this_tuple = (\"apple\",\"banana\",\"orange\",\"mango\",\"pineapple\",\"watermelon\")\n",
    "print(this_tuple[2:5])\n",
    "\n",
    "print(this_tuple[:6])\n",
    "\n",
    "print(this_tuple[1:])\n",
    "\n",
    "#negative item\n",
    "\n",
    "print(this_tuple[-3:-1])"
   ]
  },
  {
   "cell_type": "code",
   "execution_count": null,
   "metadata": {},
   "outputs": [],
   "source": [
    "#check if item exists\n",
    "this_tuple = (\"apple\",\"banana\",\"orange\",\"mango\",\"pineapple\",\"watermelon\")\n",
    "if \"pineapple\" in this_tuple:\n",
    "    print(\"yes , pineapple is present in tuple\")"
   ]
  },
  {
   "cell_type": "markdown",
   "metadata": {},
   "source": [
    "Update th e tuple"
   ]
  },
  {
   "cell_type": "code",
   "execution_count": 20,
   "metadata": {},
   "outputs": [
    {
     "name": "stdout",
     "output_type": "stream",
     "text": [
      "['apple', 'banana', 'cherry']\n",
      "('apple', 'pineapple', 'cherry')\n",
      "['apple', 'pineapple', 'cherry']\n"
     ]
    }
   ],
   "source": [
    "#convert tuple into a list\n",
    "x = (\"apple\",\"banana\",\"cherry\")\n",
    "y = list(x)\n",
    "print(y)\n",
    "y[1] = \"pineapple\"\n",
    "x = tuple(y)\n",
    "print(x)\n",
    "print (y)\n"
   ]
  },
  {
   "cell_type": "code",
   "execution_count": 25,
   "metadata": {},
   "outputs": [
    {
     "name": "stdout",
     "output_type": "stream",
     "text": [
      "['banana', 'apple', 'orange']\n",
      "('banana', 'apple', 'orange', 'mango')\n"
     ]
    }
   ],
   "source": [
    "# add item in tuple\n",
    "mytuple = (\"banana\",\"apple\",\"orange\")\n",
    "y = list(mytuple)\n",
    "print(y)\n",
    "y.append(\"mango\")\n",
    "mytuple = tuple(y)\n",
    "print(mytuple)"
   ]
  },
  {
   "cell_type": "code",
   "execution_count": 29,
   "metadata": {},
   "outputs": [
    {
     "name": "stdout",
     "output_type": "stream",
     "text": [
      "('apple', 'banana', 'orange', 'mango', 'cherry')\n"
     ]
    }
   ],
   "source": [
    "#add tuple to tuple\n",
    "this_tuple = (\"apple\",\"banana\",\"orange\",\"mango\")\n",
    "y = (\"cherry\",)\n",
    "this_tuple += y\n",
    "print(this_tuple)"
   ]
  },
  {
   "cell_type": "code",
   "execution_count": 31,
   "metadata": {},
   "outputs": [
    {
     "name": "stdout",
     "output_type": "stream",
     "text": [
      "('apple', 'banana', 'orange', 'mango')\n",
      "['apple', 'orange', 'mango']\n",
      "('apple', 'orange', 'mango')\n"
     ]
    }
   ],
   "source": [
    "#remove items in tuple with use of list\n",
    "this_tuple = (\"apple\",\"banana\",\"orange\",\"mango\")\n",
    "y = list(this_tuple)\n",
    "print(this_tuple)\n",
    "y.remove(\"banana\")\n",
    "print(y)\n",
    "this_tuple = tuple(y)\n",
    "print(this_tuple)"
   ]
  },
  {
   "cell_type": "markdown",
   "metadata": {},
   "source": [
    "Delete the tuple using del keyword"
   ]
  },
  {
   "cell_type": "code",
   "execution_count": 34,
   "metadata": {},
   "outputs": [
    {
     "name": "stdout",
     "output_type": "stream",
     "text": [
      "tuple is completely delete \n"
     ]
    }
   ],
   "source": [
    "this_tuple = (\"apple\",\"banana\",\"orange\",\"mango\")\n",
    "del this_tuple\n",
    "print(\"tuple is completely delete \")"
   ]
  },
  {
   "cell_type": "markdown",
   "metadata": {},
   "source": [
    "Unpacking a tuple"
   ]
  },
  {
   "cell_type": "code",
   "execution_count": 36,
   "metadata": {},
   "outputs": [
    {
     "name": "stdout",
     "output_type": "stream",
     "text": [
      "('red', 'blue', 'pink')\n"
     ]
    }
   ],
   "source": [
    "#packing tuple\n",
    "\n",
    "color = (\"red\",\"blue\",\"pink\")\n",
    "print(color)"
   ]
  },
  {
   "cell_type": "code",
   "execution_count": 38,
   "metadata": {},
   "outputs": [
    {
     "name": "stdout",
     "output_type": "stream",
     "text": [
      "apple\n",
      "banana\n",
      "kiwi\n"
     ]
    }
   ],
   "source": [
    "#unpacking tuple \n",
    "\n",
    "fruit = (\"banana\",\"kiwi\",\"apple\")\n",
    "(yellow,green,red) = fruit\n",
    "\n",
    "print(red)\n",
    "print(yellow)\n",
    "print(green)"
   ]
  },
  {
   "cell_type": "markdown",
   "metadata": {},
   "source": [
    "Using Asterisk*"
   ]
  },
  {
   "cell_type": "code",
   "execution_count": 48,
   "metadata": {},
   "outputs": [
    {
     "name": "stdout",
     "output_type": "stream",
     "text": [
      "banana\n",
      "apple\n",
      "['kiwi', 'watermelon']\n"
     ]
    }
   ],
   "source": [
    "#If the number of variables is less than the number of values, you can add an * to the variable name and the values will be assigned to the variable as a list:\n",
    "\n",
    "fruit = (\"banana\",\"apple\",\"kiwi\",\"watermelon\")\n",
    "(yellow , red, *green) = fruit\n",
    "print(yellow)\n",
    "print(red)\n",
    "print(green)"
   ]
  },
  {
   "cell_type": "markdown",
   "metadata": {},
   "source": [
    "loop through a tuple"
   ]
  },
  {
   "cell_type": "code",
   "execution_count": 50,
   "metadata": {},
   "outputs": [
    {
     "name": "stdout",
     "output_type": "stream",
     "text": [
      "banana\n",
      "apple\n",
      "kiwi\n",
      "watermelon\n"
     ]
    }
   ],
   "source": [
    "fruit = (\"banana\",\"apple\",\"kiwi\",\"watermelon\")\n",
    "for a in fruit:\n",
    "    print(a)"
   ]
  },
  {
   "cell_type": "code",
   "execution_count": 53,
   "metadata": {},
   "outputs": [
    {
     "name": "stdout",
     "output_type": "stream",
     "text": [
      "0\n",
      "banana\n",
      "1\n",
      "apple\n",
      "2\n",
      "kiwi\n",
      "3\n",
      "watermelon\n"
     ]
    }
   ],
   "source": [
    "#loop through the index number \n",
    "fruit = (\"banana\",\"apple\",\"kiwi\",\"watermelon\")\n",
    "for i in range(len(fruit)):\n",
    "    print(i)\n",
    "    print(fruit[i])\n"
   ]
  },
  {
   "cell_type": "markdown",
   "metadata": {},
   "source": [
    "print all item using while loop"
   ]
  },
  {
   "cell_type": "code",
   "execution_count": 55,
   "metadata": {},
   "outputs": [
    {
     "name": "stdout",
     "output_type": "stream",
     "text": [
      "banana\n",
      "apple\n",
      "kiwi\n",
      "watermelon\n"
     ]
    }
   ],
   "source": [
    "fruit = (\"banana\",\"apple\",\"kiwi\",\"watermelon\")\n",
    "i = 0\n",
    "while i < len(fruit):\n",
    "    print(fruit[i])\n",
    "    i = i + 1 "
   ]
  },
  {
   "cell_type": "markdown",
   "metadata": {},
   "source": [
    "Join two tuple"
   ]
  },
  {
   "cell_type": "code",
   "execution_count": 57,
   "metadata": {},
   "outputs": [
    {
     "name": "stdout",
     "output_type": "stream",
     "text": [
      "('table', 'chair', 'pen', 'computer', 'laptop', 'tablet')\n"
     ]
    }
   ],
   "source": [
    "tuple1 = (\"table\",\"chair\",\"pen\")\n",
    "tuple2 = (\"computer\",\"laptop\",\"tablet\")\n",
    "\n",
    "tuple3 = tuple1 + tuple2\n",
    "\n",
    "print(tuple3)"
   ]
  },
  {
   "cell_type": "markdown",
   "metadata": {},
   "source": [
    "multiply Tuples"
   ]
  },
  {
   "cell_type": "code",
   "execution_count": 59,
   "metadata": {},
   "outputs": [
    {
     "name": "stdout",
     "output_type": "stream",
     "text": [
      "('table', 'chair', 'pen', 'table', 'chair', 'pen')\n"
     ]
    }
   ],
   "source": [
    "tuple1 = (\"table\",\"chair\",\"pen\")\n",
    "\n",
    "my_tuple = tuple1 * 2 \n",
    "\n",
    "print(my_tuple)"
   ]
  },
  {
   "cell_type": "markdown",
   "metadata": {},
   "source": [
    "Tuple method"
   ]
  },
  {
   "cell_type": "markdown",
   "metadata": {},
   "source": [
    "count method"
   ]
  },
  {
   "cell_type": "code",
   "execution_count": 61,
   "metadata": {},
   "outputs": [
    {
     "name": "stdout",
     "output_type": "stream",
     "text": [
      "2\n"
     ]
    }
   ],
   "source": [
    "#count \n",
    "\n",
    "tuple1 = (\"table\",\"chair\",\"pen\",\"chair\")\n",
    "a = tuple1.count(\"chair\")\n",
    "print(a)"
   ]
  },
  {
   "cell_type": "markdown",
   "metadata": {},
   "source": [
    "Index method"
   ]
  },
  {
   "cell_type": "code",
   "execution_count": 64,
   "metadata": {},
   "outputs": [
    {
     "name": "stdout",
     "output_type": "stream",
     "text": [
      "2\n"
     ]
    }
   ],
   "source": [
    "#index method return specific index tuple.index(element, start, end)\n",
    "\n",
    "number_t = (1,45,7,32,5,8,6,5,5,4,7)\n",
    "x = number_t.index(7)\n",
    "print(x)"
   ]
  }
 ],
 "metadata": {
  "kernelspec": {
   "display_name": "Python 3",
   "language": "python",
   "name": "python3"
  },
  "language_info": {
   "codemirror_mode": {
    "name": "ipython",
    "version": 3
   },
   "file_extension": ".py",
   "mimetype": "text/x-python",
   "name": "python",
   "nbconvert_exporter": "python",
   "pygments_lexer": "ipython3",
   "version": "3.12.6"
  }
 },
 "nbformat": 4,
 "nbformat_minor": 2
}
