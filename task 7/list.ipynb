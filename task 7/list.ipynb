{
 "cells": [
  {
   "cell_type": "markdown",
   "metadata": {},
   "source": [
    "List"
   ]
  },
  {
   "cell_type": "code",
   "execution_count": 2,
   "metadata": {},
   "outputs": [
    {
     "name": "stdout",
     "output_type": "stream",
     "text": [
      "['table', 'computer', 'laptop', 'mouse', 'computer']\n"
     ]
    }
   ],
   "source": [
    "mylist = [\"table\",\"computer\",\"laptop\",\"mouse\",\"computer\"]\n",
    "print(mylist)"
   ]
  },
  {
   "cell_type": "code",
   "execution_count": 4,
   "metadata": {},
   "outputs": [
    {
     "name": "stdout",
     "output_type": "stream",
     "text": [
      "5\n",
      "<class 'list'>\n"
     ]
    }
   ],
   "source": [
    "#check the length of list\n",
    "mylist = [\"table\",\"computer\",\"laptop\",\"mouse\",\"computer\"]\n",
    "print(len(mylist))\n",
    "\n",
    "#type of the list\n",
    "print(type(mylist))"
   ]
  },
  {
   "cell_type": "code",
   "execution_count": 5,
   "metadata": {},
   "outputs": [
    {
     "name": "stdout",
     "output_type": "stream",
     "text": [
      "['apple', 'banana', 'cherry', 'pineapple']\n"
     ]
    }
   ],
   "source": [
    "#list constructor\n",
    "t_list = list((\"apple\",\"banana\",\"cherry\",\"pineapple\")) #use a double round bracket\n",
    "print(t_list)"
   ]
  },
  {
   "cell_type": "code",
   "execution_count": 10,
   "metadata": {},
   "outputs": [
    {
     "name": "stdout",
     "output_type": "stream",
     "text": [
      "computer\n",
      "laptop\n"
     ]
    }
   ],
   "source": [
    "#Access the item of lits\n",
    "mylist = [\"table\",\"computer\",\"laptop\",\"mouse\",\"computer\"]\n",
    "print(mylist[1])\n",
    "print(mylist[2])"
   ]
  },
  {
   "cell_type": "code",
   "execution_count": 12,
   "metadata": {},
   "outputs": [
    {
     "name": "stdout",
     "output_type": "stream",
     "text": [
      "mouse\n"
     ]
    }
   ],
   "source": [
    "#negative indexing\n",
    "print(mylist[-2])"
   ]
  },
  {
   "cell_type": "code",
   "execution_count": 30,
   "metadata": {},
   "outputs": [
    {
     "name": "stdout",
     "output_type": "stream",
     "text": [
      "[45, 96, 78, 54, 45, 12]\n"
     ]
    }
   ],
   "source": [
    "#update the list\n",
    "\n",
    "a = [45,458,78,54,45,12]\n",
    "a[1] = 96\n",
    "print(a)"
   ]
  },
  {
   "cell_type": "markdown",
   "metadata": {},
   "source": [
    "Range"
   ]
  },
  {
   "cell_type": "code",
   "execution_count": 14,
   "metadata": {},
   "outputs": [
    {
     "name": "stdout",
     "output_type": "stream",
     "text": [
      "['apple', 'mango', 'orange']\n",
      "['banana', 'cherry', 'apple', 'mango']\n",
      "['apple', 'mango', 'orange', 'pineapple']\n"
     ]
    }
   ],
   "source": [
    "new_list = [\"banana\",\"cherry\",\"apple\",\"mango\",\"orange\",\"pineapple\",\"kiwi\"]\n",
    "print(new_list[2:5])\n",
    "print(new_list[:4])\n",
    "print(new_list[2:])"
   ]
  },
  {
   "cell_type": "code",
   "execution_count": 19,
   "metadata": {},
   "outputs": [
    {
     "name": "stdout",
     "output_type": "stream",
     "text": [
      "['banana', 'cherry', 'apple', 'mango', 'orange']\n",
      "['pineapple']\n"
     ]
    }
   ],
   "source": [
    "#search from a end of the list \n",
    "print(new_list[:-1]) \n",
    "print(new_list[-1:])"
   ]
  },
  {
   "cell_type": "code",
   "execution_count": 20,
   "metadata": {},
   "outputs": [
    {
     "name": "stdout",
     "output_type": "stream",
     "text": [
      "yes, orange in list\n"
     ]
    }
   ],
   "source": [
    "this_list = [\"cherry\",\"apple\",\"banana\",\"pineapple\",\"orange\",\"mango\"]\n",
    "if \"orange\" in this_list:\n",
    "    print(\"yes, orange in list\")"
   ]
  },
  {
   "cell_type": "code",
   "execution_count": 22,
   "metadata": {},
   "outputs": [
    {
     "name": "stdout",
     "output_type": "stream",
     "text": [
      "['cherry', 'apple', 'banana', 'watermelon', 'orange', 'mango']\n",
      "['cherry', 'queen', 'king', 'orange', 'mango']\n"
     ]
    }
   ],
   "source": [
    "#change the item in list \n",
    "this_list = [\"cherry\",\"apple\",\"banana\",\"pineapple\",\"orange\",\"mango\"]\n",
    "this_list[3] = \"watermelon\"\n",
    "print(this_list)\n",
    "this_list[1:4] = [\"queen\",\"king\"]\n",
    "print(this_list)"
   ]
  },
  {
   "cell_type": "markdown",
   "metadata": {},
   "source": [
    "Methods\n",
    "\n",
    "-Add the item in list"
   ]
  },
  {
   "cell_type": "code",
   "execution_count": 23,
   "metadata": {},
   "outputs": [
    {
     "name": "stdout",
     "output_type": "stream",
     "text": [
      "['mango', 'banana', 'orange', 'pineapple']\n"
     ]
    }
   ],
   "source": [
    "#append method\n",
    "newlist = [\"mango\",\"banana\",\"orange\"]\n",
    "newlist.append(\"pineapple\")\n",
    "print(newlist)"
   ]
  },
  {
   "cell_type": "code",
   "execution_count": 24,
   "metadata": {},
   "outputs": [
    {
     "name": "stdout",
     "output_type": "stream",
     "text": [
      "['mango', 'orange', 'banana', 'orange', 'pineapple']\n"
     ]
    }
   ],
   "source": [
    "#insert item at the specific index\n",
    "newlist.insert(1,\"orange\")\n",
    "print(newlist)"
   ]
  },
  {
   "cell_type": "code",
   "execution_count": 28,
   "metadata": {},
   "outputs": [
    {
     "name": "stdout",
     "output_type": "stream",
     "text": [
      "['laptop', 'mouse', 'keyboard', 'computer']\n",
      "mouse\n",
      "laptop\n"
     ]
    }
   ],
   "source": [
    "mylist1 = [\"mouse\",\"keyboard\",\"computer\"]\n",
    "mylist1.insert(0,\"laptop\")\n",
    "print(mylist1)\n",
    "print(mylist1[1])\n",
    "print(mylist1[0])"
   ]
  },
  {
   "cell_type": "code",
   "execution_count": 25,
   "metadata": {},
   "outputs": [
    {
     "name": "stdout",
     "output_type": "stream",
     "text": [
      "['banana', 'orange', 'mango', 'pineapple', 'watermelon']\n"
     ]
    }
   ],
   "source": [
    "#extend method\n",
    "fruit = [\"banana\",\"orange\",\"mango\"]\n",
    "fruit1 = [\"pineapple\",\"watermelon\",]\n",
    "fruit.extend(fruit1)\n",
    "print(fruit)"
   ]
  },
  {
   "cell_type": "code",
   "execution_count": 26,
   "metadata": {},
   "outputs": [
    {
     "name": "stdout",
     "output_type": "stream",
     "text": [
      "['banana', 'orange', 'mango', 'papaya', 'cheery']\n"
     ]
    }
   ],
   "source": [
    "#add tuple in list  \n",
    "fruit = [\"banana\",\"orange\",\"mango\"]\n",
    "ft = (\"papaya\",\"cheery\")\n",
    "fruit.extend(ft)\n",
    "print(fruit)"
   ]
  },
  {
   "cell_type": "markdown",
   "metadata": {},
   "source": [
    "Remove the item in list"
   ]
  },
  {
   "cell_type": "code",
   "execution_count": 29,
   "metadata": {},
   "outputs": [
    {
     "name": "stdout",
     "output_type": "stream",
     "text": [
      "['banana', 'mango']\n"
     ]
    }
   ],
   "source": [
    "#remove specific item in list\n",
    "fruit = [\"banana\",\"orange\",\"mango\"]\n",
    "fruit.remove(\"orange\")\n",
    "print(fruit)"
   ]
  },
  {
   "cell_type": "code",
   "execution_count": 30,
   "metadata": {},
   "outputs": [
    {
     "name": "stdout",
     "output_type": "stream",
     "text": [
      "['cherry', 'banana', 'orange', 'mango']\n"
     ]
    }
   ],
   "source": [
    "#if duplicate name is there then first occurrence is remove \n",
    "my_fruit = [\"banana\",\"cherry\",\"banana\",\"orange\",\"mango\"]\n",
    "my_fruit.remove(\"banana\")\n",
    "print(my_fruit)"
   ]
  },
  {
   "cell_type": "code",
   "execution_count": 33,
   "metadata": {},
   "outputs": [
    {
     "name": "stdout",
     "output_type": "stream",
     "text": [
      "['banana', 'cherry', 'banana', 'orange']\n",
      "['cherry', 'banana', 'orange']\n"
     ]
    }
   ],
   "source": [
    "#remove specified index  pop method\n",
    "my_fruit = [\"banana\",\"cherry\",\"banana\",\"orange\",\"mango\"]\n",
    "my_fruit.pop()\n",
    "print(my_fruit)\n",
    "my_fruit.pop(0)\n",
    "print(my_fruit)"
   ]
  },
  {
   "cell_type": "code",
   "execution_count": 34,
   "metadata": {},
   "outputs": [
    {
     "name": "stdout",
     "output_type": "stream",
     "text": [
      "['cherry', 'banana', 'orange', 'mango']\n"
     ]
    }
   ],
   "source": [
    "#del keyword \n",
    "my_fruit = [\"banana\",\"cherry\",\"banana\",\"orange\",\"mango\"]\n",
    "del my_fruit[0]\n",
    "print(my_fruit)\n"
   ]
  },
  {
   "cell_type": "code",
   "execution_count": 36,
   "metadata": {},
   "outputs": [
    {
     "name": "stdout",
     "output_type": "stream",
     "text": [
      "delete whole list\n"
     ]
    }
   ],
   "source": [
    "#remove list\n",
    "my_fruit = [\"banana\",\"cherry\",\"banana\",\"orange\",\"mango\"]\n",
    "del my_fruit\n",
    "print(\"delete whole list\")"
   ]
  },
  {
   "cell_type": "code",
   "execution_count": 45,
   "metadata": {},
   "outputs": [
    {
     "name": "stdout",
     "output_type": "stream",
     "text": [
      "[]\n"
     ]
    }
   ],
   "source": [
    "#clear method clear all the items in list\n",
    "my_fruit = [\"banana\",\"cherry\",\"banana\",\"orange\",\"mango\"]\n",
    "my_fruit.clear()\n",
    "print(my_fruit)"
   ]
  },
  {
   "cell_type": "markdown",
   "metadata": {},
   "source": [
    "loops in list"
   ]
  },
  {
   "cell_type": "code",
   "execution_count": 41,
   "metadata": {},
   "outputs": [
    {
     "name": "stdout",
     "output_type": "stream",
     "text": [
      "banana\n",
      "cherry\n",
      "banana\n",
      "orange\n",
      "mango\n"
     ]
    }
   ],
   "source": [
    "#for loop\n",
    "my_fruit = [\"banana\",\"cherry\",\"banana\",\"orange\",\"mango\"]\n",
    "for x in my_fruit:\n",
    "    print(x)"
   ]
  },
  {
   "cell_type": "code",
   "execution_count": 1,
   "metadata": {},
   "outputs": [
    {
     "name": "stdout",
     "output_type": "stream",
     "text": [
      "banana\n",
      "cherry\n",
      "banana\n",
      "mango\n"
     ]
    }
   ],
   "source": [
    "#while loop\n",
    "my_fruit = [\"banana\",\"cherry\",\"banana\",\"mango\"]\n",
    "i = 0\n",
    "while i < len(my_fruit):\n",
    "    print(my_fruit[i])\n",
    "    i = i + 1"
   ]
  },
  {
   "cell_type": "code",
   "execution_count": 3,
   "metadata": {},
   "outputs": [
    {
     "name": "stdout",
     "output_type": "stream",
     "text": [
      "banana\n",
      "cherry\n",
      "banana\n",
      "orange\n"
     ]
    },
    {
     "data": {
      "text/plain": [
       "[None, None, None, None]"
      ]
     },
     "execution_count": 3,
     "metadata": {},
     "output_type": "execute_result"
    }
   ],
   "source": [
    "my_fruit = [\"banana\",\"cherry\",\"banana\",\"orange\"]\n",
    "[print(x) for x in my_fruit]"
   ]
  },
  {
   "cell_type": "markdown",
   "metadata": {},
   "source": [
    "List Comprehension"
   ]
  },
  {
   "cell_type": "code",
   "execution_count": 5,
   "metadata": {},
   "outputs": [
    {
     "name": "stdout",
     "output_type": "stream",
     "text": [
      "['banana', 'banana', 'orange', 'mango']\n"
     ]
    }
   ],
   "source": [
    "my_fruit = [\"banana\",\"cherry\",\"banana\",\"orange\",\"mango\"]\n",
    "new_list1 = []\n",
    "\n",
    "for x in my_fruit:\n",
    "    if \"a\" in x:\n",
    "        new_list1.append(x)\n",
    "print(new_list1)"
   ]
  },
  {
   "cell_type": "code",
   "execution_count": 6,
   "metadata": {},
   "outputs": [
    {
     "name": "stdout",
     "output_type": "stream",
     "text": [
      "['banana', 'banana', 'orange', 'mango']\n"
     ]
    }
   ],
   "source": [
    "my_fruit = [\"banana\",\"cherry\",\"banana\",\"orange\",\"mango\"]\n",
    "new_list1 = [x for x in my_fruit if \"a\" in x]\n",
    "print(new_list1)"
   ]
  },
  {
   "cell_type": "code",
   "execution_count": 7,
   "metadata": {},
   "outputs": [
    {
     "name": "stdout",
     "output_type": "stream",
     "text": [
      "['cherry', 'orange', 'mango']\n"
     ]
    }
   ],
   "source": [
    "my_fruit = [\"banana\",\"cherry\",\"banana\",\"orange\",\"mango\"]\n",
    "n_list = [x for x in my_fruit if x != \"banana\" ]\n",
    "print(n_list)"
   ]
  },
  {
   "cell_type": "code",
   "execution_count": 8,
   "metadata": {},
   "outputs": [
    {
     "name": "stdout",
     "output_type": "stream",
     "text": [
      "[0, 1, 2, 3, 4, 5, 6, 7, 8, 9]\n"
     ]
    }
   ],
   "source": [
    "new = [x for x in range(0,10)]\n",
    "print(new)"
   ]
  },
  {
   "cell_type": "code",
   "execution_count": 9,
   "metadata": {},
   "outputs": [
    {
     "name": "stdout",
     "output_type": "stream",
     "text": [
      "[0, 1, 2, 3, 4]\n"
     ]
    }
   ],
   "source": [
    "newl = [x for x in range(10) if x < 5 ]\n",
    "print(newl)"
   ]
  },
  {
   "cell_type": "code",
   "execution_count": 29,
   "metadata": {},
   "outputs": [
    {
     "name": "stdout",
     "output_type": "stream",
     "text": [
      "['BANANA', 'CHERRY', 'BANANA', 'ORANGE', 'MANGO']\n"
     ]
    }
   ],
   "source": [
    "my_fruit = [\"banana\",\"cherry\",\"banana\",\"orange\",\"mango\"]\n",
    "new_l = [x.upper() for x in my_fruit]\n",
    "print(new_l)"
   ]
  },
  {
   "cell_type": "code",
   "execution_count": 11,
   "metadata": {},
   "outputs": [
    {
     "name": "stdout",
     "output_type": "stream",
     "text": [
      "['pineapple', 'cherry', 'pineapple', 'orange', 'mango']\n"
     ]
    }
   ],
   "source": [
    "my_fruit = [\"banana\",\"cherry\",\"banana\",\"orange\",\"mango\"]\n",
    "new_li = [x if x != \"banana\" else \"pineapple\" for x in my_fruit]\n",
    "print(new_li)"
   ]
  },
  {
   "cell_type": "markdown",
   "metadata": {},
   "source": [
    "sort"
   ]
  },
  {
   "cell_type": "code",
   "execution_count": 15,
   "metadata": {},
   "outputs": [
    {
     "name": "stdout",
     "output_type": "stream",
     "text": [
      "['banana', 'banana', 'cherry', 'mango', 'orange']\n",
      "['orange', 'mango', 'cherry', 'banana', 'banana']\n"
     ]
    }
   ],
   "source": [
    "my_fruit = [\"banana\",\"cherry\",\"banana\",\"orange\",\"mango\"]\n",
    "my_fruit.sort()\n",
    "print(my_fruit)\n",
    "my_fruit.sort(reverse=True)\n",
    "print(my_fruit)"
   ]
  },
  {
   "cell_type": "code",
   "execution_count": 13,
   "metadata": {},
   "outputs": [
    {
     "name": "stdout",
     "output_type": "stream",
     "text": [
      "[5, 47, 57, 328, 366, 578, 743]\n"
     ]
    }
   ],
   "source": [
    "numberlist = [743,57,328,47,5,578,366]\n",
    "numberlist.sort()\n",
    "print(numberlist)"
   ]
  },
  {
   "cell_type": "code",
   "execution_count": 14,
   "metadata": {},
   "outputs": [
    {
     "name": "stdout",
     "output_type": "stream",
     "text": [
      "[743, 578, 366, 328, 57, 47, 5]\n"
     ]
    }
   ],
   "source": [
    "numberlist = [743,57,328,47,5,578,366]\n",
    "numberlist.sort(reverse=True)\n",
    "print(numberlist)"
   ]
  },
  {
   "cell_type": "code",
   "execution_count": 17,
   "metadata": {},
   "outputs": [
    {
     "name": "stdout",
     "output_type": "stream",
     "text": [
      "['Banana', 'Mango', 'banana', 'cherry', 'orange']\n",
      "['Banana', 'banana', 'cherry', 'Mango', 'orange']\n"
     ]
    }
   ],
   "source": [
    "#case-sensitive \n",
    "my_fruit = [\"banana\",\"cherry\",\"Banana\",\"orange\",\"Mango\"]\n",
    "my_fruit.sort()\n",
    "print(my_fruit)\n",
    "\n",
    "#slove\n",
    "my_fruit.sort(key = str.lower)\n",
    "print(my_fruit)"
   ]
  },
  {
   "cell_type": "code",
   "execution_count": 18,
   "metadata": {},
   "outputs": [
    {
     "name": "stdout",
     "output_type": "stream",
     "text": [
      "['banana', 'cherry', 'Banana', 'orange', 'Mango']\n"
     ]
    }
   ],
   "source": [
    "#copy list\n",
    "my_fruit = [\"banana\",\"cherry\",\"Banana\",\"orange\",\"Mango\"]\n",
    "new_fruit = my_fruit.copy()\n",
    "print(new_fruit)"
   ]
  },
  {
   "cell_type": "code",
   "execution_count": 19,
   "metadata": {},
   "outputs": [
    {
     "name": "stdout",
     "output_type": "stream",
     "text": [
      "['banana', 'cherry', 'Banana', 'orange', 'Mango']\n"
     ]
    }
   ],
   "source": [
    "#another build-in method of copy list is list()\n",
    "my_fruit = [\"banana\",\"cherry\",\"Banana\",\"orange\",\"Mango\"]\n",
    "n_f = list(my_fruit)\n",
    "print(n_f)"
   ]
  },
  {
   "cell_type": "code",
   "execution_count": 20,
   "metadata": {},
   "outputs": [
    {
     "name": "stdout",
     "output_type": "stream",
     "text": [
      "2\n"
     ]
    }
   ],
   "source": [
    "#count method\n",
    "my_fruit = [\"banana\",\"cherry\",\"banana\",\"orange\",\"mango\"]\n",
    "y = my_fruit.count(\"banana\")\n",
    "print(y)"
   ]
  },
  {
   "cell_type": "code",
   "execution_count": 21,
   "metadata": {},
   "outputs": [
    {
     "name": "stdout",
     "output_type": "stream",
     "text": [
      "0\n"
     ]
    }
   ],
   "source": [
    "#index method\n",
    "\n",
    "my_fruit = [\"banana\",\"cherry\",\"banana\",\"orange\",\"mango\"]\n",
    "x = my_fruit.index(\"banana\")\n",
    "print(x)"
   ]
  },
  {
   "cell_type": "markdown",
   "metadata": {},
   "source": [
    "Slicing"
   ]
  },
  {
   "cell_type": "code",
   "execution_count": 28,
   "metadata": {},
   "outputs": [
    {
     "name": "stdout",
     "output_type": "stream",
     "text": [
      "[36, 7]\n",
      "[87, 7, 65]\n",
      "[45, 87, 36, 7, 6, 65, 689]\n",
      "[45, 87, 36]\n",
      "[36, 7, 6, 65, 689]\n",
      "[45, 87, 36, 7, 6, 65, 689]\n"
     ]
    }
   ],
   "source": [
    "#slicing [start:stop:end]\n",
    "\n",
    "my_number = [45,87,36,7,6,65,689]\n",
    "print(my_number[2:4])\n",
    "\n",
    "print(my_number[1:8:2])\n",
    "\n",
    "print(my_number[::])\n",
    "print(my_number[:3])\n",
    "print(my_number[2::])\n",
    "print(my_number[:])\n"
   ]
  },
  {
   "cell_type": "markdown",
   "metadata": {},
   "source": [
    "Nested list"
   ]
  },
  {
   "cell_type": "code",
   "execution_count": 35,
   "metadata": {},
   "outputs": [
    {
     "name": "stdout",
     "output_type": "stream",
     "text": [
      "7\n"
     ]
    }
   ],
   "source": [
    "#nested list\n",
    "\n",
    "matrix = [\n",
    "    [8 , 9 ,5],\n",
    "    [2 , 4 ,6],\n",
    "    [5 , 7 ,3]\n",
    "]\n",
    "\n",
    "print(matrix[2][1])"
   ]
  },
  {
   "cell_type": "code",
   "execution_count": 36,
   "metadata": {},
   "outputs": [
    {
     "name": "stdout",
     "output_type": "stream",
     "text": [
      "[5, 6, 8, 9, 7, 3]\n"
     ]
    }
   ],
   "source": [
    "#concatenate list\n",
    "\n",
    "a = [5,6,8]\n",
    "b = [9,7,3]\n",
    "\n",
    "c = a + b \n",
    "print(c)"
   ]
  },
  {
   "cell_type": "code",
   "execution_count": 37,
   "metadata": {},
   "outputs": [
    {
     "name": "stdout",
     "output_type": "stream",
     "text": [
      "[5, 6, 8, 9, 7, 3]\n"
     ]
    }
   ],
   "source": [
    "#using * unpacking element of multiple list\n",
    "a = [5,6,8]\n",
    "b = [9,7,3]\n",
    "\n",
    "c = [*a, *b]\n",
    "print(c)"
   ]
  }
 ],
 "metadata": {
  "kernelspec": {
   "display_name": "Python 3",
   "language": "python",
   "name": "python3"
  },
  "language_info": {
   "codemirror_mode": {
    "name": "ipython",
    "version": 3
   },
   "file_extension": ".py",
   "mimetype": "text/x-python",
   "name": "python",
   "nbconvert_exporter": "python",
   "pygments_lexer": "ipython3",
   "version": "3.12.6"
  }
 },
 "nbformat": 4,
 "nbformat_minor": 2
}
