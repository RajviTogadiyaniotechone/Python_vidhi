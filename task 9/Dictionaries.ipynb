{
 "cells": [
  {
   "cell_type": "markdown",
   "metadata": {},
   "source": [
    "Dictionaries"
   ]
  },
  {
   "cell_type": "code",
   "execution_count": 2,
   "metadata": {},
   "outputs": [
    {
     "name": "stdout",
     "output_type": "stream",
     "text": [
      "{'name': 'student1', 'byear': '2005', 'city': 'rajkot'}\n"
     ]
    }
   ],
   "source": [
    "Dic = {\n",
    "    \"name\" : \"student1\",\n",
    "    \"byear\" : \"2005\",\n",
    "    \"city\" : \"rajkot\"\n",
    "}\n",
    "\n",
    "print(Dic)"
   ]
  },
  {
   "cell_type": "code",
   "execution_count": 6,
   "metadata": {},
   "outputs": [
    {
     "name": "stdout",
     "output_type": "stream",
     "text": [
      "{'cityn': 'baroda', 'population': '400000', 'rate': '5'}\n",
      "baroda\n"
     ]
    }
   ],
   "source": [
    "dic = {\n",
    "    \"cityn\" : \"baroda\",\n",
    "    \"population\" : \"400000\",\n",
    "    \"rate\" : \"5\"\n",
    "}\n",
    "\n",
    "print(dic)\n",
    "\n",
    "#accessing item \n",
    "\n",
    "print(dic[\"cityn\"])"
   ]
  },
  {
   "cell_type": "code",
   "execution_count": 9,
   "metadata": {},
   "outputs": [
    {
     "name": "stdout",
     "output_type": "stream",
     "text": [
      "{'cityn': 'baroda', 'population': '400000', 'rate': '7'}\n",
      "length of dictionary ->  3\n"
     ]
    }
   ],
   "source": [
    "#not allow duplicate value\n",
    "dic = {\n",
    "    \"cityn\" : \"baroda\",\n",
    "    \"population\" : \"400000\",\n",
    "    \"rate\" : \"5\",\n",
    "    \"rate\" : \"7\"\n",
    "}\n",
    "\n",
    "print(dic)\n",
    "\n",
    "#length of dictionary\n",
    "\n",
    "print(\"length of dictionary -> \",len(dic))"
   ]
  },
  {
   "cell_type": "markdown",
   "metadata": {},
   "source": [
    "Dictionary item data type"
   ]
  },
  {
   "cell_type": "code",
   "execution_count": 12,
   "metadata": {},
   "outputs": [
    {
     "name": "stdout",
     "output_type": "stream",
     "text": [
      "{'city': 'rajokt', 'population': '1000000', 'cleancity': 'true', 'rate': '7', 'city member': ['makvana rahul', 'sureshbhai']}\n",
      "<class 'dict'>\n"
     ]
    }
   ],
   "source": [
    "this_dic = {\n",
    "    \"city\" : \"rajokt\",\n",
    "    \"population\" : \"1000000\",\n",
    "    \"cleancity\" : \"true\",\n",
    "    \"rate\" : \"7\",\n",
    "    \"city member\" : [\"makvana rahul\",\"sureshbhai\"]\n",
    "}\n",
    "\n",
    "print(this_dic)\n",
    "\n",
    "print(type(this_dic))"
   ]
  },
  {
   "cell_type": "markdown",
   "metadata": {},
   "source": [
    "Dictonary constructor"
   ]
  },
  {
   "cell_type": "code",
   "execution_count": 14,
   "metadata": {},
   "outputs": [
    {
     "name": "stdout",
     "output_type": "stream",
     "text": [
      "{'name': 'johan', 'age': '12', 'city': 'rajkot'}\n"
     ]
    }
   ],
   "source": [
    "thisdic = dict(name = \"johan\" , age = \"12\" , city = \"rajkot\")\n",
    "print(thisdic)  "
   ]
  },
  {
   "cell_type": "markdown",
   "metadata": {},
   "source": [
    "Accessing item"
   ]
  },
  {
   "cell_type": "code",
   "execution_count": 22,
   "metadata": {},
   "outputs": [
    {
     "name": "stdout",
     "output_type": "stream",
     "text": [
      "mumbai\n",
      "1958\n"
     ]
    }
   ],
   "source": [
    "dic1 = {\n",
    "    \"name\" : \"kevin\",\n",
    "    \"city\" : \"mumbai\",\n",
    "    \"year\" : \"1958\"\n",
    "}\n",
    "\n",
    "x = dic1[\"city\"]\n",
    "print(x)\n",
    "\n",
    "#use get method \n",
    "\n",
    "y = dic1.get(\"year\")\n",
    "print(y)\n",
    "\n"
   ]
  },
  {
   "cell_type": "markdown",
   "metadata": {},
   "source": [
    "key() mthod\n",
    "\n",
    "get a key from dictionaries"
   ]
  },
  {
   "cell_type": "code",
   "execution_count": 23,
   "metadata": {},
   "outputs": [
    {
     "name": "stdout",
     "output_type": "stream",
     "text": [
      "dict_keys(['brand', 'model', 'year'])\n"
     ]
    }
   ],
   "source": [
    "thisdict = {\n",
    "  \"brand\": \"Ford\",\n",
    "  \"model\": \"Mustang\",\n",
    "  \"year\": 1964\n",
    "}\n",
    "\n",
    "x = thisdict.keys()\n",
    "\n",
    "print(x)\n"
   ]
  },
  {
   "cell_type": "code",
   "execution_count": 27,
   "metadata": {},
   "outputs": [
    {
     "name": "stdout",
     "output_type": "stream",
     "text": [
      "dict_keys(['name', 'city', 'year'])\n",
      "dict_keys(['name', 'city', 'year', 'age'])\n"
     ]
    }
   ],
   "source": [
    "dict3 = {\n",
    "  \"name\" : \"kevin\",\n",
    "    \"city\" : \"mumbai\",\n",
    "    \"year\" : \"2005\", \n",
    "}\n",
    "\n",
    "x = dict3.keys()\n",
    "\n",
    "print(x)\n",
    "\n",
    "dict3[\"age\"] = \"20\"\n",
    "\n",
    "print(x)\n",
    "\n"
   ]
  },
  {
   "cell_type": "code",
   "execution_count": 34,
   "metadata": {},
   "outputs": [
    {
     "name": "stdout",
     "output_type": "stream",
     "text": [
      "dict_values(['kevin', 'mumbai', '2005'])\n",
      "dict_values(['kevin', 'mumbai', 2020])\n",
      "dict_items([('name', 'kevin'), ('city', 'mumbai'), ('year', 2020)])\n",
      "dict_items([('name', 'kevin'), ('city', 'mumbai'), ('year', 2020), ('age', '19')])\n"
     ]
    }
   ],
   "source": [
    "dict3 = {\n",
    "    \"name\" : \"kevin\",\n",
    "    \"city\" : \"mumbai\",\n",
    "    \"year\" : \"2005\", \n",
    "}\n",
    "\n",
    "x = dict3.values()\n",
    "\n",
    "print(x)\n",
    "\n",
    "dict3[\"year\"] = 2020\n",
    "\n",
    "print(x)\n",
    "\n",
    "#add the new item\n",
    "\n",
    "y = dict3.items()\n",
    "\n",
    "print(y)\n",
    "\n",
    "dict3[\"age\"] = \"19\"\n",
    "\n",
    "print(y)"
   ]
  },
  {
   "cell_type": "markdown",
   "metadata": {},
   "source": [
    "Check if Key Exists"
   ]
  },
  {
   "cell_type": "code",
   "execution_count": 37,
   "metadata": {},
   "outputs": [
    {
     "name": "stdout",
     "output_type": "stream",
     "text": [
      "yes , 'toy' is one of the keys in the dict_n dictionary\n"
     ]
    }
   ],
   "source": [
    "dict_n = {\n",
    "    \"fruit\" : \"orange\",\n",
    "    \"toy\" : \"car\",\n",
    "    \"lunch\" : \"2004\"\n",
    "}\n",
    "\n",
    "if \"toy\" in dict_n :\n",
    "    print(\"yes , 'toy' is one of the keys in the dict_n dictionary\")"
   ]
  },
  {
   "cell_type": "markdown",
   "metadata": {},
   "source": [
    "Change Value"
   ]
  },
  {
   "cell_type": "code",
   "execution_count": 39,
   "metadata": {},
   "outputs": [
    {
     "name": "stdout",
     "output_type": "stream",
     "text": [
      "{'fruit': 'orange', 'toy': 'car', 'lunch': 2024}\n"
     ]
    }
   ],
   "source": [
    "dict_n = {\n",
    "    \"fruit\" : \"orange\",\n",
    "    \"toy\" : \"car\",\n",
    "    \"lunch\" : \"2004\",\n",
    "}\n",
    "\n",
    "dict_n[\"lunch\"] = 2024\n",
    "\n",
    "print(dict_n)"
   ]
  },
  {
   "cell_type": "code",
   "execution_count": 41,
   "metadata": {},
   "outputs": [
    {
     "name": "stdout",
     "output_type": "stream",
     "text": [
      "{'fruit': 'orange', 'toy': 'car', 'lunch': '2024'}\n"
     ]
    }
   ],
   "source": [
    "dict_n = {\n",
    "    \"fruit\" : \"orange\",\n",
    "    \"toy\" : \"car\",\n",
    "    \"lunch\" : \"2004\",\n",
    "}\n",
    "\n",
    "dict_n.update({\"lunch\" : \"2024\"})\n",
    "\n",
    "print(dict_n)"
   ]
  },
  {
   "cell_type": "markdown",
   "metadata": {},
   "source": [
    "Adding Items"
   ]
  },
  {
   "cell_type": "code",
   "execution_count": 44,
   "metadata": {},
   "outputs": [
    {
     "name": "stdout",
     "output_type": "stream",
     "text": [
      "{'fruit': 'orange', 'toy': 'car', 'lunch': '2004', 'color': 'purple'}\n"
     ]
    }
   ],
   "source": [
    "dict_n = {\n",
    "    \"fruit\" : \"orange\",\n",
    "    \"toy\" : \"car\",\n",
    "    \"lunch\" : \"2004\",\n",
    "}\n",
    "dict_n[\"color\"] = \"purple\"\n",
    "print(dict_n)"
   ]
  },
  {
   "cell_type": "markdown",
   "metadata": {},
   "source": [
    "Update Dictionary"
   ]
  },
  {
   "cell_type": "code",
   "execution_count": 45,
   "metadata": {},
   "outputs": [
    {
     "name": "stdout",
     "output_type": "stream",
     "text": [
      "{'fruit': 'orange', 'toy': 'car', 'lunch': '2004', 'color': 'orange'}\n"
     ]
    }
   ],
   "source": [
    "dict_n = {\n",
    "    \"fruit\" : \"orange\",\n",
    "    \"toy\" : \"car\",\n",
    "    \"lunch\" : \"2004\",\n",
    "}\n",
    "\n",
    "dict_n.update({\"color\" : \"orange\"})\n",
    "\n",
    "print(dict_n)"
   ]
  },
  {
   "cell_type": "markdown",
   "metadata": {},
   "source": [
    "Removing items"
   ]
  },
  {
   "cell_type": "code",
   "execution_count": 46,
   "metadata": {},
   "outputs": [
    {
     "name": "stdout",
     "output_type": "stream",
     "text": [
      "{'fruit': 'orange', 'lunch': '2004'}\n"
     ]
    }
   ],
   "source": [
    "dict_n = {\n",
    "    \"fruit\" : \"orange\",\n",
    "    \"toy\" : \"car\",\n",
    "    \"lunch\" : \"2004\",\n",
    "}\n",
    "\n",
    "dict_n.pop(\"toy\")\n",
    "print(dict_n)"
   ]
  },
  {
   "cell_type": "code",
   "execution_count": 48,
   "metadata": {},
   "outputs": [
    {
     "name": "stdout",
     "output_type": "stream",
     "text": [
      "{'fruit': 'orange', 'toy': 'car'}\n"
     ]
    }
   ],
   "source": [
    "#pop last item at the end of the dictionary\n",
    "\n",
    "dict_n = {\n",
    "    \"fruit\" : \"orange\",\n",
    "    \"toy\" : \"car\",\n",
    "    \"lunch\" : \"2004\",\n",
    "}\n",
    "dict_n.popitem()\n",
    "print(dict_n)"
   ]
  },
  {
   "cell_type": "code",
   "execution_count": 50,
   "metadata": {},
   "outputs": [
    {
     "name": "stdout",
     "output_type": "stream",
     "text": [
      "{'toy': 'car', 'lunch': '2004'}\n"
     ]
    }
   ],
   "source": [
    "\n",
    "dict_n = {\n",
    "    \"fruit\" : \"orange\",\n",
    "    \"toy\" : \"car\",\n",
    "    \"lunch\" : \"2004\",\n",
    "}\n",
    "\n",
    "del dict_n[\"fruit\"]\n",
    "print(dict_n)"
   ]
  },
  {
   "cell_type": "code",
   "execution_count": 52,
   "metadata": {},
   "outputs": [],
   "source": [
    "#use del keyword to whole dictionary\n",
    "\n",
    "dict_n = {\n",
    "    \"fruit\" : \"orange\",\n",
    "    \"toy\" : \"car\",\n",
    "    \"lunch\" : \"2004\",\n",
    "}\n",
    "\n",
    "del dict_n"
   ]
  },
  {
   "cell_type": "code",
   "execution_count": 53,
   "metadata": {},
   "outputs": [
    {
     "name": "stdout",
     "output_type": "stream",
     "text": [
      "{}\n"
     ]
    }
   ],
   "source": [
    "dict_n = {\n",
    "    \"fruit\" : \"orange\",\n",
    "    \"toy\" : \"car\",\n",
    "    \"lunch\" : \"2004\",\n",
    "}\n",
    "dict_n.clear()\n",
    "print(dict_n)"
   ]
  },
  {
   "cell_type": "markdown",
   "metadata": {},
   "source": [
    "Loop Dictionaries"
   ]
  },
  {
   "cell_type": "code",
   "execution_count": 55,
   "metadata": {},
   "outputs": [
    {
     "name": "stdout",
     "output_type": "stream",
     "text": [
      "fruit\n",
      "toy\n",
      "lunch\n"
     ]
    }
   ],
   "source": [
    "dict_n = {\n",
    "    \"fruit\" : \"orange\",\n",
    "    \"toy\" : \"car\",\n",
    "    \"lunch\" : \"2004\",\n",
    "}\n",
    "\n",
    "for x in dict_n:\n",
    "    print(x)"
   ]
  },
  {
   "cell_type": "code",
   "execution_count": 61,
   "metadata": {},
   "outputs": [
    {
     "name": "stdout",
     "output_type": "stream",
     "text": [
      "orange\n",
      "car\n",
      "2004\n"
     ]
    }
   ],
   "source": [
    "#print all key name (values) in dictionary \n",
    "\n",
    "dict_n = {\n",
    "    \"fruit\" : \"orange\",\n",
    "    \"toy\" : \"car\",\n",
    "    \"lunch\" : \"2004\",\n",
    "}\n",
    "\n",
    "for x in dict_n.values():\n",
    "  print(x)\n",
    "  "
   ]
  },
  {
   "cell_type": "code",
   "execution_count": 62,
   "metadata": {},
   "outputs": [
    {
     "name": "stdout",
     "output_type": "stream",
     "text": [
      "fruit\n",
      "toy\n",
      "lunch\n"
     ]
    }
   ],
   "source": [
    "#print the key\n",
    "\n",
    "dict_n = {\n",
    "    \"fruit\" : \"orange\",\n",
    "    \"toy\" : \"car\",\n",
    "    \"lunch\" : \"2004\",\n",
    "}\n",
    "\n",
    "for x in dict_n:\n",
    "    print(x)"
   ]
  },
  {
   "cell_type": "code",
   "execution_count": 71,
   "metadata": {},
   "outputs": [
    {
     "name": "stdout",
     "output_type": "stream",
     "text": [
      "orange\n",
      "car\n",
      "2004\n",
      "red\n",
      "keys of dictionary ::\n",
      "fruit\n",
      "toy\n",
      "lunch\n",
      "color\n"
     ]
    }
   ],
   "source": [
    "dict_n = {\n",
    "    \"fruit\" : \"orange\",\n",
    "    \"toy\" : \"car\",\n",
    "    \"lunch\" : \"2004\",\n",
    "    \"color\" : \"red\"\n",
    "}\n",
    "\n",
    "for x in dict_n.values():\n",
    "    print(x)\n",
    "    \n",
    "print(\"keys of dictionary ::\")\n",
    "\n",
    "for x in dict_n.keys():\n",
    "   print(x)"
   ]
  },
  {
   "cell_type": "code",
   "execution_count": 78,
   "metadata": {},
   "outputs": [
    {
     "name": "stdout",
     "output_type": "stream",
     "text": [
      "fruit orange\n",
      "toy car\n",
      "lunch 2004\n",
      "color red\n",
      "print only key in dictionary :\n",
      "fruit\n",
      "toy\n",
      "lunch\n",
      "color\n"
     ]
    }
   ],
   "source": [
    "dict_n = {\n",
    "    \"fruit\" : \"orange\",\n",
    "    \"toy\" : \"car\",\n",
    "    \"lunch\" : \"2004\",\n",
    "    \"color\" : \"red\"\n",
    "}\n",
    "\n",
    "for x , y in dict_n.items():\n",
    "    print(x,y)\n",
    "    \n",
    "# print only key \n",
    "print(\"print only key in dictionary :\")\n",
    "\n",
    "for x in dict_n.keys():\n",
    "    print(x)"
   ]
  },
  {
   "cell_type": "markdown",
   "metadata": {},
   "source": [
    "copy Dictionary"
   ]
  },
  {
   "cell_type": "code",
   "execution_count": 80,
   "metadata": {},
   "outputs": [
    {
     "name": "stdout",
     "output_type": "stream",
     "text": [
      "{'fruit': 'orange', 'toy': 'car', 'lunch': '2004', 'color': 'red'}\n"
     ]
    }
   ],
   "source": [
    "dict_n = {\n",
    "    \"fruit\" : \"orange\",\n",
    "    \"toy\" : \"car\",\n",
    "    \"lunch\" : \"2004\",\n",
    "    \"color\" : \"red\"\n",
    "}\n",
    "\n",
    "my_dict = dict_n.copy()\n",
    "print(my_dict)"
   ]
  },
  {
   "cell_type": "code",
   "execution_count": 82,
   "metadata": {},
   "outputs": [
    {
     "name": "stdout",
     "output_type": "stream",
     "text": [
      "{'fruit': 'orange', 'toy': 'car', 'lunch': '2004', 'color': 'red'}\n"
     ]
    }
   ],
   "source": [
    "#also use dict() function\n",
    "dict_n = {\n",
    "    \"fruit\" : \"orange\",\n",
    "    \"toy\" : \"car\",\n",
    "    \"lunch\" : \"2004\",\n",
    "    \"color\" : \"red\"\n",
    "}\n",
    "\n",
    "my_dic1 = dict(dict_n)\n",
    "print(my_dic1)"
   ]
  },
  {
   "cell_type": "code",
   "execution_count": 83,
   "metadata": {},
   "outputs": [
    {
     "name": "stdout",
     "output_type": "stream",
     "text": [
      "{'student1': {'name': 'kevin', 'grade': 'A'}, 'student2': {'name': 'xyz', 'grade': 'b'}, 'student3': {'name': 'foram', 'grade': 'c'}, 'student4': {'name': 'ayushi', 'grade': 'c'}}\n",
      "b\n"
     ]
    }
   ],
   "source": [
    "#nested Dictionary\n",
    "\n",
    "student = {\n",
    "    \"student1\" :{\n",
    "        \"name\" : \"kevin\",\n",
    "        \"grade\" : \"A\"\n",
    "    },\n",
    "    \"student2\" :{\n",
    "        \"name\" : \"xyz\",\n",
    "        \"grade\" : \"b\"\n",
    "    },\n",
    "    \"student3\" :{\n",
    "        \"name\" : \"foram\",\n",
    "        \"grade\" : \"c\"\n",
    "    },\n",
    "    \"student4\" : {\n",
    "        \"name\" :\"ayushi\",\n",
    "        \"grade\" : \"c\"\n",
    "    }\n",
    "}\n",
    "print(student)\n",
    "\n",
    "print(student[\"student2\"][\"grade\"])"
   ]
  }
 ],
 "metadata": {
  "kernelspec": {
   "display_name": "Python 3",
   "language": "python",
   "name": "python3"
  },
  "language_info": {
   "codemirror_mode": {
    "name": "ipython",
    "version": 3
   },
   "file_extension": ".py",
   "mimetype": "text/x-python",
   "name": "python",
   "nbconvert_exporter": "python",
   "pygments_lexer": "ipython3",
   "version": "3.12.6"
  }
 },
 "nbformat": 4,
 "nbformat_minor": 2
}
