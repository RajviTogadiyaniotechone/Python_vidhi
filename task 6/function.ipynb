{
 "cells": [
  {
   "cell_type": "markdown",
   "metadata": {},
   "source": [
    "Functions"
   ]
  },
  {
   "cell_type": "code",
   "execution_count": 20,
   "metadata": {},
   "outputs": [
    {
     "name": "stdout",
     "output_type": "stream",
     "text": [
      "hello this is a function\n"
     ]
    }
   ],
   "source": [
    "def my_function():\n",
    "    print(\"hello this is a function\")\n",
    "    \n",
    "my_function()"
   ]
  },
  {
   "cell_type": "markdown",
   "metadata": {},
   "source": [
    "Arguments\n"
   ]
  },
  {
   "cell_type": "code",
   "execution_count": 21,
   "metadata": {},
   "outputs": [
    {
     "name": "stdout",
     "output_type": "stream",
     "text": [
      "vidhi vaghela\n"
     ]
    }
   ],
   "source": [
    "def my_function2(fname,lname):\n",
    "    print(fname + \" \" + lname)\n",
    "\n",
    "my_function2(\"vidhi\",\"vaghela\")"
   ]
  },
  {
   "cell_type": "markdown",
   "metadata": {},
   "source": [
    "Arbitrary Argument , *args"
   ]
  },
  {
   "cell_type": "code",
   "execution_count": 22,
   "metadata": {},
   "outputs": [
    {
     "name": "stdout",
     "output_type": "stream",
     "text": [
      "The Youngest child is raju\n"
     ]
    }
   ],
   "source": [
    "def arbitrary_v(*kids):\n",
    "    #print(\"The Youngest child is \",kids)\n",
    "    print(\"The Youngest child is\",kids[1])\n",
    "    \n",
    "arbitrary_v(\"vihan\",\"raju\",\"pranshu\")\n",
    "\n"
   ]
  },
  {
   "cell_type": "markdown",
   "metadata": {},
   "source": [
    "Keyword Argument"
   ]
  },
  {
   "cell_type": "code",
   "execution_count": 23,
   "metadata": {},
   "outputs": [
    {
     "name": "stdout",
     "output_type": "stream",
     "text": [
      "The youngest boy is krishil and apurv\n"
     ]
    }
   ],
   "source": [
    "def keyword_arg(boy1,boy3,boy2):\n",
    "    print(\"The youngest boy is\",boy3, \"and\",boy1)\n",
    "    \n",
    "keyword_arg(boy1=\"apurv\", boy2 =\"parth\" , boy3 =\"krishil\")"
   ]
  },
  {
   "cell_type": "markdown",
   "metadata": {},
   "source": [
    "Positional Argument"
   ]
  },
  {
   "cell_type": "code",
   "execution_count": 24,
   "metadata": {},
   "outputs": [
    {
     "name": "stdout",
     "output_type": "stream",
     "text": [
      "hello my school name is northstar\n",
      "i am  in std 11th\n",
      "hello my school name is westwood\n",
      "i am  in std 5th\n"
     ]
    }
   ],
   "source": [
    "def name_keyword(school,std):\n",
    "    print(\"hello my school name is\" ,school)\n",
    "    print(\"i am  in std\",std)\n",
    "    \n",
    "name_keyword(school=\"northstar\",std=\"11th\")\n",
    "name_keyword(std=\"5th\",school=\"westwood\")"
   ]
  },
  {
   "cell_type": "markdown",
   "metadata": {},
   "source": [
    "Arbitrary keyword argument"
   ]
  },
  {
   "cell_type": "code",
   "execution_count": 25,
   "metadata": {},
   "outputs": [
    {
     "name": "stdout",
     "output_type": "stream",
     "text": [
      "prince have a two blue pen\n"
     ]
    }
   ],
   "source": [
    "def my_arbitrary_k(**pen):\n",
    "    print(\"prince have a two \" + pen[\"pen1\"])\n",
    "    \n",
    "my_arbitrary_k(pen1 =\"blue pen\" ,pen2 =\"dark blue pen\")"
   ]
  },
  {
   "cell_type": "markdown",
   "metadata": {},
   "source": [
    "Default parameter value "
   ]
  },
  {
   "cell_type": "code",
   "execution_count": 26,
   "metadata": {},
   "outputs": [
    {
     "name": "stdout",
     "output_type": "stream",
     "text": [
      "my native place is  Baroda\n",
      "my native place is  Junagtha\n",
      "my native place is  rajkot\n",
      "my native place is  Bombay\n"
     ]
    }
   ],
   "source": [
    "def my_function(place = \"rajkot\"):\n",
    "    print(\"my native place is \",place)\n",
    "\n",
    "my_function(\"Baroda\")\n",
    "my_function(\"Junagtha\")\n",
    "my_function()\n",
    "my_function(\"Bombay\")"
   ]
  },
  {
   "cell_type": "markdown",
   "metadata": {},
   "source": [
    "Return Value"
   ]
  },
  {
   "cell_type": "code",
   "execution_count": 27,
   "metadata": {},
   "outputs": [
    {
     "name": "stdout",
     "output_type": "stream",
     "text": [
      "6\n",
      "10\n",
      "24\n"
     ]
    }
   ],
   "source": [
    "def return_v(x):\n",
    "    return x * 2\n",
    "\n",
    "print(return_v(3))\n",
    "print(return_v(5))\n",
    "print(return_v(12))"
   ]
  },
  {
   "cell_type": "markdown",
   "metadata": {},
   "source": [
    "Pass Statement "
   ]
  },
  {
   "cell_type": "code",
   "execution_count": 28,
   "metadata": {},
   "outputs": [],
   "source": [
    "def my_function():\n",
    "    pass"
   ]
  },
  {
   "cell_type": "markdown",
   "metadata": {},
   "source": [
    "positional- only argument"
   ]
  },
  {
   "cell_type": "code",
   "execution_count": 29,
   "metadata": {},
   "outputs": [
    {
     "name": "stdout",
     "output_type": "stream",
     "text": [
      "3\n"
     ]
    }
   ],
   "source": [
    "def positional_arg(x ,/):\n",
    "    print(x)\n",
    "    \n",
    "positional_arg(3)"
   ]
  },
  {
   "cell_type": "code",
   "execution_count": 31,
   "metadata": {},
   "outputs": [
    {
     "name": "stdout",
     "output_type": "stream",
     "text": [
      "3\n"
     ]
    }
   ],
   "source": [
    "#if you try the keyword argument with / then get a error\n",
    "#def positional_arg(x ,/):\n",
    "#    print(x)\n",
    "    \n",
    "#positional_arg(x = 3)\n",
    "\n",
    "def positional_arg(x):\n",
    "    print(x)\n",
    "    \n",
    "positional_arg(3)"
   ]
  },
  {
   "cell_type": "markdown",
   "metadata": {},
   "source": [
    "keyword only argument"
   ]
  },
  {
   "cell_type": "code",
   "execution_count": 33,
   "metadata": {},
   "outputs": [
    {
     "name": "stdout",
     "output_type": "stream",
     "text": [
      "4\n"
     ]
    }
   ],
   "source": [
    "#To specify that a function can have only keyword arguments, add *, before the arguments\n",
    "\n",
    "def keyword_only(*,x):\n",
    "        print(x)\n",
    "\n",
    "keyword_only(x = 4)\n",
    "\n",
    "#we get a error if you no pass the keyword when call the function\n",
    "#def keyword_only(*,x):\n",
    "#    print(x)\n",
    "\n",
    "#keyword_only(4)"
   ]
  },
  {
   "cell_type": "markdown",
   "metadata": {},
   "source": [
    "Anonymous Function\n",
    "\n",
    "Lambda Function"
   ]
  },
  {
   "cell_type": "code",
   "execution_count": 35,
   "metadata": {},
   "outputs": [
    {
     "name": "stdout",
     "output_type": "stream",
     "text": [
      "45\n"
     ]
    }
   ],
   "source": [
    "x =  lambda a : a + 5\n",
    "print(x(40))"
   ]
  },
  {
   "cell_type": "code",
   "execution_count": 36,
   "metadata": {},
   "outputs": [
    {
     "name": "stdout",
     "output_type": "stream",
     "text": [
      "42\n"
     ]
    }
   ],
   "source": [
    "x = lambda a ,b : a * b\n",
    "print(x(6,7))"
   ]
  },
  {
   "cell_type": "code",
   "execution_count": 37,
   "metadata": {},
   "outputs": [
    {
     "name": "stdout",
     "output_type": "stream",
     "text": [
      "20\n"
     ]
    }
   ],
   "source": [
    "def lam_fun(n):\n",
    "    return lambda a: a * n\n",
    "\n",
    "mylam = lam_fun(4)\n",
    "\n",
    "print(mylam(5))"
   ]
  },
  {
   "cell_type": "code",
   "execution_count": 39,
   "metadata": {},
   "outputs": [
    {
     "name": "stdout",
     "output_type": "stream",
     "text": [
      "addition is : 70\n"
     ]
    }
   ],
   "source": [
    "ex_lambda = lambda num1, num2 : num1 + num2 ;\n",
    "print(\"addition is :\",ex_lambda(20,50))"
   ]
  },
  {
   "cell_type": "markdown",
   "metadata": {},
   "source": [
    "SCOPE OF VARIABLE"
   ]
  },
  {
   "cell_type": "code",
   "execution_count": 38,
   "metadata": {},
   "outputs": [
    {
     "name": "stdout",
     "output_type": "stream",
     "text": [
      "value inside the function 30\n",
      "value outside of function 50\n"
     ]
    }
   ],
   "source": [
    "num = 70\n",
    "def number():\n",
    "    num = 30\n",
    "    print(\"value inside the function\",num)\n",
    "    \n",
    "num = 50\n",
    "number()\n",
    "print(\"value outside of function\",num)"
   ]
  },
  {
   "cell_type": "code",
   "execution_count": 41,
   "metadata": {},
   "outputs": [
    {
     "name": "stdout",
     "output_type": "stream",
     "text": [
      "500\n",
      "500\n"
     ]
    }
   ],
   "source": [
    "#global scope \n",
    "x = 500\n",
    "\n",
    "def my_fun():\n",
    "    print(x)\n",
    "\n",
    "my_fun()\n",
    "\n",
    "print(x)"
   ]
  },
  {
   "cell_type": "code",
   "execution_count": null,
   "metadata": {},
   "outputs": [],
   "source": [
    "x = 500\n"
   ]
  }
 ],
 "metadata": {
  "kernelspec": {
   "display_name": "Python 3",
   "language": "python",
   "name": "python3"
  },
  "language_info": {
   "codemirror_mode": {
    "name": "ipython",
    "version": 3
   },
   "file_extension": ".py",
   "mimetype": "text/x-python",
   "name": "python",
   "nbconvert_exporter": "python",
   "pygments_lexer": "ipython3",
   "version": "3.12.6"
  }
 },
 "nbformat": 4,
 "nbformat_minor": 2
}
