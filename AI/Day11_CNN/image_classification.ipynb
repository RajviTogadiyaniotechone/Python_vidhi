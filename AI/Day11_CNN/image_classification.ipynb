{
 "cells": [
  {
   "cell_type": "markdown",
   "metadata": {},
   "source": [
    "Use a pre-trained CNN model (e.g., VGG16) for image classification."
   ]
  },
  {
   "cell_type": "code",
   "execution_count": 14,
   "metadata": {},
   "outputs": [],
   "source": [
    "import tensorflow as tf\n",
    "from tensorflow.keras.applications import VGG16\n",
    "\n",
    "model = VGG16(weights='imagenet')"
   ]
  },
  {
   "cell_type": "code",
   "execution_count": 15,
   "metadata": {},
   "outputs": [
    {
     "data": {
      "text/html": [
       "<pre style=\"white-space:pre;overflow-x:auto;line-height:normal;font-family:Menlo,'DejaVu Sans Mono',consolas,'Courier New',monospace\"><span style=\"font-weight: bold\">Model: \"vgg16\"</span>\n",
       "</pre>\n"
      ],
      "text/plain": [
       "\u001b[1mModel: \"vgg16\"\u001b[0m\n"
      ]
     },
     "metadata": {},
     "output_type": "display_data"
    },
    {
     "data": {
      "text/html": [
       "<pre style=\"white-space:pre;overflow-x:auto;line-height:normal;font-family:Menlo,'DejaVu Sans Mono',consolas,'Courier New',monospace\">┏━━━━━━━━━━━━━━━━━━━━━━━━━━━━━━━━━┳━━━━━━━━━━━━━━━━━━━━━━━━┳━━━━━━━━━━━━━━━┓\n",
       "┃<span style=\"font-weight: bold\"> Layer (type)                    </span>┃<span style=\"font-weight: bold\"> Output Shape           </span>┃<span style=\"font-weight: bold\">       Param # </span>┃\n",
       "┡━━━━━━━━━━━━━━━━━━━━━━━━━━━━━━━━━╇━━━━━━━━━━━━━━━━━━━━━━━━╇━━━━━━━━━━━━━━━┩\n",
       "│ input_layer_2 (<span style=\"color: #0087ff; text-decoration-color: #0087ff\">InputLayer</span>)      │ (<span style=\"color: #00d7ff; text-decoration-color: #00d7ff\">None</span>, <span style=\"color: #00af00; text-decoration-color: #00af00\">224</span>, <span style=\"color: #00af00; text-decoration-color: #00af00\">224</span>, <span style=\"color: #00af00; text-decoration-color: #00af00\">3</span>)    │             <span style=\"color: #00af00; text-decoration-color: #00af00\">0</span> │\n",
       "├─────────────────────────────────┼────────────────────────┼───────────────┤\n",
       "│ block1_conv1 (<span style=\"color: #0087ff; text-decoration-color: #0087ff\">Conv2D</span>)           │ (<span style=\"color: #00d7ff; text-decoration-color: #00d7ff\">None</span>, <span style=\"color: #00af00; text-decoration-color: #00af00\">224</span>, <span style=\"color: #00af00; text-decoration-color: #00af00\">224</span>, <span style=\"color: #00af00; text-decoration-color: #00af00\">64</span>)   │         <span style=\"color: #00af00; text-decoration-color: #00af00\">1,792</span> │\n",
       "├─────────────────────────────────┼────────────────────────┼───────────────┤\n",
       "│ block1_conv2 (<span style=\"color: #0087ff; text-decoration-color: #0087ff\">Conv2D</span>)           │ (<span style=\"color: #00d7ff; text-decoration-color: #00d7ff\">None</span>, <span style=\"color: #00af00; text-decoration-color: #00af00\">224</span>, <span style=\"color: #00af00; text-decoration-color: #00af00\">224</span>, <span style=\"color: #00af00; text-decoration-color: #00af00\">64</span>)   │        <span style=\"color: #00af00; text-decoration-color: #00af00\">36,928</span> │\n",
       "├─────────────────────────────────┼────────────────────────┼───────────────┤\n",
       "│ block1_pool (<span style=\"color: #0087ff; text-decoration-color: #0087ff\">MaxPooling2D</span>)      │ (<span style=\"color: #00d7ff; text-decoration-color: #00d7ff\">None</span>, <span style=\"color: #00af00; text-decoration-color: #00af00\">112</span>, <span style=\"color: #00af00; text-decoration-color: #00af00\">112</span>, <span style=\"color: #00af00; text-decoration-color: #00af00\">64</span>)   │             <span style=\"color: #00af00; text-decoration-color: #00af00\">0</span> │\n",
       "├─────────────────────────────────┼────────────────────────┼───────────────┤\n",
       "│ block2_conv1 (<span style=\"color: #0087ff; text-decoration-color: #0087ff\">Conv2D</span>)           │ (<span style=\"color: #00d7ff; text-decoration-color: #00d7ff\">None</span>, <span style=\"color: #00af00; text-decoration-color: #00af00\">112</span>, <span style=\"color: #00af00; text-decoration-color: #00af00\">112</span>, <span style=\"color: #00af00; text-decoration-color: #00af00\">128</span>)  │        <span style=\"color: #00af00; text-decoration-color: #00af00\">73,856</span> │\n",
       "├─────────────────────────────────┼────────────────────────┼───────────────┤\n",
       "│ block2_conv2 (<span style=\"color: #0087ff; text-decoration-color: #0087ff\">Conv2D</span>)           │ (<span style=\"color: #00d7ff; text-decoration-color: #00d7ff\">None</span>, <span style=\"color: #00af00; text-decoration-color: #00af00\">112</span>, <span style=\"color: #00af00; text-decoration-color: #00af00\">112</span>, <span style=\"color: #00af00; text-decoration-color: #00af00\">128</span>)  │       <span style=\"color: #00af00; text-decoration-color: #00af00\">147,584</span> │\n",
       "├─────────────────────────────────┼────────────────────────┼───────────────┤\n",
       "│ block2_pool (<span style=\"color: #0087ff; text-decoration-color: #0087ff\">MaxPooling2D</span>)      │ (<span style=\"color: #00d7ff; text-decoration-color: #00d7ff\">None</span>, <span style=\"color: #00af00; text-decoration-color: #00af00\">56</span>, <span style=\"color: #00af00; text-decoration-color: #00af00\">56</span>, <span style=\"color: #00af00; text-decoration-color: #00af00\">128</span>)    │             <span style=\"color: #00af00; text-decoration-color: #00af00\">0</span> │\n",
       "├─────────────────────────────────┼────────────────────────┼───────────────┤\n",
       "│ block3_conv1 (<span style=\"color: #0087ff; text-decoration-color: #0087ff\">Conv2D</span>)           │ (<span style=\"color: #00d7ff; text-decoration-color: #00d7ff\">None</span>, <span style=\"color: #00af00; text-decoration-color: #00af00\">56</span>, <span style=\"color: #00af00; text-decoration-color: #00af00\">56</span>, <span style=\"color: #00af00; text-decoration-color: #00af00\">256</span>)    │       <span style=\"color: #00af00; text-decoration-color: #00af00\">295,168</span> │\n",
       "├─────────────────────────────────┼────────────────────────┼───────────────┤\n",
       "│ block3_conv2 (<span style=\"color: #0087ff; text-decoration-color: #0087ff\">Conv2D</span>)           │ (<span style=\"color: #00d7ff; text-decoration-color: #00d7ff\">None</span>, <span style=\"color: #00af00; text-decoration-color: #00af00\">56</span>, <span style=\"color: #00af00; text-decoration-color: #00af00\">56</span>, <span style=\"color: #00af00; text-decoration-color: #00af00\">256</span>)    │       <span style=\"color: #00af00; text-decoration-color: #00af00\">590,080</span> │\n",
       "├─────────────────────────────────┼────────────────────────┼───────────────┤\n",
       "│ block3_conv3 (<span style=\"color: #0087ff; text-decoration-color: #0087ff\">Conv2D</span>)           │ (<span style=\"color: #00d7ff; text-decoration-color: #00d7ff\">None</span>, <span style=\"color: #00af00; text-decoration-color: #00af00\">56</span>, <span style=\"color: #00af00; text-decoration-color: #00af00\">56</span>, <span style=\"color: #00af00; text-decoration-color: #00af00\">256</span>)    │       <span style=\"color: #00af00; text-decoration-color: #00af00\">590,080</span> │\n",
       "├─────────────────────────────────┼────────────────────────┼───────────────┤\n",
       "│ block3_pool (<span style=\"color: #0087ff; text-decoration-color: #0087ff\">MaxPooling2D</span>)      │ (<span style=\"color: #00d7ff; text-decoration-color: #00d7ff\">None</span>, <span style=\"color: #00af00; text-decoration-color: #00af00\">28</span>, <span style=\"color: #00af00; text-decoration-color: #00af00\">28</span>, <span style=\"color: #00af00; text-decoration-color: #00af00\">256</span>)    │             <span style=\"color: #00af00; text-decoration-color: #00af00\">0</span> │\n",
       "├─────────────────────────────────┼────────────────────────┼───────────────┤\n",
       "│ block4_conv1 (<span style=\"color: #0087ff; text-decoration-color: #0087ff\">Conv2D</span>)           │ (<span style=\"color: #00d7ff; text-decoration-color: #00d7ff\">None</span>, <span style=\"color: #00af00; text-decoration-color: #00af00\">28</span>, <span style=\"color: #00af00; text-decoration-color: #00af00\">28</span>, <span style=\"color: #00af00; text-decoration-color: #00af00\">512</span>)    │     <span style=\"color: #00af00; text-decoration-color: #00af00\">1,180,160</span> │\n",
       "├─────────────────────────────────┼────────────────────────┼───────────────┤\n",
       "│ block4_conv2 (<span style=\"color: #0087ff; text-decoration-color: #0087ff\">Conv2D</span>)           │ (<span style=\"color: #00d7ff; text-decoration-color: #00d7ff\">None</span>, <span style=\"color: #00af00; text-decoration-color: #00af00\">28</span>, <span style=\"color: #00af00; text-decoration-color: #00af00\">28</span>, <span style=\"color: #00af00; text-decoration-color: #00af00\">512</span>)    │     <span style=\"color: #00af00; text-decoration-color: #00af00\">2,359,808</span> │\n",
       "├─────────────────────────────────┼────────────────────────┼───────────────┤\n",
       "│ block4_conv3 (<span style=\"color: #0087ff; text-decoration-color: #0087ff\">Conv2D</span>)           │ (<span style=\"color: #00d7ff; text-decoration-color: #00d7ff\">None</span>, <span style=\"color: #00af00; text-decoration-color: #00af00\">28</span>, <span style=\"color: #00af00; text-decoration-color: #00af00\">28</span>, <span style=\"color: #00af00; text-decoration-color: #00af00\">512</span>)    │     <span style=\"color: #00af00; text-decoration-color: #00af00\">2,359,808</span> │\n",
       "├─────────────────────────────────┼────────────────────────┼───────────────┤\n",
       "│ block4_pool (<span style=\"color: #0087ff; text-decoration-color: #0087ff\">MaxPooling2D</span>)      │ (<span style=\"color: #00d7ff; text-decoration-color: #00d7ff\">None</span>, <span style=\"color: #00af00; text-decoration-color: #00af00\">14</span>, <span style=\"color: #00af00; text-decoration-color: #00af00\">14</span>, <span style=\"color: #00af00; text-decoration-color: #00af00\">512</span>)    │             <span style=\"color: #00af00; text-decoration-color: #00af00\">0</span> │\n",
       "├─────────────────────────────────┼────────────────────────┼───────────────┤\n",
       "│ block5_conv1 (<span style=\"color: #0087ff; text-decoration-color: #0087ff\">Conv2D</span>)           │ (<span style=\"color: #00d7ff; text-decoration-color: #00d7ff\">None</span>, <span style=\"color: #00af00; text-decoration-color: #00af00\">14</span>, <span style=\"color: #00af00; text-decoration-color: #00af00\">14</span>, <span style=\"color: #00af00; text-decoration-color: #00af00\">512</span>)    │     <span style=\"color: #00af00; text-decoration-color: #00af00\">2,359,808</span> │\n",
       "├─────────────────────────────────┼────────────────────────┼───────────────┤\n",
       "│ block5_conv2 (<span style=\"color: #0087ff; text-decoration-color: #0087ff\">Conv2D</span>)           │ (<span style=\"color: #00d7ff; text-decoration-color: #00d7ff\">None</span>, <span style=\"color: #00af00; text-decoration-color: #00af00\">14</span>, <span style=\"color: #00af00; text-decoration-color: #00af00\">14</span>, <span style=\"color: #00af00; text-decoration-color: #00af00\">512</span>)    │     <span style=\"color: #00af00; text-decoration-color: #00af00\">2,359,808</span> │\n",
       "├─────────────────────────────────┼────────────────────────┼───────────────┤\n",
       "│ block5_conv3 (<span style=\"color: #0087ff; text-decoration-color: #0087ff\">Conv2D</span>)           │ (<span style=\"color: #00d7ff; text-decoration-color: #00d7ff\">None</span>, <span style=\"color: #00af00; text-decoration-color: #00af00\">14</span>, <span style=\"color: #00af00; text-decoration-color: #00af00\">14</span>, <span style=\"color: #00af00; text-decoration-color: #00af00\">512</span>)    │     <span style=\"color: #00af00; text-decoration-color: #00af00\">2,359,808</span> │\n",
       "├─────────────────────────────────┼────────────────────────┼───────────────┤\n",
       "│ block5_pool (<span style=\"color: #0087ff; text-decoration-color: #0087ff\">MaxPooling2D</span>)      │ (<span style=\"color: #00d7ff; text-decoration-color: #00d7ff\">None</span>, <span style=\"color: #00af00; text-decoration-color: #00af00\">7</span>, <span style=\"color: #00af00; text-decoration-color: #00af00\">7</span>, <span style=\"color: #00af00; text-decoration-color: #00af00\">512</span>)      │             <span style=\"color: #00af00; text-decoration-color: #00af00\">0</span> │\n",
       "├─────────────────────────────────┼────────────────────────┼───────────────┤\n",
       "│ flatten (<span style=\"color: #0087ff; text-decoration-color: #0087ff\">Flatten</span>)               │ (<span style=\"color: #00d7ff; text-decoration-color: #00d7ff\">None</span>, <span style=\"color: #00af00; text-decoration-color: #00af00\">25088</span>)          │             <span style=\"color: #00af00; text-decoration-color: #00af00\">0</span> │\n",
       "├─────────────────────────────────┼────────────────────────┼───────────────┤\n",
       "│ fc1 (<span style=\"color: #0087ff; text-decoration-color: #0087ff\">Dense</span>)                     │ (<span style=\"color: #00d7ff; text-decoration-color: #00d7ff\">None</span>, <span style=\"color: #00af00; text-decoration-color: #00af00\">4096</span>)           │   <span style=\"color: #00af00; text-decoration-color: #00af00\">102,764,544</span> │\n",
       "├─────────────────────────────────┼────────────────────────┼───────────────┤\n",
       "│ fc2 (<span style=\"color: #0087ff; text-decoration-color: #0087ff\">Dense</span>)                     │ (<span style=\"color: #00d7ff; text-decoration-color: #00d7ff\">None</span>, <span style=\"color: #00af00; text-decoration-color: #00af00\">4096</span>)           │    <span style=\"color: #00af00; text-decoration-color: #00af00\">16,781,312</span> │\n",
       "├─────────────────────────────────┼────────────────────────┼───────────────┤\n",
       "│ predictions (<span style=\"color: #0087ff; text-decoration-color: #0087ff\">Dense</span>)             │ (<span style=\"color: #00d7ff; text-decoration-color: #00d7ff\">None</span>, <span style=\"color: #00af00; text-decoration-color: #00af00\">1000</span>)           │     <span style=\"color: #00af00; text-decoration-color: #00af00\">4,097,000</span> │\n",
       "└─────────────────────────────────┴────────────────────────┴───────────────┘\n",
       "</pre>\n"
      ],
      "text/plain": [
       "┏━━━━━━━━━━━━━━━━━━━━━━━━━━━━━━━━━┳━━━━━━━━━━━━━━━━━━━━━━━━┳━━━━━━━━━━━━━━━┓\n",
       "┃\u001b[1m \u001b[0m\u001b[1mLayer (type)                   \u001b[0m\u001b[1m \u001b[0m┃\u001b[1m \u001b[0m\u001b[1mOutput Shape          \u001b[0m\u001b[1m \u001b[0m┃\u001b[1m \u001b[0m\u001b[1m      Param #\u001b[0m\u001b[1m \u001b[0m┃\n",
       "┡━━━━━━━━━━━━━━━━━━━━━━━━━━━━━━━━━╇━━━━━━━━━━━━━━━━━━━━━━━━╇━━━━━━━━━━━━━━━┩\n",
       "│ input_layer_2 (\u001b[38;5;33mInputLayer\u001b[0m)      │ (\u001b[38;5;45mNone\u001b[0m, \u001b[38;5;34m224\u001b[0m, \u001b[38;5;34m224\u001b[0m, \u001b[38;5;34m3\u001b[0m)    │             \u001b[38;5;34m0\u001b[0m │\n",
       "├─────────────────────────────────┼────────────────────────┼───────────────┤\n",
       "│ block1_conv1 (\u001b[38;5;33mConv2D\u001b[0m)           │ (\u001b[38;5;45mNone\u001b[0m, \u001b[38;5;34m224\u001b[0m, \u001b[38;5;34m224\u001b[0m, \u001b[38;5;34m64\u001b[0m)   │         \u001b[38;5;34m1,792\u001b[0m │\n",
       "├─────────────────────────────────┼────────────────────────┼───────────────┤\n",
       "│ block1_conv2 (\u001b[38;5;33mConv2D\u001b[0m)           │ (\u001b[38;5;45mNone\u001b[0m, \u001b[38;5;34m224\u001b[0m, \u001b[38;5;34m224\u001b[0m, \u001b[38;5;34m64\u001b[0m)   │        \u001b[38;5;34m36,928\u001b[0m │\n",
       "├─────────────────────────────────┼────────────────────────┼───────────────┤\n",
       "│ block1_pool (\u001b[38;5;33mMaxPooling2D\u001b[0m)      │ (\u001b[38;5;45mNone\u001b[0m, \u001b[38;5;34m112\u001b[0m, \u001b[38;5;34m112\u001b[0m, \u001b[38;5;34m64\u001b[0m)   │             \u001b[38;5;34m0\u001b[0m │\n",
       "├─────────────────────────────────┼────────────────────────┼───────────────┤\n",
       "│ block2_conv1 (\u001b[38;5;33mConv2D\u001b[0m)           │ (\u001b[38;5;45mNone\u001b[0m, \u001b[38;5;34m112\u001b[0m, \u001b[38;5;34m112\u001b[0m, \u001b[38;5;34m128\u001b[0m)  │        \u001b[38;5;34m73,856\u001b[0m │\n",
       "├─────────────────────────────────┼────────────────────────┼───────────────┤\n",
       "│ block2_conv2 (\u001b[38;5;33mConv2D\u001b[0m)           │ (\u001b[38;5;45mNone\u001b[0m, \u001b[38;5;34m112\u001b[0m, \u001b[38;5;34m112\u001b[0m, \u001b[38;5;34m128\u001b[0m)  │       \u001b[38;5;34m147,584\u001b[0m │\n",
       "├─────────────────────────────────┼────────────────────────┼───────────────┤\n",
       "│ block2_pool (\u001b[38;5;33mMaxPooling2D\u001b[0m)      │ (\u001b[38;5;45mNone\u001b[0m, \u001b[38;5;34m56\u001b[0m, \u001b[38;5;34m56\u001b[0m, \u001b[38;5;34m128\u001b[0m)    │             \u001b[38;5;34m0\u001b[0m │\n",
       "├─────────────────────────────────┼────────────────────────┼───────────────┤\n",
       "│ block3_conv1 (\u001b[38;5;33mConv2D\u001b[0m)           │ (\u001b[38;5;45mNone\u001b[0m, \u001b[38;5;34m56\u001b[0m, \u001b[38;5;34m56\u001b[0m, \u001b[38;5;34m256\u001b[0m)    │       \u001b[38;5;34m295,168\u001b[0m │\n",
       "├─────────────────────────────────┼────────────────────────┼───────────────┤\n",
       "│ block3_conv2 (\u001b[38;5;33mConv2D\u001b[0m)           │ (\u001b[38;5;45mNone\u001b[0m, \u001b[38;5;34m56\u001b[0m, \u001b[38;5;34m56\u001b[0m, \u001b[38;5;34m256\u001b[0m)    │       \u001b[38;5;34m590,080\u001b[0m │\n",
       "├─────────────────────────────────┼────────────────────────┼───────────────┤\n",
       "│ block3_conv3 (\u001b[38;5;33mConv2D\u001b[0m)           │ (\u001b[38;5;45mNone\u001b[0m, \u001b[38;5;34m56\u001b[0m, \u001b[38;5;34m56\u001b[0m, \u001b[38;5;34m256\u001b[0m)    │       \u001b[38;5;34m590,080\u001b[0m │\n",
       "├─────────────────────────────────┼────────────────────────┼───────────────┤\n",
       "│ block3_pool (\u001b[38;5;33mMaxPooling2D\u001b[0m)      │ (\u001b[38;5;45mNone\u001b[0m, \u001b[38;5;34m28\u001b[0m, \u001b[38;5;34m28\u001b[0m, \u001b[38;5;34m256\u001b[0m)    │             \u001b[38;5;34m0\u001b[0m │\n",
       "├─────────────────────────────────┼────────────────────────┼───────────────┤\n",
       "│ block4_conv1 (\u001b[38;5;33mConv2D\u001b[0m)           │ (\u001b[38;5;45mNone\u001b[0m, \u001b[38;5;34m28\u001b[0m, \u001b[38;5;34m28\u001b[0m, \u001b[38;5;34m512\u001b[0m)    │     \u001b[38;5;34m1,180,160\u001b[0m │\n",
       "├─────────────────────────────────┼────────────────────────┼───────────────┤\n",
       "│ block4_conv2 (\u001b[38;5;33mConv2D\u001b[0m)           │ (\u001b[38;5;45mNone\u001b[0m, \u001b[38;5;34m28\u001b[0m, \u001b[38;5;34m28\u001b[0m, \u001b[38;5;34m512\u001b[0m)    │     \u001b[38;5;34m2,359,808\u001b[0m │\n",
       "├─────────────────────────────────┼────────────────────────┼───────────────┤\n",
       "│ block4_conv3 (\u001b[38;5;33mConv2D\u001b[0m)           │ (\u001b[38;5;45mNone\u001b[0m, \u001b[38;5;34m28\u001b[0m, \u001b[38;5;34m28\u001b[0m, \u001b[38;5;34m512\u001b[0m)    │     \u001b[38;5;34m2,359,808\u001b[0m │\n",
       "├─────────────────────────────────┼────────────────────────┼───────────────┤\n",
       "│ block4_pool (\u001b[38;5;33mMaxPooling2D\u001b[0m)      │ (\u001b[38;5;45mNone\u001b[0m, \u001b[38;5;34m14\u001b[0m, \u001b[38;5;34m14\u001b[0m, \u001b[38;5;34m512\u001b[0m)    │             \u001b[38;5;34m0\u001b[0m │\n",
       "├─────────────────────────────────┼────────────────────────┼───────────────┤\n",
       "│ block5_conv1 (\u001b[38;5;33mConv2D\u001b[0m)           │ (\u001b[38;5;45mNone\u001b[0m, \u001b[38;5;34m14\u001b[0m, \u001b[38;5;34m14\u001b[0m, \u001b[38;5;34m512\u001b[0m)    │     \u001b[38;5;34m2,359,808\u001b[0m │\n",
       "├─────────────────────────────────┼────────────────────────┼───────────────┤\n",
       "│ block5_conv2 (\u001b[38;5;33mConv2D\u001b[0m)           │ (\u001b[38;5;45mNone\u001b[0m, \u001b[38;5;34m14\u001b[0m, \u001b[38;5;34m14\u001b[0m, \u001b[38;5;34m512\u001b[0m)    │     \u001b[38;5;34m2,359,808\u001b[0m │\n",
       "├─────────────────────────────────┼────────────────────────┼───────────────┤\n",
       "│ block5_conv3 (\u001b[38;5;33mConv2D\u001b[0m)           │ (\u001b[38;5;45mNone\u001b[0m, \u001b[38;5;34m14\u001b[0m, \u001b[38;5;34m14\u001b[0m, \u001b[38;5;34m512\u001b[0m)    │     \u001b[38;5;34m2,359,808\u001b[0m │\n",
       "├─────────────────────────────────┼────────────────────────┼───────────────┤\n",
       "│ block5_pool (\u001b[38;5;33mMaxPooling2D\u001b[0m)      │ (\u001b[38;5;45mNone\u001b[0m, \u001b[38;5;34m7\u001b[0m, \u001b[38;5;34m7\u001b[0m, \u001b[38;5;34m512\u001b[0m)      │             \u001b[38;5;34m0\u001b[0m │\n",
       "├─────────────────────────────────┼────────────────────────┼───────────────┤\n",
       "│ flatten (\u001b[38;5;33mFlatten\u001b[0m)               │ (\u001b[38;5;45mNone\u001b[0m, \u001b[38;5;34m25088\u001b[0m)          │             \u001b[38;5;34m0\u001b[0m │\n",
       "├─────────────────────────────────┼────────────────────────┼───────────────┤\n",
       "│ fc1 (\u001b[38;5;33mDense\u001b[0m)                     │ (\u001b[38;5;45mNone\u001b[0m, \u001b[38;5;34m4096\u001b[0m)           │   \u001b[38;5;34m102,764,544\u001b[0m │\n",
       "├─────────────────────────────────┼────────────────────────┼───────────────┤\n",
       "│ fc2 (\u001b[38;5;33mDense\u001b[0m)                     │ (\u001b[38;5;45mNone\u001b[0m, \u001b[38;5;34m4096\u001b[0m)           │    \u001b[38;5;34m16,781,312\u001b[0m │\n",
       "├─────────────────────────────────┼────────────────────────┼───────────────┤\n",
       "│ predictions (\u001b[38;5;33mDense\u001b[0m)             │ (\u001b[38;5;45mNone\u001b[0m, \u001b[38;5;34m1000\u001b[0m)           │     \u001b[38;5;34m4,097,000\u001b[0m │\n",
       "└─────────────────────────────────┴────────────────────────┴───────────────┘\n"
      ]
     },
     "metadata": {},
     "output_type": "display_data"
    },
    {
     "data": {
      "text/html": [
       "<pre style=\"white-space:pre;overflow-x:auto;line-height:normal;font-family:Menlo,'DejaVu Sans Mono',consolas,'Courier New',monospace\"><span style=\"font-weight: bold\"> Total params: </span><span style=\"color: #00af00; text-decoration-color: #00af00\">138,357,544</span> (527.79 MB)\n",
       "</pre>\n"
      ],
      "text/plain": [
       "\u001b[1m Total params: \u001b[0m\u001b[38;5;34m138,357,544\u001b[0m (527.79 MB)\n"
      ]
     },
     "metadata": {},
     "output_type": "display_data"
    },
    {
     "data": {
      "text/html": [
       "<pre style=\"white-space:pre;overflow-x:auto;line-height:normal;font-family:Menlo,'DejaVu Sans Mono',consolas,'Courier New',monospace\"><span style=\"font-weight: bold\"> Trainable params: </span><span style=\"color: #00af00; text-decoration-color: #00af00\">138,357,544</span> (527.79 MB)\n",
       "</pre>\n"
      ],
      "text/plain": [
       "\u001b[1m Trainable params: \u001b[0m\u001b[38;5;34m138,357,544\u001b[0m (527.79 MB)\n"
      ]
     },
     "metadata": {},
     "output_type": "display_data"
    },
    {
     "data": {
      "text/html": [
       "<pre style=\"white-space:pre;overflow-x:auto;line-height:normal;font-family:Menlo,'DejaVu Sans Mono',consolas,'Courier New',monospace\"><span style=\"font-weight: bold\"> Non-trainable params: </span><span style=\"color: #00af00; text-decoration-color: #00af00\">0</span> (0.00 B)\n",
       "</pre>\n"
      ],
      "text/plain": [
       "\u001b[1m Non-trainable params: \u001b[0m\u001b[38;5;34m0\u001b[0m (0.00 B)\n"
      ]
     },
     "metadata": {},
     "output_type": "display_data"
    },
    {
     "name": "stdout",
     "output_type": "stream",
     "text": [
      "None\n"
     ]
    }
   ],
   "source": [
    "print(model.summary())"
   ]
  },
  {
   "cell_type": "markdown",
   "metadata": {},
   "source": [
    "load and prepare image"
   ]
  },
  {
   "cell_type": "code",
   "execution_count": 16,
   "metadata": {},
   "outputs": [
    {
     "data": {
      "image/jpeg": "[encoded data removed]",
      "image/png": "[encoded data removed]",
      "text/plain": [
       "<PIL.Image.Image image mode=RGB size=224x224>"
      ]
     },
     "execution_count": 16,
     "metadata": {},
     "output_type": "execute_result"
    }
   ],
   "source": [
    "from keras.preprocessing.image import load_img\n",
    "# load an image from file\n",
    "image = load_img('bottle.webp', target_size=(224, 224))\n",
    "image"
   ]
  },
  {
   "cell_type": "code",
   "execution_count": 17,
   "metadata": {},
   "outputs": [],
   "source": [
    "from keras.preprocessing.image import img_to_array\n",
    "# convert the image pixels to a numpy array\n",
    "image = img_to_array(image)"
   ]
  },
  {
   "cell_type": "code",
   "execution_count": 18,
   "metadata": {},
   "outputs": [],
   "source": [
    "\n",
    "# reshape data for the model\n",
    "image = image.reshape((1, image.shape[0], image.shape[1], image.shape[2]))          \n"
   ]
  },
  {
   "cell_type": "code",
   "execution_count": 19,
   "metadata": {},
   "outputs": [],
   "source": [
    "\n",
    "from keras.applications.vgg16 import preprocess_input\n",
    "# prepare the image for the VGG model\n",
    "image = preprocess_input(image)"
   ]
  },
  {
   "cell_type": "markdown",
   "metadata": {},
   "source": [
    "make prediction\n"
   ]
  },
  {
   "cell_type": "code",
   "execution_count": null,
   "metadata": {},
   "outputs": [
    {
     "name": "stdout",
     "output_type": "stream",
     "text": [
      "\u001b[1m1/1\u001b[0m \u001b[32m━━━━━━━━━━━━━━━━━━━━\u001b[0m\u001b[37m\u001b[0m \u001b[1m8s\u001b[0m 8s/step\n",
      "[[5.29076516e-09 5.79475667e-08 1.55233615e-09 1.77842840e-09\n",
      "  4.93504526e-09 3.62043151e-09 5.13174059e-10 7.22283788e-09\n",
      "  7.86342635e-09 9.36156610e-08 1.17797034e-08 1.62184605e-07\n",
      "  3.14764179e-08 1.50203805e-09 1.10509802e-06 2.44695713e-08\n",
      "  1.91662419e-08 4.28367315e-07 5.02870776e-08 2.30708430e-08\n",
      "  2.79010148e-09 1.66019074e-08 3.16778026e-09 2.75041523e-09\n",
      "  1.49667889e-09 1.25057742e-08 1.98480627e-08 4.65693724e-08\n",
      "  7.96278243e-09 4.40318324e-08 2.29143247e-08 2.36272228e-07\n",
      "  2.89629867e-07 4.23907176e-09 1.17216992e-08 1.94573668e-09\n",
      "  2.00845154e-08 9.11816178e-10 5.28579225e-09 1.00758282e-08\n",
      "  1.22906565e-08 9.81016779e-09 5.97230851e-08 2.88522117e-09\n",
      "  1.35156941e-09 3.26554037e-08 7.16196027e-08 4.11240464e-09\n",
      "  2.20578951e-08 2.37211428e-09 2.70133094e-09 4.46246401e-10\n",
      "  7.98430406e-08 1.56972497e-08 1.82938589e-08 1.30081403e-08\n",
      "  9.64079305e-09 4.24122293e-09 7.68645769e-09 2.96432159e-08\n",
      "  1.43801460e-08 5.97474337e-09 2.08588258e-09 1.79871371e-08\n",
      "  4.65043115e-08 3.95734503e-08 2.56151811e-09 6.77410705e-09\n",
      "  1.47285684e-09 2.72034795e-09 1.72574275e-08 1.06037248e-07\n",
      "  1.62875686e-08 1.60313860e-08 1.48991228e-08 1.25227446e-08\n",
      "  1.69624727e-07 4.91926926e-08 1.22345767e-07 3.63412340e-07\n",
      "  4.24365876e-09 2.60811661e-09 1.76242683e-08 6.65971633e-09\n",
      "  7.45076889e-08 2.94575599e-08 5.62205216e-09 2.26470629e-08\n",
      "  2.41333922e-08 4.25737623e-09 4.55111646e-08 5.90957789e-08\n",
      "  5.69826177e-08 1.24218025e-09 3.08226134e-07 2.05721040e-08\n",
      "  1.60805378e-08 5.12340037e-09 1.53846758e-09 5.16296339e-09\n",
      "  6.42294884e-09 4.67608929e-09 9.38320088e-09 3.75744008e-07\n",
      "  4.31811671e-08 1.45845238e-08 1.05278852e-08 6.66447164e-08\n",
      "  6.05469141e-09 5.05500664e-09 1.78489969e-08 9.25549273e-08\n",
      "  6.14577473e-08 6.05128281e-10 2.17438956e-08 6.82937262e-09\n",
      "  5.46218848e-10 3.95425526e-10 8.99974140e-09 2.49465746e-08\n",
      "  2.05040198e-08 8.20219181e-09 1.22963741e-07 2.40053524e-08\n",
      "  2.08345114e-07 9.79707782e-09 7.29437701e-08 1.33065905e-08\n",
      "  7.24657223e-09 3.03826009e-09 6.54267196e-10 1.18576997e-08\n",
      "  3.85280519e-09 8.85081675e-10 2.13609774e-09 2.99703817e-09\n",
      "  5.71550380e-08 1.04674562e-08 4.44790160e-09 6.22137097e-09\n",
      "  7.86725085e-09 2.45675924e-08 3.22300919e-09 1.06258282e-08\n",
      "  2.83972068e-09 2.46222438e-08 2.73593894e-08 1.50908885e-08\n",
      "  4.02257738e-09 2.21027818e-09 1.19473910e-07 6.02203230e-08\n",
      "  3.32545973e-08 1.96966013e-07 1.27825999e-08 8.86329374e-08\n",
      "  7.65952901e-09 3.30701710e-07 1.91475081e-07 5.45006955e-08\n",
      "  4.63894096e-08 7.49378231e-08 4.06615470e-08 3.34120180e-08\n",
      "  5.15248857e-08 7.70614577e-08 1.01457163e-08 3.33933947e-09\n",
      "  2.64531081e-07 1.45258582e-07 1.37382941e-07 4.43172695e-07\n",
      "  1.56800638e-07 5.02878486e-08 9.38761815e-08 7.05229581e-08\n",
      "  2.89115007e-08 4.36613249e-07 1.19999072e-07 3.39220030e-08\n",
      "  2.13058087e-08 5.33445075e-08 1.89613587e-07 2.85626982e-07\n",
      "  5.41746772e-07 4.99170483e-07 1.48143457e-07 3.27192907e-07\n",
      "  2.07396340e-07 3.86567905e-07 1.13487751e-07 3.04400828e-07\n",
      "  3.82542780e-08 1.13905749e-07 4.46356463e-09 4.31768008e-08\n",
      "  1.81239670e-07 5.62777309e-08 4.19287460e-07 6.49575185e-08\n",
      "  6.17686950e-08 6.66219719e-08 2.24579253e-08 5.50626112e-07\n",
      "  1.44337848e-08 5.04709980e-08 8.04646518e-08 1.38522793e-07\n",
      "  4.99651698e-08 2.83860651e-08 1.15134133e-08 1.17737002e-07\n",
      "  3.15736486e-08 1.72968299e-07 9.94251437e-08 1.76800921e-08\n",
      "  9.77953363e-08 4.43093455e-08 6.82121453e-08 9.94428717e-08\n",
      "  1.48331338e-07 2.71364335e-08 4.07304768e-08 4.19869473e-08\n",
      "  6.89418798e-08 3.60174752e-08 1.60395871e-07 4.82718683e-08\n",
      "  1.16137659e-08 1.27037623e-07 3.22691506e-07 1.49777847e-07\n",
      "  1.29606846e-07 9.73185621e-09 7.51872236e-08 2.76550853e-08\n",
      "  2.50822808e-07 1.42446439e-07 4.52660807e-08 2.68723621e-08\n",
      "  1.47252408e-07 1.14082845e-07 1.56903948e-08 5.06009012e-09\n",
      "  7.48099716e-09 1.59229590e-08 9.80044224e-09 1.69999126e-09\n",
      "  5.33279270e-08 1.04420678e-07 6.91883457e-08 1.77253270e-07\n",
      "  9.70087584e-08 2.02181852e-07 1.71617657e-07 5.38914069e-09\n",
      "  2.79180092e-08 3.02720160e-08 1.87582259e-07 1.06622345e-07\n",
      "  7.07958359e-09 3.71432876e-08 1.49622082e-07 7.18827735e-08\n",
      "  2.75634477e-07 7.31171923e-08 8.27248741e-08 3.63238577e-08\n",
      "  1.39388533e-07 2.72158456e-08 1.15266410e-08 4.70078820e-09\n",
      "  8.35704395e-09 5.49786483e-09 4.75575535e-09 5.03989961e-10\n",
      "  2.65157474e-09 3.54103902e-09 8.54157900e-09 3.46458613e-08\n",
      "  2.72210858e-08 4.68547476e-08 1.14950911e-08 6.00417494e-08\n",
      "  8.51511306e-09 8.11941803e-08 2.85603807e-09 2.06166479e-08\n",
      "  4.43832571e-09 1.16525518e-08 3.24785998e-09 3.45211038e-09\n",
      "  8.80806361e-09 1.01579927e-08 7.03159397e-09 8.08056022e-09\n",
      "  5.73356331e-08 4.67972949e-09 1.53294621e-07 1.02389834e-06\n",
      "  2.65666608e-06 5.61631026e-08 1.06317179e-06 7.83529401e-07\n",
      "  2.43990030e-07 4.61986822e-08 3.68668026e-07 8.76397692e-08\n",
      "  4.04969960e-08 3.29359509e-08 1.97688664e-07 2.56185587e-07\n",
      "  2.22245276e-07 3.06899643e-08 1.59271409e-07 2.15420766e-08\n",
      "  1.96963832e-08 2.94258200e-07 1.96925516e-08 8.69526104e-08\n",
      "  1.33795425e-06 1.65295209e-08 4.04728917e-09 1.93835508e-08\n",
      "  6.35844355e-09 3.34130834e-09 4.37796643e-09 7.47861506e-09\n",
      "  3.40376061e-09 9.17753837e-08 1.15330838e-08 7.16111401e-08\n",
      "  2.62549071e-09 4.34504784e-07 1.83498070e-08 1.92920790e-08\n",
      "  3.15694422e-07 5.10232269e-07 1.86825105e-07 1.08260876e-08\n",
      "  6.56467214e-10 5.42484706e-08 4.71888306e-08 3.58120156e-09\n",
      "  2.31087185e-08 2.32958142e-09 9.59798729e-09 1.91793625e-09\n",
      "  7.89763632e-09 1.42604506e-09 2.72482019e-08 3.63422004e-09\n",
      "  5.15213250e-09 1.26307880e-08 4.05638687e-08 8.54070308e-08\n",
      "  7.38899132e-07 1.27401108e-07 4.51497613e-08 4.79112202e-07\n",
      "  1.49351933e-07 1.29685603e-07 7.57571286e-08 2.48945273e-08\n",
      "  6.60800303e-09 4.68671502e-09 3.81626553e-09 2.34384356e-09\n",
      "  1.16453025e-09 1.07304112e-08 1.05925411e-08 1.01202042e-08\n",
      "  1.08221849e-08 2.10393605e-08 3.74617493e-08 2.37588171e-09\n",
      "  1.09862803e-08 1.16467298e-08 5.68321523e-09 1.80298887e-09\n",
      "  5.37810472e-08 3.46528278e-10 5.36379119e-09 1.47111967e-08\n",
      "  1.33130120e-08 2.97160585e-09 2.83656904e-10 6.05950934e-09\n",
      "  4.03714262e-09 2.05335304e-08 3.03563183e-08 7.14637736e-08\n",
      "  6.90693724e-09 5.02506170e-09 3.25348970e-09 1.11903864e-08\n",
      "  6.83488510e-09 8.11427547e-09 4.03161948e-08 6.50609593e-07\n",
      "  3.39491379e-07 1.84982696e-07 2.25960637e-08 3.71057385e-09\n",
      "  5.33397291e-08 2.85031604e-07 5.94906986e-08 9.92770453e-08\n",
      "  2.28828352e-08 2.04557693e-07 1.04853806e-08 1.42521586e-07\n",
      "  7.69943581e-05 2.05163929e-07 1.72899274e-06 1.08903144e-07\n",
      "  5.38519032e-07 2.16409632e-07 4.76194837e-04 1.57792547e-05\n",
      "  1.41919978e-08 1.06389137e-07 4.53912037e-07 1.83747360e-07\n",
      "  1.12185894e-07 7.35371941e-08 3.26061866e-07 3.12631135e-04\n",
      "  8.42995433e-08 1.18145074e-07 2.48865994e-08 3.45891458e-08\n",
      "  2.91414665e-07 5.93133564e-07 2.97228212e-06 3.12454489e-07\n",
      "  4.86040630e-09 1.39723516e-05 4.35386683e-05 1.45452699e-08\n",
      "  6.64759369e-04 6.47827733e-07 6.15032093e-07 8.47187920e-08\n",
      "  9.21080456e-08 6.06465846e-08 3.85209069e-06 1.33303707e-04\n",
      "  3.67664938e-07 9.59426885e-08 1.21409528e-07 1.79343793e-08\n",
      "  2.08594608e-09 6.38842153e-07 6.81113903e-08 5.86845090e-06\n",
      "  5.30215573e-07 1.50734838e-08 4.94863031e-08 2.30671908e-08\n",
      "  3.22137316e-06 1.74008434e-08 8.75748071e-07 3.71327187e-05\n",
      "  6.27729150e-07 3.68361057e-08 4.77409792e-08 1.67812413e-08\n",
      "  6.13700095e-08 7.20080564e-08 9.38990634e-05 6.59142529e-07\n",
      "  5.39528315e-08 5.96358623e-05 5.02241058e-08 6.79944012e-09\n",
      "  6.03847639e-09 4.49167092e-05 2.01713806e-06 1.42714597e-07\n",
      "  2.40701496e-07 5.31250635e-07 1.04829928e-06 9.35535013e-07\n",
      "  4.32076952e-08 2.27154032e-07 1.67326050e-07 2.93589910e-05\n",
      "  1.73376392e-07 1.44345290e-06 1.27547146e-08 5.76056550e-07\n",
      "  2.84120638e-08 1.48495882e-08 1.18314210e-05 3.24573186e-08\n",
      "  4.79114703e-08 1.25718373e-07 1.13532991e-07 6.01017831e-08\n",
      "  6.47459597e-09 4.91874630e-07 1.03209544e-07 1.25728443e-03\n",
      "  4.12578047e-05 6.51275841e-05 2.38119668e-07 1.21272217e-06\n",
      "  1.15343062e-06 7.79622155e-07 1.72885098e-06 1.53638648e-08\n",
      "  1.05605113e-05 9.83000774e-08 4.37119468e-07 5.36680211e-08\n",
      "  2.00895354e-08 2.85097803e-06 5.19101881e-08 5.73084051e-08\n",
      "  5.38398588e-08 2.20418812e-07 7.25200721e-07 1.32223670e-06\n",
      "  5.26477635e-08 1.58692330e-08 2.09042832e-06 4.57937267e-06\n",
      "  1.50640710e-06 2.04493915e-07 4.44641546e-06 3.61294519e-06\n",
      "  2.56350887e-08 3.40923805e-07 2.49008821e-07 2.41923942e-07\n",
      "  3.81749203e-07 1.59021685e-08 1.10260558e-07 2.57518366e-07\n",
      "  3.89391772e-07 3.40650814e-07 6.11623818e-07 2.82692531e-06\n",
      "  8.42575446e-07 5.15194820e-08 8.15733969e-08 3.68935495e-08\n",
      "  7.98243178e-08 1.87119312e-07 2.10898884e-06 2.15199725e-05\n",
      "  1.68217241e-07 2.07924899e-07 1.63326376e-07 5.38155263e-08\n",
      "  5.32820756e-08 4.82925714e-07 1.19841070e-06 1.06882305e-06\n",
      "  6.44698517e-08 7.20866296e-07 1.21281190e-07 7.10681925e-05\n",
      "  5.55781465e-09 1.43261589e-08 5.09583886e-09 2.41394332e-07\n",
      "  1.20304948e-08 3.19191599e-07 8.86071064e-07 8.92758408e-07\n",
      "  5.24156917e-07 7.20319662e-08 1.26930672e-07 2.57287813e-09\n",
      "  3.26423901e-08 1.43896388e-08 1.14928127e-06 1.54762461e-08\n",
      "  5.74120129e-08 3.26373262e-09 3.69983212e-07 8.83971211e-07\n",
      "  5.72659417e-07 3.55382971e-02 1.74095272e-09 4.06194658e-06\n",
      "  4.41883685e-06 7.10045970e-06 1.16965803e-05 1.30664219e-07\n",
      "  3.21102448e-06 2.50255175e-06 2.95419582e-08 6.88677176e-07\n",
      "  1.38195290e-07 3.49185711e-07 9.17084890e-07 1.10087811e-07\n",
      "  4.52119411e-06 1.26810216e-08 5.50797836e-07 4.64913397e-09\n",
      "  1.55781220e-06 4.99964381e-06 9.72914791e-07 2.86060131e-09\n",
      "  3.53792046e-07 1.44593004e-08 3.90362970e-07 1.53526074e-07\n",
      "  4.33992975e-09 9.10153449e-06 3.09656542e-07 5.01491343e-07\n",
      "  1.67002113e-07 7.61528099e-07 1.40784209e-07 5.03519971e-07\n",
      "  1.03783862e-06 6.47014019e-07 2.30339106e-06 3.42721307e-07\n",
      "  8.45524767e-07 1.39910526e-06 1.36837840e-01 4.11035970e-08\n",
      "  1.12609166e-06 1.09153487e-04 2.13158895e-08 1.62604183e-03\n",
      "  9.30615045e-07 6.04501975e-06 3.84168928e-08 1.61468677e-07\n",
      "  1.69177474e-06 1.77310665e-06 2.96337902e-07 6.52253149e-08\n",
      "  3.53824392e-09 3.41583473e-07 7.61421646e-08 2.44105092e-08\n",
      "  1.40553391e-06 1.23783693e-07 4.88929857e-08 1.83234661e-05\n",
      "  5.80934342e-04 2.44199072e-07 5.62474997e-05 3.92713133e-07\n",
      "  2.49331613e-08 4.47013532e-04 8.18171060e-08 1.86705478e-08\n",
      "  2.55045780e-08 3.65952383e-06 1.15856956e-07 1.38150227e-07\n",
      "  2.63414481e-08 2.67040945e-09 2.54902952e-05 1.23181145e-08\n",
      "  1.33350090e-06 1.18233050e-08 4.44736258e-07 4.41735068e-07\n",
      "  1.06141961e-07 1.66185732e-08 1.92458813e-08 3.23296177e-07\n",
      "  8.19739299e-08 2.43101476e-06 4.17929726e-07 3.60163774e-08\n",
      "  2.00331073e-07 7.40747680e-07 1.23968576e-07 6.60969874e-07\n",
      "  1.40892138e-04 2.78072343e-06 1.16092863e-07 6.54793155e-07\n",
      "  1.95926373e-06 5.47357937e-09 7.11700239e-04 1.84080434e-07\n",
      "  1.22424944e-06 1.26791079e-07 3.41153417e-09 2.50883181e-06\n",
      "  3.60683089e-06 8.64202150e-08 1.43261323e-08 7.88223247e-07\n",
      "  7.43063811e-06 2.28773033e-07 8.94078624e-08 1.65090569e-06\n",
      "  6.85487021e-06 7.09916378e-07 6.07079471e-07 2.35646755e-08\n",
      "  3.09916750e-08 2.01606923e-07 2.41999523e-08 5.38584800e-07\n",
      "  9.19212653e-07 1.62570232e-05 2.02909039e-04 1.42423483e-03\n",
      "  1.52215227e-06 6.71576515e-07 1.89129832e-08 6.30574970e-09\n",
      "  3.99207238e-07 2.54395722e-08 3.40959900e-07 7.95894039e-07\n",
      "  6.10598421e-04 3.95517930e-08 2.54019369e-07 1.00206947e-07\n",
      "  6.42347231e-10 2.26654629e-05 8.19201702e-08 4.70574264e-08\n",
      "  9.31487875e-07 3.63719010e-08 2.56232738e-07 6.10747520e-06\n",
      "  1.16011154e-06 5.32329113e-06 8.97472674e-08 1.15304942e-07\n",
      "  6.87977817e-08 5.32960112e-04 3.93876235e-07 2.48221198e-07\n",
      "  3.77232282e-05 8.44877164e-08 1.86077648e-06 1.00619680e-07\n",
      "  2.43482355e-05 3.02662556e-07 2.18364207e-07 1.22680387e-03\n",
      "  6.73172565e-07 7.65598361e-06 3.59539847e-08 2.71744170e-07\n",
      "  1.83572908e-07 7.16841384e-07 3.49872789e-05 1.62717964e-08\n",
      "  7.92656501e-05 1.25187057e-07 1.99417013e-06 7.65860477e-06\n",
      "  2.92956020e-06 2.48624638e-05 2.32504149e-08 5.60046544e-07\n",
      "  3.48745431e-07 1.70260144e-08 3.31790773e-08 4.55002955e-05\n",
      "  3.18382831e-08 1.71559095e-05 4.68884522e-08 6.16238367e-08\n",
      "  8.35028061e-07 6.78630313e-05 3.71221809e-08 1.52764801e-06\n",
      "  2.83415602e-07 2.61396366e-07 1.26094608e-06 2.37018458e-08\n",
      "  1.45212031e-09 7.63724088e-08 9.80183700e-07 3.66142473e-07\n",
      "  3.34822253e-04 2.64828174e-07 2.72662874e-07 5.32065947e-09\n",
      "  2.85957160e-08 1.78307946e-08 7.94798416e-06 3.38688437e-07\n",
      "  1.37299958e-06 1.17285488e-07 1.62934577e-06 3.52869108e-07\n",
      "  3.48497267e-08 8.42024929e-06 3.13298614e-07 2.59740659e-07\n",
      "  2.57480384e-08 1.60291929e-05 1.78656876e-08 2.30374670e-08\n",
      "  9.20246894e-05 1.62098726e-08 1.33991364e-07 7.47818331e-06\n",
      "  9.82659643e-08 3.64202180e-08 1.22438030e-06 4.20039760e-06\n",
      "  5.09137635e-07 2.90372981e-07 2.30548849e-07 7.90894195e-09\n",
      "  7.42551620e-08 3.49317837e-08 4.34972344e-06 1.03996183e-06\n",
      "  5.67720484e-08 2.23781793e-08 4.92552488e-07 1.12359965e-06\n",
      "  6.81926622e-07 2.77934724e-08 1.16142883e-06 2.44831335e-06\n",
      "  6.39157543e-06 1.32186926e-07 3.09381630e-06 4.78956608e-08\n",
      "  8.99045904e-09 6.56140628e-06 1.13984147e-08 4.80209561e-09\n",
      "  2.75599518e-07 1.28332260e-07 7.47454760e-04 4.63864041e-08\n",
      "  1.70720505e-05 1.34862745e-07 8.19982972e-07 1.90087206e-07\n",
      "  7.39053803e-06 6.89605222e-05 2.17658885e-06 1.63772231e-08\n",
      "  9.86489340e-07 7.46110459e-07 4.98666282e-08 1.29123896e-06\n",
      "  2.44234452e-05 5.49509913e-08 3.21585247e-07 5.30395891e-06\n",
      "  2.26423367e-06 3.43315332e-09 1.69657895e-07 1.10521398e-06\n",
      "  4.08402997e-07 5.07489091e-08 1.60525215e-05 2.62187889e-08\n",
      "  4.25056413e-07 5.78472950e-08 2.56542853e-06 4.59020896e-07\n",
      "  1.42013812e-06 3.08037365e-08 1.15120677e-07 5.92806977e-08\n",
      "  1.44597907e-05 1.13830110e-08 1.38595908e-08 9.72187486e-09\n",
      "  4.04492340e-07 7.61318972e-07 4.25941039e-07 1.23708219e-06\n",
      "  9.53728900e-08 1.95243643e-08 5.51997800e-05 1.52435978e-05\n",
      "  6.24063601e-09 2.52878777e-07 1.40737211e-05 9.10383449e-08\n",
      "  1.15457839e-08 3.33327222e-07 2.26563515e-08 8.06210423e-08\n",
      "  6.39011901e-08 2.70501869e-06 1.33406502e-07 2.08081321e-08\n",
      "  8.76788476e-07 3.21438364e-07 7.93151200e-01 1.95007380e-02\n",
      "  4.91842798e-07 5.04554555e-06 1.26426539e-03 1.84811029e-08\n",
      "  4.52823130e-08 1.66927485e-08 2.32903943e-07 2.86086521e-04\n",
      "  3.35638433e-08 8.27872313e-08 8.02878972e-08 2.83821834e-07\n",
      "  5.10510318e-08 4.59187959e-08 4.17532542e-09 4.78026685e-08\n",
      "  1.71023191e-06 1.52885974e-07 3.19353603e-07 2.86842294e-07\n",
      "  1.57600155e-07 2.41830639e-06 1.28259989e-08 1.96955572e-08\n",
      "  9.97983847e-08 6.15340667e-09 6.44229736e-09 8.82344864e-09\n",
      "  6.66340441e-08 4.42832061e-06 1.33336977e-08 6.49999876e-09\n",
      "  2.65421711e-08 1.92014715e-09 3.36465462e-07 5.78448649e-08\n",
      "  1.89935179e-07 6.36747927e-07 9.98487408e-08 3.13399505e-06\n",
      "  4.94787535e-08 4.07587475e-09 5.98693006e-08 1.43727573e-06\n",
      "  2.25550263e-08 9.73221432e-08 7.70011876e-09 1.70672310e-09\n",
      "  1.51508971e-07 5.73456909e-08 2.65521969e-08 2.18219220e-08\n",
      "  3.52188301e-09 2.18994334e-08 2.48666243e-08 8.16980972e-09\n",
      "  6.83104062e-09 3.37013595e-09 2.79620789e-08 3.96719990e-08\n",
      "  1.07698520e-06 1.33212428e-08 1.48919064e-08 4.65928940e-09\n",
      "  2.65026001e-09 8.43967172e-08 1.24449853e-05 2.11972875e-07\n",
      "  2.33836363e-06 1.47640583e-06 5.96818595e-08 1.86566751e-07\n",
      "  1.87351276e-07 8.90533514e-08 2.59234181e-08 2.43623361e-07\n",
      "  3.92299881e-07 2.64171348e-07 2.40361061e-07 2.88314865e-08\n",
      "  1.49883661e-08 4.00539086e-08 1.17179276e-07 3.64771040e-07\n",
      "  4.68477566e-07 2.69230882e-09 2.85591134e-10 2.17315488e-07\n",
      "  2.68359948e-08 3.15936255e-09 5.10100273e-09 9.06225139e-09\n",
      "  4.16230117e-09 2.75753798e-09 5.08507405e-08 2.61239319e-09\n",
      "  5.39114851e-08 8.43287218e-10 3.48112735e-07 2.32841543e-07]]\n"
     ]
    }
   ],
   "source": [
    "\n",
    "yhat = model.predict(image)\n",
    "\n",
    "print(yhat)"
   ]
  },
  {
   "cell_type": "markdown",
   "metadata": {},
   "source": [
    "Interpret Prediction"
   ]
  },
  {
   "cell_type": "code",
   "execution_count": null,
   "metadata": {},
   "outputs": [
    {
     "name": "stdout",
     "output_type": "stream",
     "text": [
      "water_bottle (79.32%)\n"
     ]
    }
   ],
   "source": [
    "\n",
    "from keras.applications.vgg16 import decode_predictions\n",
    "# convert the probabilities to class labels\n",
    "label = decode_predictions(yhat)\n",
    "# retrieve the most likely result, e.g. highest probability\n",
    "label = label[0][0]\n",
    "\n",
    "\n",
    "print('%s (%.2f%%)' % (label[1], label[2]*100))"
   ]
  },
  {
   "cell_type": "code",
   "execution_count": null,
   "metadata": {},
   "outputs": [],
   "source": []
  }
 ],
 "metadata": {
  "kernelspec": {
   "display_name": "Python 3",
   "language": "python",
   "name": "python3"
  },
  "language_info": {
   "codemirror_mode": {
    "name": "ipython",
    "version": 3
   },
   "file_extension": ".py",
   "mimetype": "text/x-python",
   "name": "python",
   "nbconvert_exporter": "python",
   "pygments_lexer": "ipython3",
   "version": "3.10.11"
  }
 },
 "nbformat": 4,
 "nbformat_minor": 2
}
