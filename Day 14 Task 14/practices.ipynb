{
 "cells": [
  {
   "cell_type": "markdown",
   "metadata": {},
   "source": [
    "Object-Oriented Programming (OOP)"
   ]
  },
  {
   "cell_type": "code",
   "execution_count": 5,
   "metadata": {},
   "outputs": [
    {
     "name": "stdout",
     "output_type": "stream",
     "text": [
      "<class '__main__.myclass'>\n",
      "print the value of the class :: 5\n"
     ]
    }
   ],
   "source": [
    "class myclass: #create a class\n",
    "    x = 5\n",
    "    \n",
    "print(myclass)\n",
    "\n",
    "#create a object of class\n",
    "c1 = myclass()\n",
    "print(\"print the value of the class ::\",c1.x)"
   ]
  },
  {
   "cell_type": "markdown",
   "metadata": {},
   "source": [
    "_init_() function"
   ]
  },
  {
   "cell_type": "code",
   "execution_count": 8,
   "metadata": {},
   "outputs": [
    {
     "name": "stdout",
     "output_type": "stream",
     "text": [
      "johan\n",
      "30\n",
      "<__main__.person object at 0x0000021671739160>\n"
     ]
    }
   ],
   "source": [
    "class person:\n",
    "    def __init__(self,name,age):\n",
    "        self.name = name #class atribute\n",
    "        self.age = age\n",
    "        \n",
    "p1 = person(\"johan\",30)\n",
    "\n",
    "print(p1.name)\n",
    "print(p1.age)\n",
    "\n",
    "print(p1)"
   ]
  },
  {
   "cell_type": "markdown",
   "metadata": {},
   "source": [
    "The_str_() function\n",
    "\n",
    "The string representation of an object WITH the __str__() function:"
   ]
  },
  {
   "cell_type": "code",
   "execution_count": 10,
   "metadata": {},
   "outputs": [
    {
     "name": "stdout",
     "output_type": "stream",
     "text": [
      "johan(30)\n"
     ]
    }
   ],
   "source": [
    "class person:\n",
    "    def __init__(self,name,age):\n",
    "        self.name = name\n",
    "        self.age = age\n",
    "        \n",
    "    def __str__(self):\n",
    "        return f\"{self.name}({self.age})\"\n",
    "    \n",
    "p1 = person(\"johan\",30)\n",
    "\n",
    "print(p1)"
   ]
  },
  {
   "cell_type": "code",
   "execution_count": 20,
   "metadata": {},
   "outputs": [
    {
     "name": "stdout",
     "output_type": "stream",
     "text": [
      "hello my name is merry\n",
      "age is 40\n",
      "object is deleted\n"
     ]
    }
   ],
   "source": [
    "#insert function\n",
    "class person:\n",
    "    def __init__(self,name,age):\n",
    "        self.name = name\n",
    "        self.age = age\n",
    "\n",
    "    def myfun(xy):\n",
    "        print(\"hello my name is \" + xy.name)\n",
    "    \n",
    "p1 = person(\"merry\",25)\n",
    "p1.myfun()\n",
    "\n",
    "#MODIFY AGE\n",
    "\n",
    "p1.age = 40\n",
    "\n",
    "print(\"age is\",p1.age) \n",
    "\n",
    "#del the object propertie\n",
    "\n",
    "del p1\n",
    "print(\"object is deleted\")"
   ]
  },
  {
   "cell_type": "markdown",
   "metadata": {},
   "source": [
    "Pass statement"
   ]
  },
  {
   "cell_type": "code",
   "execution_count": 23,
   "metadata": {},
   "outputs": [],
   "source": [
    "class myclass2:\n",
    "    pass\n"
   ]
  },
  {
   "cell_type": "code",
   "execution_count": 24,
   "metadata": {},
   "outputs": [
    {
     "name": "stdout",
     "output_type": "stream",
     "text": [
      "Japan\n",
      "Nude\n",
      "guce\n",
      "kolu\n",
      "chin\n",
      "Japan\n"
     ]
    }
   ],
   "source": [
    "class machine:\n",
    "    d_city = \"Japan\"    #class variable\n",
    "    \n",
    "    def __init__(self,name,year):\n",
    "        self.name = name #intance variable\n",
    "        self.year = year\n",
    "        \n",
    "m1 = machine(\"Nude\",2002)\n",
    "m2 = machine(\"guce\",1997)\n",
    "\n",
    "print(m1.d_city)\n",
    "print(m1.name)\n",
    "print(m2.name)\n",
    "\n",
    "#modify name\n",
    "m1.name = \"kolu\"\n",
    "print(m1.name)\n",
    "\n",
    "m1.d_city = \"chin\"\n",
    "print(m1.d_city)\n",
    "print(m2.d_city)"
   ]
  },
  {
   "cell_type": "markdown",
   "metadata": {},
   "source": [
    "Inheritance"
   ]
  },
  {
   "cell_type": "code",
   "execution_count": 11,
   "metadata": {},
   "outputs": [
    {
     "name": "stdout",
     "output_type": "stream",
     "text": [
      "John Olsen\n",
      "John Olsen 30\n"
     ]
    }
   ],
   "source": [
    "class students:\n",
    "    def __init__(self, fname, lname):\n",
    "        self.firstname = fname\n",
    "        self.lastname = lname\n",
    "\n",
    "    def print_name(self):\n",
    "        print(self.firstname, self.lastname)\n",
    "\n",
    "\n",
    "class student(students):\n",
    "    def __init__(self, fname, lname, age):\n",
    "        super().__init__(fname, lname)  \n",
    "        self.age = age\n",
    "\n",
    "    def print_ns(self):\n",
    "        print(self.firstname, self.lastname, self.age)\n",
    "\n",
    "\n",
    "\n",
    "s = student(\"John\", \"Olsen\", 30)\n",
    "\n",
    "\n",
    "s.print_name()\n",
    "s.print_ns()\n"
   ]
  },
  {
   "cell_type": "markdown",
   "metadata": {},
   "source": [
    "Polymorphism"
   ]
  },
  {
   "cell_type": "code",
   "execution_count": 20,
   "metadata": {},
   "outputs": [
    {
     "name": "stdout",
     "output_type": "stream",
     "text": [
      "eating food\n",
      "eats fish\n",
      "eats vagetables\n"
     ]
    }
   ],
   "source": [
    "class animal:\n",
    "    def __init__(self,name):\n",
    "        self.name = name\n",
    "    \n",
    "    def eat(self):\n",
    "        print(\"eating food\")     \n",
    "        \n",
    "\n",
    "class dog(animal):\n",
    "    def eat(self):\n",
    "        print(\"eats bones\")\n",
    "        \n",
    "class cat(animal):\n",
    "    def eat(self):\n",
    "        print(\"eats fish\")\n",
    "    \n",
    "class rabbit(animal):\n",
    "    def eat(self):\n",
    "        print(\"eats vagetables\")\n",
    "\n",
    "d = dog(\"GIL\")\n",
    "c = cat(\"MISPA\")\n",
    "r = rabbit(\"hibno\")\n",
    "\n",
    "d.eat()\n",
    "c.eat()\n",
    "r.eat()\n",
    "    "
   ]
  },
  {
   "cell_type": "code",
   "execution_count": null,
   "metadata": {},
   "outputs": [],
   "source": []
  }
 ],
 "metadata": {
  "kernelspec": {
   "display_name": "Python 3",
   "language": "python",
   "name": "python3"
  },
  "language_info": {
   "codemirror_mode": {
    "name": "ipython",
    "version": 3
   },
   "file_extension": ".py",
   "mimetype": "text/x-python",
   "name": "python",
   "nbconvert_exporter": "python",
   "pygments_lexer": "ipython3",
   "version": "3.12.6"
  }
 },
 "nbformat": 4,
 "nbformat_minor": 2
}
