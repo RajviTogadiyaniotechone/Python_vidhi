{
 "cells": [
  {
   "cell_type": "markdown",
   "metadata": {},
   "source": [
    "Data structure : sets"
   ]
  },
  {
   "cell_type": "code",
   "execution_count": 41,
   "metadata": {},
   "outputs": [
    {
     "name": "stdout",
     "output_type": "stream",
     "text": [
      "{'cherry', 'banana', 'apple'}\n"
     ]
    }
   ],
   "source": [
    "#duplicate not allowed\n",
    "this_set = {\"apple\",\"banana\",\"cherry\",\"apple\"}\n",
    "print(this_set)"
   ]
  },
  {
   "cell_type": "code",
   "execution_count": 42,
   "metadata": {},
   "outputs": [
    {
     "name": "stdout",
     "output_type": "stream",
     "text": [
      "{'chair', True, 3, 'table'}\n"
     ]
    }
   ],
   "source": [
    "#The values True and 1 are considered the same value in sets\n",
    "\n",
    "set1 = {\"table\",\"chair\",True,3,1}\n",
    "print(set1)"
   ]
  },
  {
   "cell_type": "code",
   "execution_count": 10,
   "metadata": {},
   "outputs": [
    {
     "name": "stdout",
     "output_type": "stream",
     "text": [
      "{'banana', False, True, 'apple', 'cherry'}\n",
      "5\n"
     ]
    }
   ],
   "source": [
    "#The values False and 0 are considered the same value in sets\n",
    "\n",
    "set2 = {\"banana\",\"cherry\",False,\"apple\",True}\n",
    "print(set2)\n",
    "\n",
    "#check a length of set\n",
    "\n",
    "print(len(set2))"
   ]
  },
  {
   "cell_type": "markdown",
   "metadata": {},
   "source": [
    "Data Type\n",
    "A set with strings, integers and boolean values"
   ]
  },
  {
   "cell_type": "code",
   "execution_count": 38,
   "metadata": {},
   "outputs": [
    {
     "name": "stdout",
     "output_type": "stream",
     "text": [
      "{False, True, 'mouse', 'computer', 'table', 45}\n",
      "<class 'set'>\n"
     ]
    }
   ],
   "source": [
    "my_set = {True ,\"table\" , \"mouse\",\"computer\",45,False}\n",
    "print(my_set)\n",
    "\n",
    "print(type(my_set))"
   ]
  },
  {
   "cell_type": "markdown",
   "metadata": {},
   "source": [
    "set constructor"
   ]
  },
  {
   "cell_type": "code",
   "execution_count": 40,
   "metadata": {},
   "outputs": [
    {
     "name": "stdout",
     "output_type": "stream",
     "text": [
      "{'cherry', 'banana', 'mango'}\n"
     ]
    }
   ],
   "source": [
    "set_con = set((\"banana\",\"cherry\",\"mango\"))\n",
    "print(set_con)"
   ]
  },
  {
   "cell_type": "markdown",
   "metadata": {},
   "source": [
    "Access items sets\n",
    "\n",
    "using for loop"
   ]
  },
  {
   "cell_type": "code",
   "execution_count": 21,
   "metadata": {},
   "outputs": [
    {
     "name": "stdout",
     "output_type": "stream",
     "text": [
      "laptop\n",
      "mouse\n",
      "apple\n",
      "computer\n",
      "False\n",
      "True\n",
      "False\n"
     ]
    }
   ],
   "source": [
    "my_set = {\"apple\",\"computer\",\"mouse\",\"laptop\"}\n",
    "\n",
    "for x in my_set:\n",
    "    print(x)\n",
    "    \n",
    "#check item present in set\n",
    "\n",
    "print(\"banana\" in my_set)\n",
    "\n",
    "print(\"computer\" in my_set)\n",
    "\n",
    "print(\"apple\" not in my_set)"
   ]
  },
  {
   "cell_type": "markdown",
   "metadata": {},
   "source": [
    "Add the item in set"
   ]
  },
  {
   "cell_type": "code",
   "execution_count": 24,
   "metadata": {},
   "outputs": [
    {
     "name": "stdout",
     "output_type": "stream",
     "text": [
      "{'mouse', 'orange', 'laptop', 'apple', 'computer'}\n"
     ]
    }
   ],
   "source": [
    "my_set = {\"apple\",\"computer\",\"mouse\",\"laptop\"}\n",
    "my_set.add(\"orange\")\n",
    "print(my_set)"
   ]
  },
  {
   "cell_type": "markdown",
   "metadata": {},
   "source": [
    "Update\n",
    "\n",
    "To add items from another set into the current set, use the update() method"
   ]
  },
  {
   "cell_type": "code",
   "execution_count": 26,
   "metadata": {},
   "outputs": [
    {
     "name": "stdout",
     "output_type": "stream",
     "text": [
      "{'banana', 'mouse', 'cherry', 'laptop', 'mango', 'pineapple', 'apple', 'computer'}\n"
     ]
    }
   ],
   "source": [
    "my_set = {\"apple\",\"computer\",\"mouse\",\"laptop\"}\n",
    "fruit = {\"banana\",\"cherry\",\"mango\",\"pineapple\"}\n",
    "\n",
    "my_set.update(fruit)\n",
    "\n",
    "print(my_set)"
   ]
  },
  {
   "cell_type": "code",
   "execution_count": 28,
   "metadata": {},
   "outputs": [
    {
     "name": "stdout",
     "output_type": "stream",
     "text": [
      "{'mouse', 'orange', 'laptop', 'mango', 'computer'}\n"
     ]
    }
   ],
   "source": [
    "#add the item list to set\n",
    "\n",
    "my_set1 = {\"orange\",\"mango\"}\n",
    "list1 = [\"computer\",\"mouse\",\"laptop\"]\n",
    "\n",
    "my_set1.update(list1)\n",
    "print(my_set1)"
   ]
  },
  {
   "cell_type": "markdown",
   "metadata": {},
   "source": [
    "Remove item \n",
    "\n",
    "using remove() and discard() method"
   ]
  },
  {
   "cell_type": "code",
   "execution_count": 37,
   "metadata": {},
   "outputs": [
    {
     "name": "stdout",
     "output_type": "stream",
     "text": [
      "{'laptop', 'mouse', 'apple', 'computer'}\n",
      "{'laptop', 'mouse', 'apple'}\n",
      "{'laptop', 'mouse'}\n",
      "{'laptop', 'mouse'}\n"
     ]
    }
   ],
   "source": [
    "my_set = {\"apple\",\"computer\",\"mouse\",\"laptop\"}\n",
    "print(my_set)\n",
    "\n",
    "#remove method\n",
    "my_set.remove(\"computer\")\n",
    "print(my_set)\n",
    "\n",
    "#discard method\n",
    "my_set.discard(\"apple\")\n",
    "print(my_set)\n",
    "\n",
    "#discard not raise an error\n",
    "my_set.discard(\"banana\")\n",
    "print(my_set)\n"
   ]
  },
  {
   "cell_type": "code",
   "execution_count": 39,
   "metadata": {},
   "outputs": [
    {
     "name": "stdout",
     "output_type": "stream",
     "text": [
      "{'mouse', 'apple', 'computer'}\n"
     ]
    }
   ],
   "source": [
    "#remove item using pop()\n",
    "my_set = {\"apple\",\"computer\",\"mouse\",\"laptop\"}\n",
    "my_set.pop()\n",
    "print(my_set)\n"
   ]
  },
  {
   "cell_type": "code",
   "execution_count": 41,
   "metadata": {},
   "outputs": [
    {
     "name": "stdout",
     "output_type": "stream",
     "text": [
      "set()\n"
     ]
    }
   ],
   "source": [
    "#clear() method\n",
    "\n",
    "my_set = {\"apple\",\"computer\",\"mouse\",\"laptop\"}\n",
    "my_set.clear()\n",
    "print(my_set)"
   ]
  },
  {
   "cell_type": "code",
   "execution_count": 45,
   "metadata": {},
   "outputs": [],
   "source": [
    "#del keyword\n",
    "my_set = {\"apple\",\"computer\",\"mouse\",\"laptop\"}\n",
    "\n",
    "del my_set\n"
   ]
  },
  {
   "cell_type": "markdown",
   "metadata": {},
   "source": [
    "Join set"
   ]
  },
  {
   "cell_type": "markdown",
   "metadata": {},
   "source": [
    "Union"
   ]
  },
  {
   "cell_type": "code",
   "execution_count": 47,
   "metadata": {},
   "outputs": [
    {
     "name": "stdout",
     "output_type": "stream",
     "text": [
      "{'banana', 1, 5, 6, 'cherry', 45, 'apple', 23, 90}\n"
     ]
    }
   ],
   "source": [
    "#Join set1 and set2 into a new set\n",
    "\n",
    "set1 = {23,5,6,1,45,90}\n",
    "set2 = {\"apple\",\"banana\",\"cherry\"}\n",
    "set3 = set1.union(set2)\n",
    "print(set3)"
   ]
  },
  {
   "cell_type": "code",
   "execution_count": 49,
   "metadata": {},
   "outputs": [
    {
     "name": "stdout",
     "output_type": "stream",
     "text": [
      "{'banana', 1, 5, 6, 'cherry', 45, 'apple', 23, 90}\n"
     ]
    }
   ],
   "source": [
    "#You can use the '|' operator instead of the union() method, and you will get the same result.\n",
    "\n",
    "set1 = {23,5,6,1,45,90}\n",
    "set2 = {\"apple\",\"banana\",\"cherry\"}\n",
    "\n",
    "set3 = set1 | set2\n",
    "print(set3)"
   ]
  },
  {
   "cell_type": "markdown",
   "metadata": {},
   "source": [
    "join multiple set into "
   ]
  },
  {
   "cell_type": "code",
   "execution_count": 36,
   "metadata": {},
   "outputs": [
    {
     "name": "stdout",
     "output_type": "stream",
     "text": [
      "{'cherry', 1, 5, 6, 'john', 'mohan', 45, 'apple', 'orange', 'red', 'banana', 'blue', 'manichand', 'purple', 23, 90}\n",
      "{'cherry', 1, 5, 6, 'john', 'mohan', 45, 'apple', 'orange', 'red', 'banana', 'blue', 'manichand', 'purple', 23, 90}\n",
      "cherry\n",
      "1\n",
      "5\n",
      "6\n",
      "john\n",
      "mohan\n",
      "45\n",
      "apple\n",
      "orange\n",
      "red\n",
      "banana\n",
      "blue\n",
      "manichand\n",
      "purple\n",
      "23\n",
      "90\n"
     ]
    }
   ],
   "source": [
    "set1 = {23,5,6,1,45,90}\n",
    "set2 = {\"apple\",\"banana\",\"cherry\"}\n",
    "set3 = {\"john\",\"mohan\",\"manichand\"}\n",
    "set4 = {\"red\",\"blue\",\"purple\",\"orange\"}\n",
    "\n",
    "my_set = set1.union(set2,set3,set4)\n",
    "print(my_set)\n",
    "\n",
    "#join using | operator\n",
    "my_set = set1 | set2 | set3 | set4 \n",
    "print(my_set)\n",
    "\n",
    "for i in my_set:\n",
    "    print(i)"
   ]
  },
  {
   "cell_type": "markdown",
   "metadata": {},
   "source": [
    "Join a Set and a Tuple\n"
   ]
  },
  {
   "cell_type": "code",
   "execution_count": 37,
   "metadata": {},
   "outputs": [
    {
     "name": "stdout",
     "output_type": "stream",
     "text": [
      "{1, 7, 'a', 45, 'd', 'l', 'y'}\n"
     ]
    }
   ],
   "source": [
    "#using union()\n",
    "\n",
    "set_n = {\"a\",\"d\",\"y\",\"l\"}\n",
    "tuple1 = (1,45,7)\n",
    "\n",
    "new_set = set_n.union(tuple1)\n",
    "print(new_set)"
   ]
  },
  {
   "cell_type": "markdown",
   "metadata": {},
   "source": [
    "intersection()"
   ]
  },
  {
   "cell_type": "code",
   "execution_count": 5,
   "metadata": {},
   "outputs": [
    {
     "name": "stdout",
     "output_type": "stream",
     "text": [
      "{'banana'}\n"
     ]
    }
   ],
   "source": [
    "set1 = {\"apple\",\"banana\",\"cherry\"}\n",
    "set2 = {\"banana\",\"red\",\"black\"}\n",
    "\n",
    "set3 = set1.intersection(set2)\n",
    "print(set3)"
   ]
  },
  {
   "cell_type": "code",
   "execution_count": 7,
   "metadata": {},
   "outputs": [
    {
     "name": "stdout",
     "output_type": "stream",
     "text": [
      "{'apple'}\n"
     ]
    }
   ],
   "source": [
    "#You can use the & operator instead of the intersection() method\n",
    "\n",
    "set1 = {\"google\",\"microsoft\",\"infosys\",\"apple\"}\n",
    "set2 = {\"apple\",\"banana\",\"orange\"}\n",
    "\n",
    "set3 = set1 & set2\n",
    "print(set3)"
   ]
  },
  {
   "cell_type": "markdown",
   "metadata": {},
   "source": [
    "Difference"
   ]
  },
  {
   "cell_type": "code",
   "execution_count": 2,
   "metadata": {},
   "outputs": [
    {
     "name": "stdout",
     "output_type": "stream",
     "text": [
      "{'google', 'infosys', 'microsoft'}\n"
     ]
    }
   ],
   "source": [
    "#return only first set value and not same item show\n",
    "set1 = {\"google\",\"microsoft\",\"infosys\",\"apple\"}\n",
    "set2 = {\"apple\",\"banana\",\"orange\"}\n",
    "\n",
    "set3 = set1.difference(set2)\n",
    "\n",
    "print(set3)"
   ]
  },
  {
   "cell_type": "code",
   "execution_count": 4,
   "metadata": {},
   "outputs": [
    {
     "name": "stdout",
     "output_type": "stream",
     "text": [
      "{'google', 'infosys', 'microsoft'}\n"
     ]
    }
   ],
   "source": [
    "#you can use '-' operator instead of the difference() method\n",
    "\n",
    "#return only first set value and not same item show\n",
    "set1 = {\"google\",\"microsoft\",\"infosys\",\"apple\"}\n",
    "set2 = {\"apple\",\"banana\",\"orange\",\"red\"}\n",
    "\n",
    "set3 = set1 - set2\n",
    "\n",
    "print(set3)"
   ]
  },
  {
   "cell_type": "markdown",
   "metadata": {},
   "source": [
    "different_update"
   ]
  },
  {
   "cell_type": "code",
   "execution_count": 8,
   "metadata": {},
   "outputs": [
    {
     "name": "stdout",
     "output_type": "stream",
     "text": [
      "{'google', 'infosys', 'microsoft'}\n"
     ]
    }
   ],
   "source": [
    "set1 = {\"google\",\"microsoft\",\"infosys\",\"apple\"}\n",
    "set2 = {\"apple\",\"banana\",\"orange\",\"red\"}\n",
    "\n",
    "set1.difference_update(set2)\n",
    "\n",
    "print(set1)"
   ]
  },
  {
   "cell_type": "markdown",
   "metadata": {},
   "source": [
    "Symmetric Differences\n"
   ]
  },
  {
   "cell_type": "code",
   "execution_count": 10,
   "metadata": {},
   "outputs": [
    {
     "name": "stdout",
     "output_type": "stream",
     "text": [
      "{'google', 'red', 'orange', 'banana', 'infosys', 'microsoft'}\n"
     ]
    }
   ],
   "source": [
    "#Remove an element from a set; it must be a member. If the element is not a member, raise a KeyError.\n",
    "set1 = {\"google\",\"microsoft\",\"infosys\",\"apple\"}\n",
    "set2 = {\"apple\",\"banana\",\"orange\",\"red\"}\n",
    "\n",
    "set3 = set1.symmetric_difference(set2)\n",
    "\n",
    "print(set3)"
   ]
  },
  {
   "cell_type": "code",
   "execution_count": 12,
   "metadata": {},
   "outputs": [
    {
     "name": "stdout",
     "output_type": "stream",
     "text": [
      "{'google', 'red', 'orange', 'banana', 'infosys', 'microsoft'}\n"
     ]
    }
   ],
   "source": [
    "#You can use the ^ operator instead of the symmetric_difference() method\n",
    "\n",
    "set1 = {\"google\",\"microsoft\",\"infosys\",\"apple\"}\n",
    "set2 = {\"apple\",\"banana\",\"orange\",\"red\"}\n",
    "\n",
    "set3 = set1^set2\n",
    "\n",
    "print(set3)"
   ]
  },
  {
   "cell_type": "code",
   "execution_count": 13,
   "metadata": {},
   "outputs": [
    {
     "name": "stdout",
     "output_type": "stream",
     "text": [
      "{'google', 'red', 'orange', 'infosys', 'banana', 'microsoft'}\n"
     ]
    }
   ],
   "source": [
    "set1 = {\"google\",\"microsoft\",\"infosys\",\"apple\"}\n",
    "set2 = {\"apple\",\"banana\",\"orange\",\"red\"}\n",
    "\n",
    "set1.symmetric_difference_update(set2)\n",
    "\n",
    "print(set1)"
   ]
  },
  {
   "cell_type": "markdown",
   "metadata": {},
   "source": [
    "copy()"
   ]
  },
  {
   "cell_type": "code",
   "execution_count": 14,
   "metadata": {},
   "outputs": [
    {
     "name": "stdout",
     "output_type": "stream",
     "text": [
      "{'banana', 'apple', 'orange'}\n"
     ]
    }
   ],
   "source": [
    "fruit = {\"apple\",\"banana\",\"orange\"}\n",
    "\n",
    "x = fruit.copy()\n",
    "\n",
    "print(x)"
   ]
  },
  {
   "cell_type": "markdown",
   "metadata": {},
   "source": [
    "isdisjoint() method\n",
    "\n",
    "Return True if no items in set x is present in set y"
   ]
  },
  {
   "cell_type": "code",
   "execution_count": 16,
   "metadata": {},
   "outputs": [
    {
     "name": "stdout",
     "output_type": "stream",
     "text": [
      "True\n"
     ]
    }
   ],
   "source": [
    "x = {\"apple\" ,\"banana\",\"cherry\"}\n",
    "y = {\"microsoft\",\"facebook\",\"infosys\"}\n",
    "\n",
    "n_set = x.isdisjoint(y)\n",
    "\n",
    "print(n_set)"
   ]
  },
  {
   "cell_type": "code",
   "execution_count": 18,
   "metadata": {},
   "outputs": [
    {
     "name": "stdout",
     "output_type": "stream",
     "text": [
      "False\n"
     ]
    }
   ],
   "source": [
    "x = {\"apple\" ,\"banana\",\"cherry\"}\n",
    "y = {\"microsoft\",\"facebook\",\"infosys\",\"apple\"}\n",
    "\n",
    "n_set = x.isdisjoint(y)\n",
    "\n",
    "print(n_set)\n"
   ]
  },
  {
   "cell_type": "markdown",
   "metadata": {},
   "source": [
    "issubset() method"
   ]
  },
  {
   "cell_type": "code",
   "execution_count": 19,
   "metadata": {},
   "outputs": [
    {
     "name": "stdout",
     "output_type": "stream",
     "text": [
      "True\n"
     ]
    }
   ],
   "source": [
    "x = {\"a\",\"g\",\"t\"}\n",
    "y = {\"f\",\"e\",\"a\",\"l\",\"g\",\"t\"}\n",
    "\n",
    "z = x.issubset(y)\n",
    "\n",
    "print(z)"
   ]
  },
  {
   "cell_type": "markdown",
   "metadata": {},
   "source": [
    "#As a shortcut, you can use the <= operator "
   ]
  },
  {
   "cell_type": "code",
   "execution_count": 22,
   "metadata": {},
   "outputs": [
    {
     "name": "stdout",
     "output_type": "stream",
     "text": [
      "False\n"
     ]
    }
   ],
   "source": [
    "x = {\"a\",\"g\",\"t\"}\n",
    "y = {\"f\",\"e\",\"a\",\"l\",\"t\"}\n",
    "\n",
    "z = x <= y\n",
    "\n",
    "print(z)"
   ]
  },
  {
   "cell_type": "code",
   "execution_count": 27,
   "metadata": {},
   "outputs": [
    {
     "name": "stdout",
     "output_type": "stream",
     "text": [
      "False\n"
     ]
    }
   ],
   "source": [
    "y = {\"f\",\"e\",\"a\",\"l\",\"t\"}\n",
    "x = {\"a\",\"g\",\"t\"}\n",
    "\n",
    "z = x.issuperset(y)\n",
    "\n",
    "print(z)"
   ]
  },
  {
   "cell_type": "code",
   "execution_count": 30,
   "metadata": {},
   "outputs": [
    {
     "name": "stdout",
     "output_type": "stream",
     "text": [
      "True\n"
     ]
    }
   ],
   "source": [
    "x = {\"a\",\"g\",\"t\"}\n",
    "y = {\"f\",\"e\",\"a\",\"l\",\"g\",\"t\"}\n",
    "\n",
    "z = y.issuperset(x)\n",
    "\n",
    "print(z)"
   ]
  },
  {
   "cell_type": "code",
   "execution_count": 32,
   "metadata": {},
   "outputs": [
    {
     "name": "stdout",
     "output_type": "stream",
     "text": [
      "False\n"
     ]
    }
   ],
   "source": [
    "y = {\"f\",\"e\",\"a\",\"l\",\"t\"}\n",
    "x = {\"a\",\"g\",\"t\"}\n",
    "    \n",
    "z = x >= y\n",
    "\n",
    "print(z)"
   ]
  },
  {
   "cell_type": "code",
   "execution_count": 43,
   "metadata": {},
   "outputs": [
    {
     "name": "stdout",
     "output_type": "stream",
     "text": [
      "30\n"
     ]
    }
   ],
   "source": [
    "from sympy import*\n",
    "\n",
    "x = prod([1,2,3],5)\n",
    "\n",
    "print(x)"
   ]
  },
  {
   "cell_type": "code",
   "execution_count": 35,
   "metadata": {},
   "outputs": [
    {
     "name": "stdout",
     "output_type": "stream",
     "text": [
      "True\n",
      "frozenset({11, 12, 13, 14})\n",
      "frozenset({11, 12, 13, 14, 23, 24, 25, 26})\n"
     ]
    }
   ],
   "source": [
    "a = frozenset([11, 12, 13, 14])\n",
    "\n",
    "b = frozenset([23, 24, 25, 26])\n",
    "\n",
    "print(a.isdisjoint(b))\n",
    "\n",
    "print(a.difference(b))\n",
    "\n",
    "print(a|b)"
   ]
  }
 ],
 "metadata": {
  "kernelspec": {
   "display_name": "Python 3",
   "language": "python",
   "name": "python3"
  },
  "language_info": {
   "codemirror_mode": {
    "name": "ipython",
    "version": 3
   },
   "file_extension": ".py",
   "mimetype": "text/x-python",
   "name": "python",
   "nbconvert_exporter": "python",
   "pygments_lexer": "ipython3",
   "version": "3.12.6"
  }
 },
 "nbformat": 4,
 "nbformat_minor": 2
}
