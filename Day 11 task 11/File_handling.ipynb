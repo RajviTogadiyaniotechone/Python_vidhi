{
 "cells": [
  {
   "cell_type": "markdown",
   "metadata": {},
   "source": [
    "File Handling"
   ]
  },
  {
   "cell_type": "markdown",
   "metadata": {},
   "source": [
    "1 .Write a program to create a text file and write some content to it."
   ]
  },
  {
   "cell_type": "code",
   "execution_count": 5,
   "metadata": {},
   "outputs": [
    {
     "name": "stdout",
     "output_type": "stream",
     "text": [
      "File 'demo_f.txt' created and content written successfully.\n",
      "Hello this is a python file.\n",
      "What I Forgot To Remember.\n",
      "It’s finally here – the last installment of the Carl  “I Remember” Trilogy (which is not to say he won’t continue to remember and write). In 2012, Carl wrote his hilarious and heartwarming memoir, “I Remember Me,” chronicling ninety years of living and laughing, with twelve  and a Grammy to attest to his esteemed career in show business. Over the next two years, so many more stories continued to flood Carl’s memory that he felt compelled to follow up with the equally rich and funny, “I Just Remembered.” In this latest work, “What I Forgot To Remember,” Carl has written a book that goes beyond the scope of mere life and showbiz memories.\n"
     ]
    }
   ],
   "source": [
    "File_name = \"demo_f.txt\"\n",
    "\n",
    "with open(\"demo_f.txt\",\"w\") as file:\n",
    "    file.write(\"Hello this is a python file.\\n\")\n",
    "    file.write(\"What I Forgot To Remember.\\n\")\n",
    "    file.write(\"It’s finally here – the last installment of the Carl  “I Remember” Trilogy (which is not to say he won’t continue to remember and write). In 2012, Carl wrote his hilarious and heartwarming memoir, “I Remember Me,” chronicling ninety years of living and laughing, with twelve  and a Grammy to attest to his esteemed career in show business. Over the next two years, so many more stories continued to flood Carl’s memory that he felt compelled to follow up with the equally rich and funny, “I Just Remembered.” In this latest work, “What I Forgot To Remember,” Carl has written a book that goes beyond the scope of mere life and showbiz memories.\")\n",
    "\n",
    "    print(f\"File '{\"demo_f.txt\"}' created and content written successfully.\")\n",
    "\n",
    "f = open(\"demo_f.txt\" ,\"r\")\n",
    "print(f.read())\n",
    "\n",
    "f = open(\"demo_f.txt\")"
   ]
  },
  {
   "cell_type": "markdown",
   "metadata": {},
   "source": [
    "2.Read the content of a file and print it."
   ]
  },
  {
   "cell_type": "code",
   "execution_count": 7,
   "metadata": {},
   "outputs": [
    {
     "name": "stdout",
     "output_type": "stream",
     "text": [
      "Hello this is a python file.\n",
      "What I Forgot To Remember.\n",
      "It’s finally here – the last installment of the Carl  “I Remember” Trilogy (which is not to say he won’t continue to remember and write). In 2012, Carl wrote his hilarious and heartwarming memoir, “I Remember Me,” chronicling ninety years of living and laughing, with twelve  and a Grammy to attest to his esteemed career in show business. Over the next two years, so many more stories continued to flood Carl’s memory that he felt compelled to follow up with the equally rich and funny, “I Just Remembered.” In this latest work, “What I Forgot To Remember,” Carl has written a book that goes beyond the scope of mere life and showbiz memories.\n"
     ]
    }
   ],
   "source": [
    "f = open(\"demo_f.txt\",\"r\")\n",
    "print(f.read())"
   ]
  },
  {
   "cell_type": "markdown",
   "metadata": {},
   "source": [
    "3.Write a program to count the number of lines in a file."
   ]
  },
  {
   "cell_type": "code",
   "execution_count": 9,
   "metadata": {},
   "outputs": [
    {
     "name": "stdout",
     "output_type": "stream",
     "text": [
      "Number of lines : 12\n"
     ]
    }
   ],
   "source": [
    "with open(\"newfile.txt\",\"r\") as file:\n",
    "    line_count = sum(1 for line in file)\n",
    "\n",
    "print(f\"Number of lines : {line_count}\")"
   ]
  },
  {
   "cell_type": "code",
   "execution_count": 10,
   "metadata": {},
   "outputs": [
    {
     "name": "stdout",
     "output_type": "stream",
     "text": [
      "Total number of lines : 12\n"
     ]
    }
   ],
   "source": [
    "with open(r\"newfile.txt\",\"r\") as fn:\n",
    "    for count,line in enumerate(fn):\n",
    "        pass\n",
    "\n",
    "print(\"Total number of lines :\",count + 1)"
   ]
  }
 ],
 "metadata": {
  "kernelspec": {
   "display_name": "Python 3",
   "language": "python",
   "name": "python3"
  },
  "language_info": {
   "codemirror_mode": {
    "name": "ipython",
    "version": 3
   },
   "file_extension": ".py",
   "mimetype": "text/x-python",
   "name": "python",
   "nbconvert_exporter": "python",
   "pygments_lexer": "ipython3",
   "version": "3.12.6"
  }
 },
 "nbformat": 4,
 "nbformat_minor": 2
}
